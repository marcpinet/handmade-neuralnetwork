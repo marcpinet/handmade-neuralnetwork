{
 "cells": [
  {
   "cell_type": "markdown",
   "metadata": {},
   "source": [
    "# Simple MNIST multiclass classification (using CNN)"
   ]
  },
  {
   "cell_type": "markdown",
   "metadata": {
    "tags": []
   },
   "source": [
    "## Imports"
   ]
  },
  {
   "cell_type": "code",
   "execution_count": 28,
   "metadata": {
    "ExecuteTime": {
     "end_time": "2024-11-11T23:26:37.736450700Z",
     "start_time": "2024-11-11T23:26:37.720445400Z"
    }
   },
   "outputs": [],
   "source": [
    "import numpy as np\n",
    "import matplotlib.pyplot as plt\n",
    "from tensorflow.keras.datasets import mnist\n",
    "\n",
    "from neuralnetlib.activations import ReLU\n",
    "from neuralnetlib.layers import Input, Conv2D, MaxPooling2D, Flatten, Dense, Activation\n",
    "from neuralnetlib.models import Model\n",
    "from neuralnetlib.preprocessing import one_hot_encode\n",
    "from neuralnetlib.metrics import accuracy_score, f1_score, recall_score\n",
    "from neuralnetlib.utils import train_test_split"
   ]
  },
  {
   "cell_type": "markdown",
   "metadata": {},
   "source": [
    "## 1. Loading a dataset (in this case, MNIST)"
   ]
  },
  {
   "cell_type": "code",
   "execution_count": 29,
   "metadata": {
    "ExecuteTime": {
     "end_time": "2024-11-11T23:26:38.897685500Z",
     "start_time": "2024-11-11T23:26:38.749600400Z"
    }
   },
   "outputs": [],
   "source": [
    "(x_train, y_train), (x_test, y_test) = mnist.load_data()\n",
    "x_test, x_val, y_test, y_val = train_test_split(x_test, y_test, test_size=0.2, random_state=42)"
   ]
  },
  {
   "cell_type": "markdown",
   "metadata": {},
   "source": [
    "## 2. Preprocessing"
   ]
  },
  {
   "cell_type": "code",
   "execution_count": 38,
   "metadata": {
    "ExecuteTime": {
     "end_time": "2024-11-11T23:38:41.732832Z",
     "start_time": "2024-11-11T23:38:41.617301Z"
    }
   },
   "outputs": [],
   "source": [
    "x_train = x_train.reshape(-1, 1, 28, 28) / 255.0  # Normalization and reshaping of the images for CNN\n",
    "x_test = x_test.reshape(-1, 1, 28, 28) / 255.0  # Normalization and reshaping of the images for CNN\n",
    "x_val = x_val.reshape(-1, 1, 28, 28) / 255.0  # Normalization and reshaping of the images for CNN\n",
    "y_train = one_hot_encode(y_train, num_classes=10)  # One-hot encoding of the labels\n",
    "y_test = one_hot_encode(y_test, num_classes=10)  # One-hot encoding of the labels\n",
    "y_val = one_hot_encode(y_val, num_classes=10)  # One-hot encoding of the labels"
   ]
  },
  {
   "cell_type": "markdown",
   "metadata": {},
   "source": [
    "## 3. Model definition"
   ]
  },
  {
   "cell_type": "code",
   "execution_count": 31,
   "metadata": {
    "ExecuteTime": {
     "end_time": "2024-11-11T23:26:41.389405500Z",
     "start_time": "2024-11-11T23:26:41.382734900Z"
    }
   },
   "outputs": [],
   "source": [
    "model = Model()\n",
    "model.add(Input(input_shape=(1, 28, 28)))\n",
    "model.add(Conv2D(filters=8, kernel_size=(3, 3), random_state=42))\n",
    "model.add(Activation(ReLU()))\n",
    "model.add(MaxPooling2D(pool_size=2))\n",
    "model.add(Conv2D(filters=16, kernel_size=(3, 3), random_state=42))\n",
    "model.add(Activation(ReLU()))\n",
    "model.add(MaxPooling2D(pool_size=(2, 2)))\n",
    "model.add(Flatten())\n",
    "model.add(Dense(32, random_state=42))\n",
    "model.add(Activation(ReLU()))\n",
    "model.add(Dense(10, random_state=42, activation=\"softmax\"))  # Yeah, you can also use strings for the activation functions, or directly the class"
   ]
  },
  {
   "cell_type": "markdown",
   "metadata": {},
   "source": [
    "## 4. Model compilation"
   ]
  },
  {
   "cell_type": "code",
   "execution_count": 32,
   "metadata": {
    "ExecuteTime": {
     "end_time": "2024-11-11T23:26:42.721782300Z",
     "start_time": "2024-11-11T23:26:42.714781500Z"
    }
   },
   "outputs": [
    {
     "name": "stdout",
     "output_type": "stream",
     "text": [
      "Model\n",
      "-------------------------------------------------\n",
      "Layer 1: Input(input_shape=(1, 28, 28))\n",
      "Layer 2: Conv2D(num_filters=8, kernel_size=(3, 3), stride=(1, 1), padding=valid)\n",
      "Layer 3: Activation(ReLU)\n",
      "Layer 4: MaxPooling2D(pool_size=(2, 2), stride=(2, 2), padding=valid)\n",
      "Layer 5: Conv2D(num_filters=16, kernel_size=(3, 3), stride=(1, 1), padding=valid)\n",
      "Layer 6: Activation(ReLU)\n",
      "Layer 7: MaxPooling2D(pool_size=(2, 2), stride=(2, 2), padding=valid)\n",
      "Layer 8: Flatten\n",
      "Layer 9: Dense(units=32)\n",
      "Layer 10: Activation(ReLU)\n",
      "Layer 11: Dense(units=10)\n",
      "Layer 12: Activation(Softmax)\n",
      "-------------------------------------------------\n",
      "Loss function: CategoricalCrossentropy\n",
      "Optimizer: Adam(learning_rate=0.001, beta_1=0.9, beta_2=0.999, epsilon=1e-08, clip_norm=None, clip_value=None)\n",
      "-------------------------------------------------\n"
     ]
    }
   ],
   "source": [
    "model.compile(loss_function=\"cce\", optimizer=\"adam\")  # You can also use strings for the loss function and the optimizer\n",
    "\n",
    "model.summary()"
   ]
  },
  {
   "cell_type": "markdown",
   "metadata": {},
   "source": [
    "## 5. Model training"
   ]
  },
  {
   "cell_type": "code",
   "execution_count": 33,
   "metadata": {
    "ExecuteTime": {
     "end_time": "2024-11-11T23:33:17.574873800Z",
     "start_time": "2024-11-11T23:26:44.315615800Z"
    }
   },
   "outputs": [
    {
     "name": "stdout",
     "output_type": "stream",
     "text": [
      "[==============================] 100% Epoch 1/10 - loss: 0.3072 - accuracy: 0.9037 - 36.18s - val_accuracy: 0.9709\n",
      "[==============================] 100% Epoch 2/10 - loss: 0.1016 - accuracy: 0.9692 - 39.63s - val_accuracy: 0.9798\n",
      "[==============================] 100% Epoch 3/10 - loss: 0.0802 - accuracy: 0.9765 - 37.82s - val_accuracy: 0.9822\n",
      "[==============================] 100% Epoch 4/10 - loss: 0.0691 - accuracy: 0.9798 - 36.55s - val_accuracy: 0.9835\n",
      "[==============================] 100% Epoch 5/10 - loss: 0.0617 - accuracy: 0.9825 - 36.58s - val_accuracy: 0.9844\n",
      "[==============================] 100% Epoch 6/10 - loss: 0.0560 - accuracy: 0.9847 - 37.05s - val_accuracy: 0.9842\n",
      "[==============================] 100% Epoch 7/10 - loss: 0.0520 - accuracy: 0.9860 - 37.88s - val_accuracy: 0.9849\n",
      "[==============================] 100% Epoch 8/10 - loss: 0.0492 - accuracy: 0.9868 - 37.03s - val_accuracy: 0.9842\n",
      "[==============================] 100% Epoch 9/10 - loss: 0.0464 - accuracy: 0.9878 - 38.37s - val_accuracy: 0.9855\n",
      "[==============================] 100% Epoch 10/10 - loss: 0.0441 - accuracy: 0.9884 - 41.71s - val_accuracy: 0.9860\n"
     ]
    },
    {
     "data": {
      "text/plain": ""
     },
     "execution_count": 33,
     "metadata": {},
     "output_type": "execute_result"
    }
   ],
   "source": [
    "model.fit(x_train, y_train, epochs=10, batch_size=64, metrics=[\n",
    "            \"accuracy\"], random_state=42, validation_data=(x_test, y_test))"
   ]
  },
  {
   "cell_type": "markdown",
   "metadata": {},
   "source": [
    "## 6. Model evaluation"
   ]
  },
  {
   "cell_type": "code",
   "execution_count": 7,
   "metadata": {
    "ExecuteTime": {
     "end_time": "2024-11-11T23:09:12.095425700Z",
     "start_time": "2024-11-11T23:09:11.271457900Z"
    }
   },
   "outputs": [
    {
     "name": "stdout",
     "output_type": "stream",
     "text": [
      "Test loss: 0.12769228934974092\n"
     ]
    }
   ],
   "source": [
    "loss, _ = model.evaluate(x_val, y_val)\n",
    "print(f'Test loss: {loss}')"
   ]
  },
  {
   "cell_type": "markdown",
   "metadata": {},
   "source": [
    "## 7. Model prediction"
   ]
  },
  {
   "cell_type": "code",
   "execution_count": 39,
   "metadata": {
    "ExecuteTime": {
     "end_time": "2024-11-11T23:38:46.616521900Z",
     "start_time": "2024-11-11T23:38:46.203649700Z"
    }
   },
   "outputs": [],
   "source": [
    "y_pred = model.predict(x_val)"
   ]
  },
  {
   "cell_type": "markdown",
   "metadata": {},
   "source": [
    "## 8. Printing some metrics"
   ]
  },
  {
   "cell_type": "code",
   "execution_count": 40,
   "metadata": {
    "ExecuteTime": {
     "end_time": "2024-11-11T23:38:48.125964500Z",
     "start_time": "2024-11-11T23:38:48.093879Z"
    }
   },
   "outputs": [
    {
     "name": "stdout",
     "output_type": "stream",
     "text": [
      "accuracy: 0.9825\n",
      "f1_score: 0.9820683461687337\n",
      "recall_score 0.9820652084404549\n"
     ]
    }
   ],
   "source": [
    "print(\"accuracy:\", accuracy_score(y_pred, y_val))\n",
    "print(\"f1_score:\", f1_score(y_pred, y_val))\n",
    "print(\"recall_score\", recall_score(y_pred, y_val))"
   ]
  },
  {
   "cell_type": "markdown",
   "metadata": {},
   "source": [
    "## 9. Plot the first 10 test images, their predicted labels, and the true labels."
   ]
  },
  {
   "cell_type": "code",
   "execution_count": 43,
   "metadata": {
    "ExecuteTime": {
     "end_time": "2024-11-11T23:39:17.237422300Z",
     "start_time": "2024-11-11T23:39:17.088867400Z"
    }
   },
   "outputs": [
    {
     "data": {
      "text/plain": "<Figure size 1000x1000 with 10 Axes>",
      "image/png": "[encoded data removed]"
     },
     "metadata": {},
     "output_type": "display_data"
    }
   ],
   "source": [
    "fig = plt.figure(figsize=(10, 10))\n",
    "for i in range(10):\n",
    "    ax = fig.add_subplot(5, 2, i + 1, xticks=[], yticks=[])\n",
    "    ax.imshow(x_val[i].reshape(28, 28), cmap='gray')\n",
    "    ax.set_title(f\"Predicted: {np.argmax(y_pred[i])}, Actual: {np.argmax(y_val[i])}\")\n",
    "plt.show()"
   ]
  },
  {
   "cell_type": "markdown",
   "metadata": {},
   "source": [
    "## 10. Save the model"
   ]
  },
  {
   "cell_type": "code",
   "execution_count": 11,
   "metadata": {
    "ExecuteTime": {
     "end_time": "2024-11-11T23:09:13.303341800Z",
     "start_time": "2024-11-11T23:09:13.210298700Z"
    }
   },
   "outputs": [],
   "source": [
    "model.save(\"my_mnist_model.npz\")"
   ]
  }
 ],
 "metadata": {
  "kernelspec": {
   "display_name": "Python 3 (ipykernel)",
   "language": "python",
   "name": "python3"
  },
  "language_info": {
   "codemirror_mode": {
    "name": "ipython",
    "version": 3
   },
   "file_extension": ".py",
   "mimetype": "text/x-python",
   "name": "python",
   "nbconvert_exporter": "python",
   "pygments_lexer": "ipython3",
   "version": "3.10.8"
  }
 },
 "nbformat": 4,
 "nbformat_minor": 4
}
