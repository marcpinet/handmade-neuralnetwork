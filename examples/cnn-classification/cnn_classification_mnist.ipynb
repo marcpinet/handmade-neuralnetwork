{
 "cells": [
  {
   "cell_type": "markdown",
   "metadata": {},
   "source": [
    "# Simple MNIST multiclass classification (using CNN)"
   ]
  },
  {
   "cell_type": "markdown",
   "metadata": {
    "tags": []
   },
   "source": [
    "## Imports"
   ]
  },
  {
   "cell_type": "code",
   "execution_count": 7,
   "metadata": {
    "ExecuteTime": {
     "end_time": "2024-11-17T11:11:52.331449300Z",
     "start_time": "2024-11-17T11:11:52.281453600Z"
    }
   },
   "outputs": [],
   "source": [
    "import numpy as np\n",
    "import matplotlib.pyplot as plt\n",
    "from tensorflow.keras.datasets import mnist\n",
    "\n",
    "from neuralnetlib.activations import ReLU\n",
    "from neuralnetlib.layers import Input, Conv2D, MaxPooling2D, Flatten, Dense, Activation\n",
    "from neuralnetlib.models import Sequential\n",
    "from neuralnetlib.preprocessing import one_hot_encode\n",
    "from neuralnetlib.metrics import accuracy_score, recall_score, f1_score \n",
    "from neuralnetlib.utils import train_test_split"
   ]
  },
  {
   "cell_type": "markdown",
   "metadata": {},
   "source": [
    "## 1. Loading a dataset (in this case, MNIST)"
   ]
  },
  {
   "cell_type": "code",
   "execution_count": 8,
   "metadata": {
    "ExecuteTime": {
     "end_time": "2024-11-17T11:11:52.444357500Z",
     "start_time": "2024-11-17T11:11:52.289970400Z"
    }
   },
   "outputs": [],
   "source": [
    "(x_train, y_train), (x_test, y_test) = mnist.load_data()\n",
    "x_test, x_val, y_test, y_val = train_test_split(x_test, y_test, test_size=0.2, random_state=42)"
   ]
  },
  {
   "cell_type": "markdown",
   "metadata": {},
   "source": [
    "## 2. Preprocessing"
   ]
  },
  {
   "cell_type": "code",
   "execution_count": 9,
   "metadata": {
    "ExecuteTime": {
     "end_time": "2024-11-17T11:11:52.554589700Z",
     "start_time": "2024-11-17T11:11:52.445357900Z"
    }
   },
   "outputs": [],
   "source": [
    "x_train = x_train.reshape(-1, 28, 28, 1) / 255.0  # Normalization and reshaping of the images for CNN\n",
    "x_test = x_test.reshape(-1, 28, 28, 1) / 255.0    # Normalization and reshaping of the images for CNN\n",
    "x_val = x_val.reshape(-1, 28, 28, 1) / 255.0      # Normalization and reshaping of the images for CNN\n",
    "\n",
    "y_train = one_hot_encode(y_train, num_classes=10)  # One-hot encoding of the labels\n",
    "y_test = one_hot_encode(y_test, num_classes=10)  # One-hot encoding of the labels\n",
    "y_val = one_hot_encode(y_val, num_classes=10)  # One-hot encoding of the labels"
   ]
  },
  {
   "cell_type": "markdown",
   "metadata": {},
   "source": [
    "## 3. Model definition"
   ]
  },
  {
   "cell_type": "code",
   "execution_count": 10,
   "metadata": {
    "ExecuteTime": {
     "end_time": "2024-11-17T11:11:52.570116100Z",
     "start_time": "2024-11-17T11:11:52.557094400Z"
    }
   },
   "outputs": [],
   "source": [
    "model = Sequential()\n",
    "model.add(Input(input_shape=(28, 28, 1)))\n",
    "model.add(Conv2D(filters=8, kernel_size=(3, 3), random_state=42))\n",
    "model.add(Activation(ReLU()))\n",
    "model.add(MaxPooling2D(pool_size=2))\n",
    "model.add(Conv2D(filters=16, kernel_size=(3, 3), random_state=42))\n",
    "model.add(Activation(ReLU()))\n",
    "model.add(MaxPooling2D(pool_size=(2, 2)))\n",
    "model.add(Flatten())\n",
    "model.add(Dense(32, random_state=42))\n",
    "model.add(Activation(ReLU()))\n",
    "model.add(Dense(10, random_state=42, activation=\"softmax\"))  # Yeah, you can also use strings for the activation functions, or directly the class"
   ]
  },
  {
   "cell_type": "markdown",
   "metadata": {},
   "source": [
    "## 4. Model compilation"
   ]
  },
  {
   "cell_type": "code",
   "execution_count": 11,
   "metadata": {
    "ExecuteTime": {
     "end_time": "2024-11-17T11:11:52.614690600Z",
     "start_time": "2024-11-17T11:11:52.570116100Z"
    }
   },
   "outputs": [
    {
     "name": "stdout",
     "output_type": "stream",
     "text": [
      "Sequential(temperature=1.0, gradient_clip_threshold=5.0, enable_padding=False, padding_size=32, random_state=1731841912555589700)\n",
      "-------------------------------------------------\n",
      "Layer 1: Input(input_shape=(28, 28, 1))\n",
      "Layer 2: Conv2D(num_filters=8, kernel_size=(3, 3), strides=(1, 1), padding=valid)\n",
      "Layer 3: Activation(ReLU)\n",
      "Layer 4: MaxPooling2D(pool_size=(2, 2), strides=(2, 2), padding=valid)\n",
      "Layer 5: Conv2D(num_filters=16, kernel_size=(3, 3), strides=(1, 1), padding=valid)\n",
      "Layer 6: Activation(ReLU)\n",
      "Layer 7: MaxPooling2D(pool_size=(2, 2), strides=(2, 2), padding=valid)\n",
      "Layer 8: Flatten\n",
      "Layer 9: Dense(units=32)\n",
      "Layer 10: Activation(ReLU)\n",
      "Layer 11: Dense(units=10)\n",
      "Layer 12: Activation(Softmax)\n",
      "-------------------------------------------------\n",
      "Loss function: CategoricalCrossentropy\n",
      "Optimizer: Adam(learning_rate=0.001, beta_1=0.9, beta_2=0.999, epsilon=1e-08, clip_norm=None, clip_value=None)\n",
      "-------------------------------------------------\n"
     ]
    }
   ],
   "source": [
    "model.compile(loss_function=\"cce\", optimizer=\"adam\")  # You can also use strings for the loss function and the optimizer\n",
    "\n",
    "model.summary()"
   ]
  },
  {
   "cell_type": "markdown",
   "metadata": {},
   "source": [
    "## 5. Model training"
   ]
  },
  {
   "cell_type": "code",
   "execution_count": null,
   "metadata": {
    "is_executing": true,
    "ExecuteTime": {
     "start_time": "2024-11-17T11:11:52.585642Z"
    }
   },
   "outputs": [
    {
     "name": "stdout",
     "output_type": "stream",
     "text": [
      "[==============================] 100% Epoch 1/10 - loss: 0.3228 - accuracy: 0.9002 - 30.15s - val_accuracy: 0.9655\n",
      "[------------------------------] 0% Epoch 2/10 - loss: 0.1188 - accuracy: 0.9570 - 0.39s"
     ]
    }
   ],
   "source": [
    "model.fit(x_train, y_train, epochs=10, batch_size=64, metrics=[\n",
    "            \"accuracy\"], random_state=42, validation_data=(x_test, y_test))"
   ]
  },
  {
   "cell_type": "markdown",
   "metadata": {},
   "source": [
    "## 6. Model evaluation"
   ]
  },
  {
   "cell_type": "code",
   "execution_count": null,
   "metadata": {
    "is_executing": true
   },
   "outputs": [],
   "source": [
    "loss, _ = model.evaluate(x_val, y_val)\n",
    "print(f'Test loss: {loss}')"
   ]
  },
  {
   "cell_type": "markdown",
   "metadata": {},
   "source": [
    "## 7. Model prediction"
   ]
  },
  {
   "cell_type": "code",
   "execution_count": null,
   "metadata": {
    "is_executing": true
   },
   "outputs": [],
   "source": [
    "y_pred = model.predict(x_val)"
   ]
  },
  {
   "cell_type": "markdown",
   "metadata": {},
   "source": [
    "## 8. Printing some metrics"
   ]
  },
  {
   "cell_type": "code",
   "execution_count": null,
   "metadata": {
    "is_executing": true
   },
   "outputs": [],
   "source": [
    "print(\"accuracy:\", accuracy_score(y_pred, y_val))\n",
    "print(\"f1_score:\", f1_score(y_pred, y_val))\n",
    "print(\"recall_score\", recall_score(y_pred, y_val))"
   ]
  },
  {
   "cell_type": "markdown",
   "metadata": {},
   "source": [
    "## 9. Plot the first 10 test images, their predicted labels, and the true labels."
   ]
  },
  {
   "cell_type": "code",
   "execution_count": null,
   "metadata": {
    "is_executing": true
   },
   "outputs": [],
   "source": [
    "fig = plt.figure(figsize=(10, 10))\n",
    "for i in range(10):\n",
    "    ax = fig.add_subplot(5, 2, i + 1, xticks=[], yticks=[])\n",
    "    ax.imshow(x_val[i].reshape(28, 28), cmap='gray')\n",
    "    ax.set_title(f\"Predicted: {np.argmax(y_pred[i])}, Actual: {np.argmax(y_val[i])}\")\n",
    "plt.show()"
   ]
  },
  {
   "cell_type": "markdown",
   "metadata": {},
   "source": [
    "## 10. Save the model"
   ]
  },
  {
   "cell_type": "code",
   "execution_count": null,
   "metadata": {
    "is_executing": true
   },
   "outputs": [],
   "source": [
    "model.save(\"my_mnist_model.npz\")"
   ]
  }
 ],
 "metadata": {
  "kernelspec": {
   "display_name": "Python 3 (ipykernel)",
   "language": "python",
   "name": "python3"
  },
  "language_info": {
   "codemirror_mode": {
    "name": "ipython",
    "version": 3
   },
   "file_extension": ".py",
   "mimetype": "text/x-python",
   "name": "python",
   "nbconvert_exporter": "python",
   "pygments_lexer": "ipython3",
   "version": "3.10.8"
  }
 },
 "nbformat": 4,
 "nbformat_minor": 4
}
