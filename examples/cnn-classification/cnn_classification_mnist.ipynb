{
 "cells": [
  {
   "cell_type": "markdown",
   "metadata": {},
   "source": [
    "# Simple MNIST multiclass classification (using CNN)"
   ]
  },
  {
   "cell_type": "markdown",
   "metadata": {
    "tags": []
   },
   "source": [
    "## Imports"
   ]
  },
  {
   "cell_type": "code",
   "execution_count": 1,
   "metadata": {
    "ExecuteTime": {
     "end_time": "2024-09-22T21:32:07.913450400Z",
     "start_time": "2024-09-22T21:32:05.718419200Z"
    }
   },
   "outputs": [],
   "source": [
    "import numpy as np\n",
    "import matplotlib.pyplot as plt\n",
    "from tensorflow.keras.datasets import mnist\n",
    "\n",
    "from neuralnetlib.activations import ReLU, Softmax\n",
    "from neuralnetlib.layers import Input, Conv2D, MaxPooling2D, Flatten, Dense, Activation, AveragePooling2D\n",
    "from neuralnetlib.losses import CategoricalCrossentropy\n",
    "from neuralnetlib.model import Model\n",
    "from neuralnetlib.optimizers import Adam\n",
    "from neuralnetlib.preprocessing import one_hot_encode\n",
    "from neuralnetlib.metrics import accuracy_score, f1_score, recall_score"
   ]
  },
  {
   "cell_type": "markdown",
   "metadata": {},
   "source": [
    "## 1. Loading a dataset (in this case, MNIST)"
   ]
  },
  {
   "cell_type": "code",
   "execution_count": 2,
   "metadata": {
    "ExecuteTime": {
     "end_time": "2024-09-22T21:32:08.056161400Z",
     "start_time": "2024-09-22T21:32:07.915452400Z"
    }
   },
   "outputs": [],
   "source": [
    "(x_train, y_train), (x_test, y_test) = mnist.load_data()"
   ]
  },
  {
   "cell_type": "markdown",
   "metadata": {},
   "source": [
    "## 2. Preprocessing"
   ]
  },
  {
   "cell_type": "code",
   "execution_count": 3,
   "metadata": {
    "ExecuteTime": {
     "end_time": "2024-09-22T21:32:08.147899800Z",
     "start_time": "2024-09-22T21:32:08.053650300Z"
    }
   },
   "outputs": [],
   "source": [
    "x_train = x_train.reshape(-1, 1, 28, 28) / 255.0  # Normalization and reshaping of the images for CNN\n",
    "x_test = x_test.reshape(-1, 1, 28, 28) / 255.0  # Normalization and reshaping of the images for CNN\n",
    "y_train = one_hot_encode(y_train, num_classes=10)  # One-hot encoding of the labels\n",
    "y_test = one_hot_encode(y_test, num_classes=10)  # One-hot encoding of the labels"
   ]
  },
  {
   "cell_type": "markdown",
   "metadata": {},
   "source": [
    "## 3. Model definition"
   ]
  },
  {
   "cell_type": "code",
   "execution_count": 4,
   "metadata": {
    "ExecuteTime": {
     "end_time": "2024-09-22T21:32:08.163408200Z",
     "start_time": "2024-09-22T21:32:08.147899800Z"
    }
   },
   "outputs": [
    {
     "data": {
      "text/plain": "\"\\n    Side note: if you set the following:\\n    \\n        - filters to 8 and 16 (in this order)\\n        - padding of the Conv2D layers to 'same'\\n        - weights initialization to 'he'\\n    \\n    you'll get an accuracy of ~0.9975 which is actually pretty cool\\n\""
     },
     "execution_count": 4,
     "metadata": {},
     "output_type": "execute_result"
    }
   ],
   "source": [
    "model = Model()\n",
    "model.add(Input(input_shape=(1, 28, 28)))\n",
    "model.add(Conv2D(filters=4, kernel_size=2, random_state=42))\n",
    "model.add(Activation(ReLU()))\n",
    "model.add(MaxPooling2D(pool_size=2))\n",
    "model.add(Conv2D(filters=8, kernel_size=2, random_state=42))\n",
    "model.add(Activation(ReLU()))\n",
    "model.add(AveragePooling2D(pool_size=2))\n",
    "model.add(Flatten())\n",
    "model.add(Dense(64, random_state=42))\n",
    "model.add(Activation(ReLU()))\n",
    "model.add(Dense(10, random_state=42, activation=\"softmax\"))  # Yeah, you can also use strings for the activation functions, or directly the class\n",
    "\n",
    "\"\"\"\n",
    "    Side note: if you set the following:\n",
    "    \n",
    "        - filters to 8 and 16 (in this order)\n",
    "        - padding of the Conv2D layers to 'same'\n",
    "        - weights initialization to 'he'\n",
    "    \n",
    "    you'll get an accuracy of ~0.9975 which is actually pretty cool\n",
    "\"\"\""
   ]
  },
  {
   "cell_type": "markdown",
   "metadata": {},
   "source": [
    "## 4. Model compilation"
   ]
  },
  {
   "cell_type": "code",
   "execution_count": 5,
   "metadata": {
    "ExecuteTime": {
     "end_time": "2024-09-22T21:32:08.209470200Z",
     "start_time": "2024-09-22T21:32:08.164406800Z"
    }
   },
   "outputs": [
    {
     "name": "stdout",
     "output_type": "stream",
     "text": [
      "Model\n",
      "-------------------------------------------------\n",
      "Layer 1: Input(input_shape=(1, 28, 28))\n",
      "Layer 2: Conv2D(num_filters=4, kernel_size=(2, 2), stride=(1, 1), padding=valid)\n",
      "Layer 3: Activation(ReLU)\n",
      "Layer 4: MaxPooling2D(pool_size=(2, 2), stride=(2, 2), padding=valid)\n",
      "Layer 5: Conv2D(num_filters=8, kernel_size=(2, 2), stride=(1, 1), padding=valid)\n",
      "Layer 6: Activation(ReLU)\n",
      "Layer 7: AveragePooling2D(pool_size=(2, 2), stride=(2, 2), padding=valid)\n",
      "Layer 8: Flatten\n",
      "Layer 9: Dense(units=64)\n",
      "Layer 10: Activation(ReLU)\n",
      "Layer 11: Dense(units=10)\n",
      "Layer 12: Activation(Softmax)\n",
      "-------------------------------------------------\n",
      "Loss function: CategoricalCrossentropy\n",
      "Optimizer: Adam(learning_rate=0.001, beta_1=0.9, beta_2=0.999, epsilon=1e-08)\n",
      "-------------------------------------------------\n"
     ]
    }
   ],
   "source": [
    "model.compile(loss_function=\"cce\", optimizer=\"adam\")  # You can also use strings for the loss function and the optimizer\n",
    "\n",
    "model.summary()"
   ]
  },
  {
   "cell_type": "markdown",
   "metadata": {},
   "source": [
    "## 5. Model training"
   ]
  },
  {
   "cell_type": "code",
   "execution_count": 6,
   "metadata": {
    "ExecuteTime": {
     "end_time": "2024-09-22T21:34:58.553485Z",
     "start_time": "2024-09-22T21:32:08.179948200Z"
    }
   },
   "outputs": [
    {
     "name": "stdout",
     "output_type": "stream",
     "text": [
      "[==============================] 100% Epoch 1/10 - loss: 0.7200 - accuracy: 0.7635 - 15.83s - val_accuracy: 0.8955\n",
      "[==============================] 100% Epoch 2/10 - loss: 0.3133 - accuracy: 0.9008 - 16.39s - val_accuracy: 0.9168\n",
      "[==============================] 100% Epoch 3/10 - loss: 0.2532 - accuracy: 0.9204 - 16.10s - val_accuracy: 0.9295\n",
      "[==============================] 100% Epoch 4/10 - loss: 0.2167 - accuracy: 0.9334 - 16.04s - val_accuracy: 0.9378\n",
      "[==============================] 100% Epoch 5/10 - loss: 0.1920 - accuracy: 0.9416 - 15.89s - val_accuracy: 0.9419\n",
      "[==============================] 100% Epoch 6/10 - loss: 0.1732 - accuracy: 0.9475 - 16.53s - val_accuracy: 0.9475\n",
      "[==============================] 100% Epoch 7/10 - loss: 0.1574 - accuracy: 0.9524 - 15.98s - val_accuracy: 0.9501\n",
      "[==============================] 100% Epoch 8/10 - loss: 0.1439 - accuracy: 0.9568 - 16.32s - val_accuracy: 0.9538\n",
      "[==============================] 100% Epoch 9/10 - loss: 0.1328 - accuracy: 0.9597 - 16.38s - val_accuracy: 0.9572\n",
      "[==============================] 100% Epoch 10/10 - loss: 0.1232 - accuracy: 0.9629 - 16.56s - val_accuracy: 0.9591\n"
     ]
    }
   ],
   "source": [
    "model.fit(x_train, y_train, epochs=10, batch_size=128, metrics=[\n",
    "            \"accuracy\"], random_state=42, validation_data=(x_test, y_test))"
   ]
  },
  {
   "cell_type": "markdown",
   "metadata": {},
   "source": [
    "## 6. Model evaluation"
   ]
  },
  {
   "cell_type": "code",
   "execution_count": 7,
   "metadata": {
    "ExecuteTime": {
     "end_time": "2024-09-22T21:34:59.411359900Z",
     "start_time": "2024-09-22T21:34:58.555484800Z"
    }
   },
   "outputs": [
    {
     "name": "stdout",
     "output_type": "stream",
     "text": [
      "Test loss: 0.1342540788279363\n"
     ]
    }
   ],
   "source": [
    "loss = model.evaluate(x_test, y_test)\n",
    "print(f'Test loss: {loss}')"
   ]
  },
  {
   "cell_type": "markdown",
   "metadata": {},
   "source": [
    "## 7. Model prediction"
   ]
  },
  {
   "cell_type": "code",
   "execution_count": 8,
   "metadata": {
    "ExecuteTime": {
     "end_time": "2024-09-22T21:35:00.252551Z",
     "start_time": "2024-09-22T21:34:59.410359Z"
    }
   },
   "outputs": [],
   "source": [
    "y_pred = model.predict(x_test)"
   ]
  },
  {
   "cell_type": "markdown",
   "metadata": {},
   "source": [
    "## 8. Printing some metrics"
   ]
  },
  {
   "cell_type": "code",
   "execution_count": 9,
   "metadata": {
    "ExecuteTime": {
     "end_time": "2024-09-22T21:35:00.267930600Z",
     "start_time": "2024-09-22T21:35:00.254057900Z"
    }
   },
   "outputs": [
    {
     "name": "stdout",
     "output_type": "stream",
     "text": [
      "accuracy: 0.9591\n",
      "f1_score: 0.9591824725913856\n",
      "recall_score 0.9582045343696823\n"
     ]
    }
   ],
   "source": [
    "print(\"accuracy:\", accuracy_score(y_pred, y_test))\n",
    "print(\"f1_score:\", f1_score(y_pred, y_test))\n",
    "print(\"recall_score\", recall_score(y_pred, y_test))"
   ]
  },
  {
   "cell_type": "markdown",
   "metadata": {},
   "source": [
    "## 9. Plot the first 10 test images, their predicted labels, and the true labels."
   ]
  },
  {
   "cell_type": "code",
   "execution_count": 10,
   "metadata": {
    "ExecuteTime": {
     "end_time": "2024-09-22T21:35:00.500759500Z",
     "start_time": "2024-09-22T21:35:00.269931600Z"
    }
   },
   "outputs": [
    {
     "data": {
      "text/plain": "<Figure size 1000x1000 with 10 Axes>",
      "image/png": "[encoded data removed]"
     },
     "metadata": {},
     "output_type": "display_data"
    }
   ],
   "source": [
    "fig = plt.figure(figsize=(10, 10))\n",
    "for i in range(10):\n",
    "    ax = fig.add_subplot(5, 2, i + 1, xticks=[], yticks=[])\n",
    "    ax.imshow(x_test[i].reshape(28, 28), cmap='gray')\n",
    "    ax.set_title(f\"Predicted: {np.argmax(y_pred[i])}, Actual: {np.argmax(y_test[i])}\")\n",
    "plt.show()"
   ]
  },
  {
   "cell_type": "markdown",
   "metadata": {},
   "source": [
    "## 10. Save the model"
   ]
  },
  {
   "cell_type": "code",
   "execution_count": 11,
   "metadata": {
    "ExecuteTime": {
     "end_time": "2024-09-22T21:35:00.609076100Z",
     "start_time": "2024-09-22T21:35:00.501759300Z"
    }
   },
   "outputs": [],
   "source": [
    "model.save(\"my_mnist_model.npz\")"
   ]
  }
 ],
 "metadata": {
  "kernelspec": {
   "display_name": "Python 3 (ipykernel)",
   "language": "python",
   "name": "python3"
  },
  "language_info": {
   "codemirror_mode": {
    "name": "ipython",
    "version": 3
   },
   "file_extension": ".py",
   "mimetype": "text/x-python",
   "name": "python",
   "nbconvert_exporter": "python",
   "pygments_lexer": "ipython3",
   "version": "3.10.8"
  }
 },
 "nbformat": 4,
 "nbformat_minor": 4
}
