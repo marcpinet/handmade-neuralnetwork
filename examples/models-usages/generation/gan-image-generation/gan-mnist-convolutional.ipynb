{
 "cells": [
  {
   "cell_type": "code",
   "execution_count": null,
   "metadata": {},
   "outputs": [],
   "source": [
    "import random\n",
    "import numpy as np\n",
    "import matplotlib.pyplot as plt\n",
    "import os\n",
    "\n",
    "from PIL import Image\n",
    "from keras.datasets import mnist\n",
    "from IPython.display import Image as IPImage\n",
    "\n",
    "from neuralnetlib.preprocessing import one_hot_encode\n",
    "from neuralnetlib.models import Sequential, GAN\n",
    "from neuralnetlib.layers import Input, Dense, Conv2D, Reshape, Flatten, UpSampling2D"
   ]
  },
  {
   "cell_type": "code",
   "execution_count": null,
   "metadata": {},
   "outputs": [],
   "source": [
    "# Load the MNIST dataset\n",
    "(x_train, y_train), (x_test, y_test) = mnist.load_data()\n",
    "n_classes = np.unique(y_train).shape[0]\n",
    "\n",
    "# Reshape images to include channel dimension\n",
    "x_train = x_train.reshape(x_train.shape[0], 28, 28, 1)\n",
    "x_test = x_test.reshape(x_test.shape[0], 28, 28, 1)\n",
    "\n",
    "# Normalize pixel values\n",
    "x_train = x_train.astype('float32') / 255\n",
    "x_test = x_test.astype('float32') / 255\n",
    "\n",
    "# Labels to categorical\n",
    "y_train = one_hot_encode(y_train, n_classes)\n",
    "y_test = one_hot_encode(y_test, n_classes)"
   ]
  },
  {
   "cell_type": "code",
   "execution_count": null,
   "metadata": {},
   "outputs": [],
   "source": [
    "i = random.randint(0, len(x_train) - 1)\n",
    "plt.imshow(x_train[i].reshape(28,28), cmap='gray')\n",
    "plt.title('Class: ' + str(np.argmax(y_train[i])))\n",
    "plt.show()"
   ]
  },
  {
   "cell_type": "code",
   "execution_count": null,
   "metadata": {},
   "outputs": [],
   "source": [
    "noise_dim = 32\n",
    "\n",
    "generator = Sequential()\n",
    "generator.add(Input(noise_dim))\n",
    "generator.add(Dense(7 * 7 * 128))\n",
    "generator.add(Reshape((7, 7, 128)))\n",
    "generator.add(UpSampling2D(size=(2, 2)))  # 14x14\n",
    "generator.add(Conv2D(64, kernel_size=3, padding='same', activation='relu'))\n",
    "generator.add(UpSampling2D(size=(2, 2)))  # 28x28\n",
    "generator.add(Conv2D(32, kernel_size=3, padding='same', activation='relu'))\n",
    "generator.add(Conv2D(1, kernel_size=3, padding='same', activation='sigmoid'))"
   ]
  },
  {
   "cell_type": "code",
   "execution_count": null,
   "metadata": {},
   "outputs": [],
   "source": [
    "discriminator = Sequential()\n",
    "discriminator.add(Input((28, 28, 1)))\n",
    "discriminator.add(Conv2D(32, kernel_size=3, strides=2, padding='same', activation='relu'))  # 14x14\n",
    "discriminator.add(Conv2D(64, kernel_size=3, strides=2, padding='same', activation='relu'))  # 7x7\n",
    "discriminator.add(Flatten())\n",
    "discriminator.add(Dense(128, activation='relu'))\n",
    "discriminator.add(Dense(1, activation='sigmoid'))"
   ]
  },
  {
   "cell_type": "code",
   "execution_count": null,
   "metadata": {},
   "outputs": [],
   "source": [
    "gan = GAN(latent_dim=noise_dim)\n",
    "\n",
    "gan.compile(\n",
    "    generator,\n",
    "    discriminator,\n",
    "    generator_optimizer='adam',\n",
    "    discriminator_optimizer='adam',\n",
    "    loss_function='bce',\n",
    "    verbose=True\n",
    ")"
   ]
  },
  {
   "cell_type": "code",
   "execution_count": null,
   "metadata": {},
   "outputs": [],
   "source": [
    "history = gan.fit(x_train,\n",
    "                 epochs=40,\n",
    "                 batch_size=128,\n",
    "                 plot_generated=True,\n",
    "                 )   "
   ]
  },
  {
   "cell_type": "code",
   "execution_count": null,
   "metadata": {},
   "outputs": [],
   "source": [
    "image_files = [f for f in os.listdir() if f.endswith('.png') and f.startswith('video')]\n",
    "image_files.sort(key=lambda x: int(x.replace('video', '').replace('.png', '')))\n",
    "\n",
    "images = [Image.open(img) for img in image_files]\n",
    "\n",
    "if images:\n",
    "    images[0].save('output.gif', save_all=True, append_images=images[1:], duration=100, loop=0)\n",
    "\n",
    "print(\"GIF 'output.gif' succesffuly created!\")"
   ]
  },
  {
   "cell_type": "code",
   "execution_count": null,
   "metadata": {},
   "outputs": [],
   "source": [
    "IPImage(filename=\"output.gif\")"
   ]
  }
 ],
 "metadata": {
  "kernelspec": {
   "display_name": "Python 3",
   "language": "python",
   "name": "python3"
  },
  "language_info": {
   "codemirror_mode": {
    "name": "ipython",
    "version": 3
   },
   "file_extension": ".py",
   "mimetype": "text/x-python",
   "name": "python",
   "nbconvert_exporter": "python",
   "pygments_lexer": "ipython3",
   "version": "3.10.8"
  }
 },
 "nbformat": 4,
 "nbformat_minor": 2
}
