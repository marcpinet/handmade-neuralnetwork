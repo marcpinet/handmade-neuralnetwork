{
 "cells": [
  {
   "cell_type": "code",
   "execution_count": 1,
   "id": "a036f9b8eee0491",
   "metadata": {
    "ExecuteTime": {
     "end_time": "2024-11-12T00:29:31.303382900Z",
     "start_time": "2024-11-12T00:29:31.023112900Z"
    },
    "collapsed": false
   },
   "outputs": [],
   "source": [
    "import numpy as np\n",
    "\n",
    "from neuralnetlib.layers import Input, Embedding, LSTM, Dense\n",
    "from neuralnetlib.models import Sequential\n",
    "from neuralnetlib.preprocessing import one_hot_encode\n",
    "from neuralnetlib.callbacks import EarlyStopping"
   ]
  },
  {
   "cell_type": "code",
   "execution_count": 2,
   "id": "be237a3421e586a2",
   "metadata": {
    "ExecuteTime": {
     "end_time": "2024-11-12T00:29:31.319383Z",
     "start_time": "2024-11-12T00:29:31.304382500Z"
    },
    "collapsed": false
   },
   "outputs": [
    {
     "name": "stdout",
     "output_type": "stream",
     "text": [
      "['Aachenosaurus', 'Aardonyx', 'Abdallahsaurus', 'Abelisaurus', 'Abrictosaurus']\n"
     ]
    }
   ],
   "source": [
    "with open('dinos.txt', 'r', encoding='utf-8') as f:\n",
    "    names = [line.strip() for line in f]\n",
    "\n",
    "print(names[:5])  # display the first 5 names of the list to check if they were loaded correctly"
   ]
  },
  {
   "cell_type": "code",
   "execution_count": 3,
   "id": "f4c0d8598f0ba7a",
   "metadata": {
    "ExecuteTime": {
     "end_time": "2024-11-12T00:29:31.350386300Z",
     "start_time": "2024-11-12T00:29:31.320384Z"
    },
    "collapsed": false
   },
   "outputs": [
    {
     "name": "stdout",
     "output_type": "stream",
     "text": [
      "Maximum length: 26\n"
     ]
    }
   ],
   "source": [
    "lengths = [len(name) for name in names]\n",
    "max_length = max(lengths)\n",
    "print(f\"Maximum length: {max_length}\")"
   ]
  },
  {
   "cell_type": "code",
   "execution_count": 4,
   "id": "c410380fa90e7694",
   "metadata": {
    "ExecuteTime": {
     "end_time": "2024-11-12T00:29:31.355387600Z",
     "start_time": "2024-11-12T00:29:31.337383Z"
    },
    "collapsed": false
   },
   "outputs": [
    {
     "name": "stdout",
     "output_type": "stream",
     "text": [
      "Vocab size: 54\n"
     ]
    }
   ],
   "source": [
    "# Constants\n",
    "PAD_TOKEN = ''   # Padding token (index 0)\n",
    "EOS_TOKEN = '$'  # End of sequence token (index 1)\n",
    "max_length = 15  # Maximum sequence length\n",
    "\n",
    "# Mapping dictionaries\n",
    "char_to_index = {PAD_TOKEN: 0, EOS_TOKEN: 1}\n",
    "index_to_char = {0: PAD_TOKEN, 1: EOS_TOKEN}\n",
    "\n",
    "# Extract unique characters and sort them\n",
    "unique_chars = sorted(set(''.join(names)))\n",
    "\n",
    "# Build character <-> index mappings starting at index 2\n",
    "for idx, char in enumerate(unique_chars, start=2):\n",
    "    char_to_index[char] = idx\n",
    "    index_to_char[idx] = char\n",
    "\n",
    "vocab_size = len(char_to_index)\n",
    "print(f\"Vocab size: {vocab_size}\")"
   ]
  },
  {
   "cell_type": "code",
   "execution_count": 5,
   "id": "1364a6786997a8f5",
   "metadata": {
    "ExecuteTime": {
     "end_time": "2024-11-12T00:29:31.397400200Z",
     "start_time": "2024-11-12T00:29:31.376400Z"
    },
    "collapsed": false
   },
   "outputs": [
    {
     "name": "stdout",
     "output_type": "stream",
     "text": [
      "Vocabulary size: 54\n",
      "X data shape: (18374, 15)\n",
      "y labels shape: (18374, 54)\n",
      "\n",
      "Example for Aachenosaurus:\n",
      "Input sequence: [ 0  0  0  0  0  0  0  0  0 28 28 30 35 32 41]\n",
      "Expected output: [0. 0. 0. 0. 0. 0. 0. 0. 0. 0. 0. 0. 0. 0. 0. 0. 0. 0. 0. 0. 0. 0. 0. 0.\n",
      " 0. 0. 0. 0. 0. 0. 0. 0. 0. 0. 0. 0. 0. 0. 0. 0. 0. 0. 1. 0. 0. 0. 0. 0.\n",
      " 0. 0. 0. 0. 0. 0.]\n",
      "\n",
      "Decoding example sequence:\n",
      "['', '', '', '', '', '', '', '', '', 'a', 'a', 'c', 'h', 'e', 'n']\n",
      "Next character: o\n"
     ]
    }
   ],
   "source": [
    "# Training sequences\n",
    "sequences = []\n",
    "next_chars = []\n",
    "\n",
    "# Create sequences and next characters\n",
    "for name in names:\n",
    "    name = name.lower()\n",
    "    name_chars = list(name) + [EOS_TOKEN]\n",
    "\n",
    "    for i in range(len(name_chars) - 1):\n",
    "        # Extract sequence\n",
    "        seq = name_chars[max(0, i - max_length + 1):i + 1]\n",
    "\n",
    "        # Padding and conversion to indices\n",
    "        padded_seq = [0] * (max_length - len(seq)) + [char_to_index[char] for char in seq]\n",
    "\n",
    "        sequences.append(padded_seq)\n",
    "        next_chars.append(char_to_index[name_chars[i + 1]])\n",
    "\n",
    "# Convert to numpy arrays\n",
    "X = np.array(sequences)\n",
    "y = one_hot_encode(np.array(next_chars), vocab_size)\n",
    "\n",
    "print(f\"Vocabulary size: {vocab_size}\")\n",
    "print(f\"X data shape: {X.shape}\")\n",
    "print(f\"y labels shape: {y.shape}\")\n",
    "\n",
    "# Display an example for verification\n",
    "print(f\"\\nExample for {names[0]}:\")\n",
    "print(f\"Input sequence: {X[5]}\")\n",
    "print(f\"Expected output: {y[5]}\")\n",
    "\n",
    "# Visualize tokens for the first example\n",
    "print(\"\\nDecoding example sequence:\")\n",
    "print([index_to_char[idx] for idx in X[5]])\n",
    "print(f\"Next character: {index_to_char[next_chars[5]]}\")"
   ]
  },
  {
   "cell_type": "code",
   "execution_count": 6,
   "id": "317820e906d2065",
   "metadata": {
    "ExecuteTime": {
     "end_time": "2024-11-12T00:29:31.405405300Z",
     "start_time": "2024-11-12T00:29:31.384400500Z"
    },
    "collapsed": false
   },
   "outputs": [
    {
     "name": "stdout",
     "output_type": "stream",
     "text": [
      "Sequential(gradient_clip_threshold=5.0, enable_padding=False, padding_size=32, random_state=1733490659107227600)\n",
      "-------------------------------------------------\n",
      "Layer 1: Input(input_shape=(15,))\n",
      "Layer 2: Embedding(input_dim=54, output_dim=32)\n",
      "Layer 3: LSTM(units=128, return_sequences=False, return_state=False, random_state=None, clip_value=5.0)\n",
      "Layer 4: Dense(units=54)\n",
      "Layer 5: Activation(Softmax)\n",
      "-------------------------------------------------\n",
      "Loss function: CategoricalCrossentropy\n",
      "Optimizer: Adam(learning_rate=0.001, beta_1=0.9, beta_2=0.999, epsilon=1e-08, clip_norm=None, clip_value=None)\n",
      "-------------------------------------------------\n",
      "\n"
     ]
    }
   ],
   "source": [
    "# Model definition\n",
    "embedding_dim = 32\n",
    "lstm_units = 128\n",
    "\n",
    "model = Sequential()\n",
    "model.add(Input(max_length))\n",
    "model.add(Embedding(input_dim=vocab_size, output_dim=embedding_dim))\n",
    "model.add(LSTM(units=lstm_units))\n",
    "model.add(Dense(units=vocab_size, activation='softmax'))\n",
    "\n",
    "model.compile(loss_function='categorical_crossentropy', optimizer='adam')\n",
    "model.summary()"
   ]
  },
  {
   "cell_type": "code",
   "execution_count": 7,
   "id": "ccca9fb1b43dd948",
   "metadata": {
    "ExecuteTime": {
     "end_time": "2024-11-12T00:33:50.723169900Z",
     "start_time": "2024-11-12T00:29:31.399406700Z"
    },
    "collapsed": false
   },
   "outputs": [
    {
     "name": "stdout",
     "output_type": "stream",
     "text": [
      "[==============================] 100% Epoch 1/100 - 17.58s - loss: 2.3441 - accuracy: 0.3430 - val_loss: 2.0255 - val_accuracy: 0.3972\n",
      "[==============================] 100% Epoch 2/100 - 17.25s - loss: 1.9279 - accuracy: 0.4326 - val_loss: 1.9346 - val_accuracy: 0.4168\n",
      "[==============================] 100% Epoch 3/100 - 17.34s - loss: 1.8522 - accuracy: 0.4469 - val_loss: 1.8947 - val_accuracy: 0.4249\n",
      "[==============================] 100% Epoch 4/100 - 17.35s - loss: 1.8169 - accuracy: 0.4548 - val_loss: 1.8762 - val_accuracy: 0.4309\n",
      "[==============================] 100% Epoch 5/100 - 17.18s - loss: 1.8011 - accuracy: 0.4584 - val_loss: 1.8643 - val_accuracy: 0.4342\n",
      "[==============================] 100% Epoch 6/100 - 17.50s - loss: 1.7927 - accuracy: 0.4589 - val_loss: 1.8576 - val_accuracy: 0.4331\n",
      "[==============================] 100% Epoch 7/100 - 18.59s - loss: 1.7918 - accuracy: 0.4591 - val_loss: 1.8594 - val_accuracy: 0.4260\n",
      "[==============================] 100% Epoch 8/100 - 20.43s - loss: 1.7869 - accuracy: 0.4598 - val_loss: 1.8500 - val_accuracy: 0.4282\n",
      "[==============================] 100% Epoch 9/100 - 17.56s - loss: 1.7769 - accuracy: 0.4613 - val_loss: 1.8387 - val_accuracy: 0.4320\n",
      "[==============================] 100% Epoch 10/100 - 17.87s - loss: 1.7669 - accuracy: 0.4650 - val_loss: 1.8266 - val_accuracy: 0.4440\n",
      "[==============================] 100% Epoch 11/100 - 19.80s - loss: 1.7582 - accuracy: 0.4666 - val_loss: 1.8177 - val_accuracy: 0.4489\n",
      "[==============================] 100% Epoch 12/100 - 19.73s - loss: 1.7521 - accuracy: 0.4705 - val_loss: 1.8122 - val_accuracy: 0.4450\n",
      "[==============================] 100% Epoch 13/100 - 20.44s - loss: 1.7486 - accuracy: 0.4718 - val_loss: 1.8087 - val_accuracy: 0.4440\n",
      "[==============================] 100% Epoch 14/100 - 20.85s - loss: 1.7469 - accuracy: 0.4738 - val_loss: 1.8072 - val_accuracy: 0.4456\n",
      "[==============================] 100% Epoch 15/100 - 18.36s - loss: 1.7482 - accuracy: 0.4730 - val_loss: 1.8109 - val_accuracy: 0.4461\n",
      "[==============================] 100% Epoch 16/100 - 18.08s - loss: 1.7578 - accuracy: 0.4713 - val_loss: 1.8247 - val_accuracy: 0.4429\n",
      "[==============================] 100% Epoch 17/100 - 18.03s - loss: 1.7676 - accuracy: 0.4697 - val_loss: 1.8329 - val_accuracy: 0.4456\n",
      "[==============================] 100% Epoch 18/100 - 19.13s - loss: 1.7672 - accuracy: 0.4704 - val_loss: 1.8320 - val_accuracy: 0.4450\n",
      "[==============================] 100% Epoch 19/100 - 18.75s - loss: 1.7646 - accuracy: 0.4705 - val_loss: 1.8329 - val_accuracy: 0.4494\n",
      "Early stopping triggered after epoch 19\n",
      "\n",
      "\n"
     ]
    }
   ],
   "source": [
    "# Early stopping callback\n",
    "early_stopping = EarlyStopping(\n",
    "    monitor='val_loss',\n",
    "    patience=5,\n",
    "    restore_best_weights=True\n",
    ")\n",
    "\n",
    "# Model training\n",
    "history = model.fit(\n",
    "    X, y,\n",
    "    epochs=100,\n",
    "    batch_size=64,\n",
    "    callbacks=[early_stopping],\n",
    "    validation_split=0.1,\n",
    "    metrics=['accuracy']\n",
    ")\n"
   ]
  },
  {
   "cell_type": "code",
   "execution_count": 8,
   "id": "68ec75af38129a34",
   "metadata": {
    "ExecuteTime": {
     "end_time": "2024-11-12T00:35:16.841136700Z",
     "start_time": "2024-11-12T00:35:16.814132100Z"
    },
    "collapsed": false
   },
   "outputs": [
    {
     "name": "stdout",
     "output_type": "stream",
     "text": [
      "\n",
      "Generated names:\n",
      "Ganetgosaurus (13 characters)\n",
      "Szhuiodondon (12 characters)\n",
      "Aurus (5 characters)\n",
      "Egpossraurus (12 characters)\n",
      "Usium (5 characters)\n",
      "\n",
      "Are all names original? True\n",
      "\n",
      "Average length: 9.4 characters\n",
      "Minimum length: 5 characters\n",
      "Maximum length: 13 characters\n"
     ]
    }
   ],
   "source": [
    "# Generate multiple names\n",
    "generated_names = []\n",
    "number_of_names = 5\n",
    "min_length = 5\n",
    "\n",
    "while len(generated_names) < number_of_names:\n",
    "    # Start sequence with a single padding token\n",
    "    sequence_start = np.array([[char_to_index[PAD_TOKEN]]])  # shape: (1, 1)\n",
    "\n",
    "    # Generate a sequence\n",
    "    tokens = model.generate_sequence(\n",
    "        sequence_start=sequence_start,\n",
    "        max_length=max_length,\n",
    "        stop_token=char_to_index[EOS_TOKEN],\n",
    "        min_length=min_length,\n",
    "        temperature=1.2\n",
    "    )\n",
    "\n",
    "    # Convert indices to characters (excluding padding and end tokens)\n",
    "    name = ''.join(index_to_char[idx] for idx in tokens[0]\n",
    "                   if idx not in [char_to_index[PAD_TOKEN], char_to_index[EOS_TOKEN]])\n",
    "    name = name.capitalize()\n",
    "\n",
    "    # Check if the name is long enough, unique, and contains at least one vowel\n",
    "    if len(name) >= min_length and name not in generated_names and any(c in 'aeiou' for c in name.lower()):\n",
    "        generated_names.append(name)\n",
    "\n",
    "# Display results\n",
    "print(\"\\nGenerated names:\")\n",
    "for name in generated_names:\n",
    "    print(f\"{name} ({len(name)} characters)\")\n",
    "\n",
    "# Check originality\n",
    "print(\"\\nAre all names original?\", all(name.lower() not in [n.lower() for n in names] for name in generated_names))\n",
    "\n",
    "# Length statistics\n",
    "lengths = [len(name) for name in generated_names]\n",
    "print(f\"\\nAverage length: {sum(lengths)/len(lengths):.1f} characters\")\n",
    "print(f\"Minimum length: {min(lengths)} characters\")\n",
    "print(f\"Maximum length: {max(lengths)} characters\")"
   ]
  }
 ],
 "metadata": {
  "kernelspec": {
   "display_name": "Python 3",
   "language": "python",
   "name": "python3"
  },
  "language_info": {
   "codemirror_mode": {
    "name": "ipython",
    "version": 3
   },
   "file_extension": ".py",
   "mimetype": "text/x-python",
   "name": "python",
   "nbconvert_exporter": "python",
   "pygments_lexer": "ipython3",
   "version": "3.10.8"
  }
 },
 "nbformat": 4,
 "nbformat_minor": 5
}
