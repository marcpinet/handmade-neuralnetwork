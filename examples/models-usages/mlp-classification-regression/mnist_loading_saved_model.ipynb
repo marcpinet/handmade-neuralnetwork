{
 "cells": [
  {
   "cell_type": "markdown",
   "metadata": {},
   "source": [
    "# MNIST Loading Saved Sequential"
   ]
  },
  {
   "cell_type": "markdown",
   "metadata": {
    "tags": []
   },
   "source": [
    "## Imports"
   ]
  },
  {
   "cell_type": "code",
   "execution_count": 1,
   "metadata": {
    "ExecuteTime": {
     "end_time": "2024-11-14T19:04:46.439544500Z",
     "start_time": "2024-11-14T19:04:32.836526700Z"
    }
   },
   "outputs": [],
   "source": [
    "from tensorflow.keras.datasets import mnist  # Dataset for testing\n",
    "\n",
    "from neuralnetlib.models import Sequential\n",
    "from neuralnetlib.utils import train_test_split\n",
    "from neuralnetlib.preprocessing import one_hot_encode\n",
    "from neuralnetlib.metrics import accuracy_score, confusion_matrix"
   ]
  },
  {
   "cell_type": "markdown",
   "metadata": {},
   "source": [
    "## 1. Loading the MNIST dataset"
   ]
  },
  {
   "cell_type": "code",
   "execution_count": 2,
   "metadata": {
    "ExecuteTime": {
     "end_time": "2024-11-14T19:04:46.593662800Z",
     "start_time": "2024-11-14T19:04:46.441052Z"
    }
   },
   "outputs": [],
   "source": [
    "(x_train, y_train), (x_test, y_test) = mnist.load_data()"
   ]
  },
  {
   "cell_type": "markdown",
   "metadata": {},
   "source": [
    "## 2. Preprocessing"
   ]
  },
  {
   "cell_type": "code",
   "execution_count": 3,
   "metadata": {
    "ExecuteTime": {
     "end_time": "2024-11-14T19:04:46.687742300Z",
     "start_time": "2024-11-14T19:04:46.594662500Z"
    }
   },
   "outputs": [],
   "source": [
    "x_train = x_train.reshape(-1, 28 * 28) / 255.0\n",
    "x_test = x_test.reshape(-1, 28 * 28) / 255.0\n",
    "y_train = one_hot_encode(y_train, num_classes=10)\n",
    "y_test = one_hot_encode(y_test, num_classes=10)"
   ]
  },
  {
   "cell_type": "markdown",
   "metadata": {},
   "source": [
    "## 3. Split the training data into training and validation sets"
   ]
  },
  {
   "cell_type": "code",
   "execution_count": 4,
   "metadata": {
    "ExecuteTime": {
     "end_time": "2024-11-14T19:04:46.844884Z",
     "start_time": "2024-11-14T19:04:46.689246700Z"
    }
   },
   "outputs": [],
   "source": [
    "_, x_val, _, y_val = train_test_split(x_train, y_train, test_size=0.2, random_state=42)"
   ]
  },
  {
   "cell_type": "markdown",
   "metadata": {},
   "source": [
    "## 4. Load the model"
   ]
  },
  {
   "cell_type": "code",
   "execution_count": 5,
   "metadata": {
    "ExecuteTime": {
     "end_time": "2024-11-14T19:04:46.861423400Z",
     "start_time": "2024-11-14T19:04:46.845884300Z"
    }
   },
   "outputs": [],
   "source": [
    "model = Sequential.load('my_mnist_model.npz')"
   ]
  },
  {
   "cell_type": "markdown",
   "metadata": {},
   "source": [
    "## 5. Predict and evaluate on the validation set"
   ]
  },
  {
   "cell_type": "code",
   "execution_count": 6,
   "metadata": {
    "ExecuteTime": {
     "end_time": "2024-11-14T19:04:46.907292300Z",
     "start_time": "2024-11-14T19:04:46.861423400Z"
    }
   },
   "outputs": [
    {
     "name": "stdout",
     "output_type": "stream",
     "text": [
      "Validation Accuracy: 0.9619166666666666\n"
     ]
    }
   ],
   "source": [
    "y_pred_val = model.predict(x_val)\n",
    "accuracy_val = accuracy_score(y_pred_val, y_val)\n",
    "print(f'Validation Accuracy: {accuracy_val}')"
   ]
  },
  {
   "cell_type": "markdown",
   "metadata": {},
   "source": [
    "## 6. Optionally, you can still evaluate on the test set"
   ]
  },
  {
   "cell_type": "code",
   "execution_count": 7,
   "metadata": {
    "ExecuteTime": {
     "end_time": "2024-11-14T19:04:46.956294600Z",
     "start_time": "2024-11-14T19:04:46.908291600Z"
    }
   },
   "outputs": [
    {
     "name": "stdout",
     "output_type": "stream",
     "text": [
      "Test Accuracy: 0.9524\n",
      "Confusion Matrix:\n",
      "[[ 966    0    1    1    1    6    1    2    2    0]\n",
      " [   0 1122    4    1    0    0    1    2    5    0]\n",
      " [   7    2  981    8    4    0    7   12    8    3]\n",
      " [   2    2    7  963    0    6    0   13   12    5]\n",
      " [   2    3    7    0  904    0    7    4    3   52]\n",
      " [   5    7    1   26    3  824    2    4   11    9]\n",
      " [  11    5    7    1    9   16  907    0    2    0]\n",
      " [   2    8   17    4    4    0    0  981    1   11]\n",
      " [   3    4    6   15    4    9    6    7  910   10]\n",
      " [   6    4    0    9    7    3    0    8    6  966]]\n"
     ]
    }
   ],
   "source": [
    "y_pred_test = model.predict(x_test)\n",
    "accuracy_test = accuracy_score(y_pred_test, y_test)\n",
    "print(f'Test Accuracy: {accuracy_test}')\n",
    "print(f'Confusion Matrix:\\n{confusion_matrix(y_pred_test, y_test)}')"
   ]
  }
 ],
 "metadata": {
  "kernelspec": {
   "display_name": "Python 3",
   "language": "python",
   "name": "python3"
  },
  "language_info": {
   "codemirror_mode": {
    "name": "ipython",
    "version": 3
   },
   "file_extension": ".py",
   "mimetype": "text/x-python",
   "name": "python",
   "nbconvert_exporter": "python",
   "pygments_lexer": "ipython3",
   "version": "3.10.8"
  }
 },
 "nbformat": 4,
 "nbformat_minor": 4
}
