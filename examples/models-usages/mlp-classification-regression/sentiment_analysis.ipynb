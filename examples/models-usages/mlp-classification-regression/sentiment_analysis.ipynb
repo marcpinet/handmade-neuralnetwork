{
 "cells": [
  {
   "cell_type": "markdown",
   "metadata": {},
   "source": [
    "# Simple cancer binary classification"
   ]
  },
  {
   "cell_type": "markdown",
   "metadata": {
    "tags": []
   },
   "source": [
    "## Imports"
   ]
  },
  {
   "cell_type": "code",
   "execution_count": 1,
   "metadata": {
    "ExecuteTime": {
     "end_time": "2024-11-14T19:16:44.410758900Z",
     "start_time": "2024-11-14T19:16:36.414832900Z"
    }
   },
   "outputs": [],
   "source": [
    "import numpy as np\n",
    "\n",
    "from tensorflow.keras.datasets import imdb\n",
    "\n",
    "from neuralnetlib.models import Sequential\n",
    "from neuralnetlib.layers import Input, Dense, Embedding, LSTM, Bidirectional, Attention, GlobalAveragePooling1D\n",
    "from neuralnetlib.preprocessing import pad_sequences\n",
    "from neuralnetlib.metrics import accuracy_score\n",
    "from neuralnetlib.utils import train_test_split"
   ]
  },
  {
   "cell_type": "markdown",
   "metadata": {},
   "source": [
    "## 1. Loading the dataset"
   ]
  },
  {
   "cell_type": "code",
   "execution_count": 2,
   "metadata": {
    "ExecuteTime": {
     "end_time": "2024-11-14T19:16:45.992521100Z",
     "start_time": "2024-11-14T19:16:44.411806300Z"
    }
   },
   "outputs": [],
   "source": [
    "(x_train, y_train), (x_test, y_test) = imdb.load_data(num_words=10000)"
   ]
  },
  {
   "cell_type": "markdown",
   "metadata": {},
   "source": [
    "## 2. Preprocessing"
   ]
  },
  {
   "cell_type": "code",
   "execution_count": 3,
   "metadata": {
    "ExecuteTime": {
     "end_time": "2024-11-14T19:16:46.274852700Z",
     "start_time": "2024-11-14T19:16:45.993522Z"
    }
   },
   "outputs": [
    {
     "name": "stdout",
     "output_type": "stream",
     "text": [
      "x_train shape: (20000, 200)\n",
      "x_test shape: (25000, 200)\n",
      "y_train shape: (20000,)\n",
      "y_test shape: (25000,)\n",
      "x_train[0]: [  45  108   10   10   11    4   65 3960    9   11   41  402    2  780\n",
      "   33    2 6130   11    2    4 2763  844   26    2  224    5  193 3960\n",
      "   39   44  790  153  154  143   41 2521   56    8   41 2028  559   11\n",
      "    4   20   44 6383 5284  474  482   13   66   92  104  225    6  404\n",
      "  524   18 3960   18  111    7  178 3960  451  442   76   99  976    6\n",
      " 1369   11  263    2  460 8519    2    9 3084   59    9   55 7207    2\n",
      "    5    2   59   47  775    7 9963   59   47    6   87  393   31   15\n",
      " 3775   11  129  330   73  103    4   20    9  120 1793    8    2    2\n",
      "    2 5071 3960   47  247    6 5879  822   74    2   21  146 1688    8\n",
      " 4909   15   48    2 1999   11    4  217   13  104   59   80 2700   83\n",
      "   12   43   17 3960 3418   53  976    5 6861   17   59  214  922    2\n",
      "  460 5603    2  486    5 1557    2   55   73  140 1404    5  851   14\n",
      "   20   45   24   40  233  334  874  110    5   60  151   12   16  526\n",
      "   34 1091    2   12    9  368    7    2 2442   87  370 1102 1524    5\n",
      "   73  224  206  844]\n",
      "y_train[0]: 1\n"
     ]
    }
   ],
   "source": [
    "max_words = 10000\n",
    "max_len = 200\n",
    "\n",
    "x_train = pad_sequences(x_train, max_length=max_len)\n",
    "x_test = pad_sequences(x_test, max_length=max_len)\n",
    "\n",
    "# cuz we don't want to overfit on test data\n",
    "x_train, x_val, y_train, y_val = train_test_split(x_train, y_train, test_size=0.2, random_state=42)\n",
    "\n",
    "print(f'x_train shape: {x_train.shape}')\n",
    "print(f'x_test shape: {x_test.shape}')\n",
    "\n",
    "print(f'y_train shape: {y_train.shape}')\n",
    "print(f'y_test shape: {y_test.shape}')\n",
    "\n",
    "print(f'x_train[0]: {x_train[0]}')\n",
    "print(f'y_train[0]: {y_train[0]}')"
   ]
  },
  {
   "cell_type": "markdown",
   "metadata": {},
   "source": [
    "## 3. Model definition"
   ]
  },
  {
   "cell_type": "code",
   "execution_count": 4,
   "metadata": {
    "ExecuteTime": {
     "end_time": "2024-11-14T19:16:46.290395200Z",
     "start_time": "2024-11-14T19:16:46.261338Z"
    }
   },
   "outputs": [],
   "source": [
    "model = Sequential()\n",
    "model.add(Input(max_len))\n",
    "model.add(Embedding(max_words, 100, weights_init='xavier'))\n",
    "model.add(Bidirectional(LSTM(32, return_sequences=True)))\n",
    "model.add(Attention())\n",
    "model.add(Dense(1, activation='sigmoid'))"
   ]
  },
  {
   "cell_type": "markdown",
   "metadata": {},
   "source": [
    "## 4. Model compilation"
   ]
  },
  {
   "cell_type": "code",
   "execution_count": 5,
   "metadata": {
    "ExecuteTime": {
     "end_time": "2024-11-14T19:16:46.297467500Z",
     "start_time": "2024-11-14T19:16:46.276854500Z"
    }
   },
   "outputs": [
    {
     "name": "stdout",
     "output_type": "stream",
     "text": [
      "Sequential(gradient_clip_threshold=5.0, enable_padding=False, padding_size=32, random_state=1733520050429276600)\n",
      "-------------------------------------------------\n",
      "Layer 1: Input(input_shape=(200,))\n",
      "Layer 2: Embedding(input_dim=10000, output_dim=100)\n",
      "Layer 3: Bidirectional(layer=LSTM(units=32, return_sequences=True, return_state=False, clip_value=5.0, random_state=None))\n",
      "Layer 4: Attention(use_scale=True, score_mode=dot, return_sequences=False)\n",
      "Layer 5: Dense(units=1)\n",
      "Layer 6: Activation(Sigmoid)\n",
      "-------------------------------------------------\n",
      "Loss function: BinaryCrossentropy\n",
      "Optimizer: Adam(learning_rate=0.001, beta_1=0.9, beta_2=0.999, epsilon=1e-08, clip_norm=None, clip_value=None)\n",
      "-------------------------------------------------\n",
      "\n"
     ]
    }
   ],
   "source": [
    "model.compile(optimizer='adam', loss_function='binary_crossentropy')\n",
    "\n",
    "model.summary()"
   ]
  },
  {
   "cell_type": "markdown",
   "metadata": {},
   "source": [
    "## 5. Model training"
   ]
  },
  {
   "cell_type": "code",
   "execution_count": null,
   "metadata": {
    "ExecuteTime": {
     "end_time": "2024-11-14T19:49:32.469776300Z",
     "start_time": "2024-11-14T19:16:46.292462300Z"
    }
   },
   "outputs": [
    {
     "name": "stdout",
     "output_type": "stream",
     "text": [
      "[==============================] 100% Epoch 1/5 - 274.36s - loss: 0.6359 - accuracy: 0.6967 - val_loss: 0.7389 - val_accuracy: 0.7740\n",
      "[==============================] 100% Epoch 2/5 - 276.99s - loss: 0.4441 - accuracy: 0.8237 - val_loss: 1.0205 - val_accuracy: 0.8307\n",
      "[==============================] 100% Epoch 3/5 - 285.17s - loss: 0.3278 - accuracy: 0.8611 - val_loss: 1.4672 - val_accuracy: 0.8485\n",
      "[==============================] 100% Epoch 4/5 - 269.14s - loss: 0.2853 - accuracy: 0.8797 - val_loss: 1.9860 - val_accuracy: 0.8568\n",
      "[==============================] 100% Epoch 5/5 - 267.17s - loss: 0.2713 - accuracy: 0.8895 - val_loss: 2.5888 - val_accuracy: 0.8598\n",
      "\n"
     ]
    }
   ],
   "source": [
    "model.fit(x_train, y_train, epochs=5, batch_size=32, validation_data=(x_test, y_test), metrics=['accuracy'], random_state=42)"
   ]
  },
  {
   "cell_type": "markdown",
   "metadata": {},
   "source": [
    "## 6. Model evaluation and prediction"
   ]
  },
  {
   "cell_type": "code",
   "execution_count": 9,
   "metadata": {
    "ExecuteTime": {
     "end_time": "2024-11-14T19:49:59.259717400Z",
     "start_time": "2024-11-14T19:49:32.471782200Z"
    }
   },
   "outputs": [
    {
     "name": "stdout",
     "output_type": "stream",
     "text": [
      "Loss: 2.6114417790014\n",
      "Accuracy: 0.8712\n"
     ]
    }
   ],
   "source": [
    "loss, _ = model.evaluate(x_val, y_val)\n",
    "print(f'Loss: {loss}')\n",
    "\n",
    "predictions = model.predict(x_val)\n",
    "y_pred = np.where(predictions > 0.5, 1, 0)\n",
    "accuracy = accuracy_score(y_pred, y_val)\n",
    "print(f'Accuracy: {accuracy}')"
   ]
  }
 ],
 "metadata": {
  "kernelspec": {
   "display_name": "Python 3",
   "language": "python",
   "name": "python3"
  },
  "language_info": {
   "codemirror_mode": {
    "name": "ipython",
    "version": 3
   },
   "file_extension": ".py",
   "mimetype": "text/x-python",
   "name": "python",
   "nbconvert_exporter": "python",
   "pygments_lexer": "ipython3",
   "version": "3.10.8"
  }
 },
 "nbformat": 4,
 "nbformat_minor": 4
}
