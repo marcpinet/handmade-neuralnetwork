{
 "cells": [
  {
   "cell_type": "markdown",
   "metadata": {},
   "source": [
    "# Simple diabete regression "
   ]
  },
  {
   "cell_type": "markdown",
   "metadata": {
    "tags": []
   },
   "source": [
    "## Imports"
   ]
  },
  {
   "cell_type": "code",
   "execution_count": 1,
   "metadata": {
    "ExecuteTime": {
     "end_time": "2024-04-21T13:22:31.884628500Z",
     "start_time": "2024-04-21T13:22:30.866451700Z"
    }
   },
   "outputs": [],
   "source": [
    "from sklearn.datasets import load_diabetes\n",
    "\n",
    "from neuralnetlib.preprocessing import MinMaxScaler, StandardScaler\n",
    "from neuralnetlib.activations import Linear, LeakyReLU\n",
    "from neuralnetlib.layers import Input, Dense, Activation\n",
    "from neuralnetlib.losses import MeanSquaredError, MeanAbsoluteError\n",
    "from neuralnetlib.model import Model\n",
    "from neuralnetlib.optimizers import Adam\n",
    "from neuralnetlib.utils import train_test_split"
   ]
  },
  {
   "cell_type": "markdown",
   "metadata": {},
   "source": [
    "## 1. Loading a dataset (in this case, the diabetes dataset)"
   ]
  },
  {
   "cell_type": "code",
   "execution_count": 2,
   "metadata": {
    "ExecuteTime": {
     "end_time": "2024-04-21T13:22:31.904684200Z",
     "start_time": "2024-04-21T13:22:31.886631400Z"
    }
   },
   "outputs": [],
   "source": [
    "x, y = load_diabetes(return_X_y=True)\n",
    "x_train, x_test, y_train, y_test = train_test_split(x, y, test_size=0.2, random_state=42)"
   ]
  },
  {
   "cell_type": "markdown",
   "metadata": {},
   "source": [
    "## 2. Preprocessing"
   ]
  },
  {
   "cell_type": "code",
   "execution_count": 3,
   "metadata": {
    "ExecuteTime": {
     "end_time": "2024-04-21T13:22:31.915316200Z",
     "start_time": "2024-04-21T13:22:31.905686700Z"
    }
   },
   "outputs": [],
   "source": [
    "scaler_x = MinMaxScaler()\n",
    "x_train = scaler_x.fit_transform(x_train)\n",
    "x_test = scaler_x.transform(x_test)\n",
    "scaler_y = StandardScaler()\n",
    "y_train = scaler_y.fit_transform(y_train.reshape(-1, 1)).flatten()\n",
    "y_test = scaler_y.transform(y_test.reshape(-1, 1)).flatten()"
   ]
  },
  {
   "cell_type": "markdown",
   "metadata": {},
   "source": [
    "## 3. Model definition"
   ]
  },
  {
   "cell_type": "code",
   "execution_count": 4,
   "metadata": {
    "ExecuteTime": {
     "end_time": "2024-04-21T13:22:31.922833400Z",
     "start_time": "2024-04-21T13:22:31.914315800Z"
    }
   },
   "outputs": [],
   "source": [
    "input_neurons = x_train.shape[1:][0]\n",
    "num_hidden_layers = 2\n",
    "hidden_neurons = 2\n",
    "output_neurons = 1\n",
    "\n",
    "model = Model()\n",
    "model.add(Input(input_neurons))\n",
    "model.add(Dense(hidden_neurons, weights_init='he', random_state=42))\n",
    "model.add(Activation(LeakyReLU()))\n",
    "\n",
    "for _ in range(num_hidden_layers - 1):\n",
    "    model.add(Dense(hidden_neurons, weights_init='he', random_state=42))\n",
    "    model.add(Activation(LeakyReLU()))\n",
    "\n",
    "model.add(Dense(output_neurons, random_state=42))\n",
    "model.add(Activation(Linear()))"
   ]
  },
  {
   "cell_type": "markdown",
   "metadata": {},
   "source": [
    "## 4. Model compilation"
   ]
  },
  {
   "cell_type": "code",
   "execution_count": 5,
   "metadata": {
    "ExecuteTime": {
     "end_time": "2024-04-21T13:22:31.965385600Z",
     "start_time": "2024-04-21T13:22:31.924269100Z"
    }
   },
   "outputs": [
    {
     "name": "stdout",
     "output_type": "stream",
     "text": [
      "Model\n",
      "-------------------------------------------------\n",
      "Layer 1: Input(input_shape=(10,))\n",
      "Layer 2: Dense(units=2)\n",
      "Layer 3: Activation(LeakyReLU)\n",
      "Layer 4: Dense(units=2)\n",
      "Layer 5: Activation(LeakyReLU)\n",
      "Layer 6: Dense(units=1)\n",
      "Layer 7: Activation(Linear)\n",
      "-------------------------------------------------\n",
      "Loss function: MeanSquaredError\n",
      "Optimizer: Adam(learning_rate=0.001, beta_1=0.9, beta_2=0.999, epsilon=1e-08)\n",
      "-------------------------------------------------\n"
     ]
    }
   ],
   "source": [
    "model.compile(loss_function=MeanSquaredError(), optimizer=Adam(learning_rate=0.001))\n",
    "\n",
    "model.summary()"
   ]
  },
  {
   "cell_type": "markdown",
   "metadata": {},
   "source": [
    "## 5. Model training"
   ]
  },
  {
   "cell_type": "code",
   "execution_count": 6,
   "metadata": {
    "ExecuteTime": {
     "end_time": "2024-04-21T13:22:32.074543200Z",
     "start_time": "2024-04-21T13:22:31.939804400Z"
    }
   },
   "outputs": [
    {
     "name": "stdout",
     "output_type": "stream",
     "text": [
      "[==============================] 100% Epoch 1/10 - loss: 1.2716 -  - 0.02s\n",
      "[==============================] 100% Epoch 2/10 - loss: 1.2699 -  - 0.01s\n",
      "[==============================] 100% Epoch 3/10 - loss: 1.2680 -  - 0.01s\n",
      "[==============================] 100% Epoch 4/10 - loss: 1.2659 -  - 0.01s\n",
      "[==============================] 100% Epoch 5/10 - loss: 1.2636 -  - 0.01s\n",
      "[==============================] 100% Epoch 6/10 - loss: 1.2612 -  - 0.01s\n",
      "[==============================] 100% Epoch 7/10 - loss: 1.2587 -  - 0.01s\n",
      "[==============================] 100% Epoch 8/10 - loss: 1.2560 -  - 0.01s\n",
      "[==============================] 100% Epoch 9/10 - loss: 1.2531 -  - 0.01s\n",
      "[==============================] 100% Epoch 10/10 - loss: 1.2501 -  - 0.01s\n"
     ]
    }
   ],
   "source": [
    "model.train(x_train, y_train, epochs=10, batch_size=32, random_state=42)"
   ]
  },
  {
   "cell_type": "markdown",
   "metadata": {},
   "source": [
    "## 6. Model evaluation"
   ]
  },
  {
   "cell_type": "code",
   "execution_count": 7,
   "metadata": {
    "ExecuteTime": {
     "end_time": "2024-04-21T13:22:32.083579600Z",
     "start_time": "2024-04-21T13:22:32.071027500Z"
    }
   },
   "outputs": [
    {
     "name": "stdout",
     "output_type": "stream",
     "text": [
      "Test loss: 1.0980764954172244 function=MeanSquaredError\n"
     ]
    }
   ],
   "source": [
    "loss = model.evaluate(x_test, y_test)\n",
    "print(f'Test loss: {loss}', \"function=\" + model.loss_function.__class__.__name__)"
   ]
  },
  {
   "cell_type": "markdown",
   "metadata": {},
   "source": [
    "## 7. Model prediction"
   ]
  },
  {
   "cell_type": "code",
   "execution_count": 8,
   "metadata": {
    "ExecuteTime": {
     "end_time": "2024-04-21T13:22:32.095622600Z",
     "start_time": "2024-04-21T13:22:32.083579600Z"
    }
   },
   "outputs": [
    {
     "name": "stdout",
     "output_type": "stream",
     "text": [
      "MAE:  0.8728417081866269\n"
     ]
    }
   ],
   "source": [
    "y_pred = model.predict(x_test)\n",
    "print(\"MAE: \", MeanAbsoluteError()(y_test, y_pred))"
   ]
  },
  {
   "cell_type": "markdown",
   "metadata": {},
   "source": [
    "## 8. Printing some metrics"
   ]
  },
  {
   "cell_type": "code",
   "execution_count": 9,
   "metadata": {
    "ExecuteTime": {
     "end_time": "2024-04-21T13:22:32.136547300Z",
     "start_time": "2024-04-21T13:22:32.095622600Z"
    }
   },
   "outputs": [],
   "source": [
    "# 8. We don't print metrics such as accuracy or f1-score because this is a regression problem\n",
    "# not a classification-regression one."
   ]
  }
 ],
 "metadata": {
  "kernelspec": {
   "display_name": "Python 3 (ipykernel)",
   "language": "python",
   "name": "python3"
  },
  "language_info": {
   "codemirror_mode": {
    "name": "ipython",
    "version": 3
   },
   "file_extension": ".py",
   "mimetype": "text/x-python",
   "name": "python",
   "nbconvert_exporter": "python",
   "pygments_lexer": "ipython3",
   "version": "3.10.8"
  }
 },
 "nbformat": 4,
 "nbformat_minor": 4
}
