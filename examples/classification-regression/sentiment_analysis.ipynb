{
 "cells": [
  {
   "cell_type": "markdown",
   "metadata": {},
   "source": [
    "# Simple cancer binary classification"
   ]
  },
  {
   "cell_type": "markdown",
   "metadata": {
    "tags": []
   },
   "source": [
    "## Imports"
   ]
  },
  {
   "cell_type": "code",
   "execution_count": 1,
   "metadata": {
    "ExecuteTime": {
     "end_time": "2024-11-14T19:16:44.410758900Z",
     "start_time": "2024-11-14T19:16:36.414832900Z"
    }
   },
   "outputs": [],
   "source": [
    "import numpy as np\n",
    "\n",
    "from tensorflow.keras.datasets import imdb\n",
    "\n",
    "from neuralnetlib.models import Sequential\n",
    "from neuralnetlib.layers import Input, Dense, Embedding, LSTM, Bidirectional, Attention, GlobalAveragePooling1D\n",
    "from neuralnetlib.preprocessing import pad_sequences\n",
    "from neuralnetlib.metrics import accuracy_score\n",
    "from neuralnetlib.utils import train_test_split"
   ]
  },
  {
   "cell_type": "markdown",
   "metadata": {},
   "source": [
    "## 1. Loading the dataset"
   ]
  },
  {
   "cell_type": "code",
   "execution_count": 2,
   "metadata": {
    "ExecuteTime": {
     "end_time": "2024-11-14T19:16:45.992521100Z",
     "start_time": "2024-11-14T19:16:44.411806300Z"
    }
   },
   "outputs": [],
   "source": [
    "(x_train, y_train), (x_test, y_test) = imdb.load_data(num_words=10000)"
   ]
  },
  {
   "cell_type": "markdown",
   "metadata": {},
   "source": [
    "## 2. Preprocessing"
   ]
  },
  {
   "cell_type": "code",
   "execution_count": 3,
   "metadata": {
    "ExecuteTime": {
     "end_time": "2024-11-14T19:16:46.274852700Z",
     "start_time": "2024-11-14T19:16:45.993522Z"
    }
   },
   "outputs": [
    {
     "name": "stdout",
     "output_type": "stream",
     "text": [
      "x_train shape: (20000, 200)\n",
      "x_test shape: (25000, 200)\n",
      "y_train shape: (20000,)\n",
      "y_test shape: (25000,)\n",
      "x_train[0]: [4.500e+01 1.080e+02 1.000e+01 1.000e+01 1.100e+01 4.000e+00 6.500e+01\n",
      " 3.960e+03 9.000e+00 1.100e+01 4.100e+01 4.020e+02 2.000e+00 7.800e+02\n",
      " 3.300e+01 2.000e+00 6.130e+03 1.100e+01 2.000e+00 4.000e+00 2.763e+03\n",
      " 8.440e+02 2.600e+01 2.000e+00 2.240e+02 5.000e+00 1.930e+02 3.960e+03\n",
      " 3.900e+01 4.400e+01 7.900e+02 1.530e+02 1.540e+02 1.430e+02 4.100e+01\n",
      " 2.521e+03 5.600e+01 8.000e+00 4.100e+01 2.028e+03 5.590e+02 1.100e+01\n",
      " 4.000e+00 2.000e+01 4.400e+01 6.383e+03 5.284e+03 4.740e+02 4.820e+02\n",
      " 1.300e+01 6.600e+01 9.200e+01 1.040e+02 2.250e+02 6.000e+00 4.040e+02\n",
      " 5.240e+02 1.800e+01 3.960e+03 1.800e+01 1.110e+02 7.000e+00 1.780e+02\n",
      " 3.960e+03 4.510e+02 4.420e+02 7.600e+01 9.900e+01 9.760e+02 6.000e+00\n",
      " 1.369e+03 1.100e+01 2.630e+02 2.000e+00 4.600e+02 8.519e+03 2.000e+00\n",
      " 9.000e+00 3.084e+03 5.900e+01 9.000e+00 5.500e+01 7.207e+03 2.000e+00\n",
      " 5.000e+00 2.000e+00 5.900e+01 4.700e+01 7.750e+02 7.000e+00 9.963e+03\n",
      " 5.900e+01 4.700e+01 6.000e+00 8.700e+01 3.930e+02 3.100e+01 1.500e+01\n",
      " 3.775e+03 1.100e+01 1.290e+02 3.300e+02 7.300e+01 1.030e+02 4.000e+00\n",
      " 2.000e+01 9.000e+00 1.200e+02 1.793e+03 8.000e+00 2.000e+00 2.000e+00\n",
      " 2.000e+00 5.071e+03 3.960e+03 4.700e+01 2.470e+02 6.000e+00 5.879e+03\n",
      " 8.220e+02 7.400e+01 2.000e+00 2.100e+01 1.460e+02 1.688e+03 8.000e+00\n",
      " 4.909e+03 1.500e+01 4.800e+01 2.000e+00 1.999e+03 1.100e+01 4.000e+00\n",
      " 2.170e+02 1.300e+01 1.040e+02 5.900e+01 8.000e+01 2.700e+03 8.300e+01\n",
      " 1.200e+01 4.300e+01 1.700e+01 3.960e+03 3.418e+03 5.300e+01 9.760e+02\n",
      " 5.000e+00 6.861e+03 1.700e+01 5.900e+01 2.140e+02 9.220e+02 2.000e+00\n",
      " 4.600e+02 5.603e+03 2.000e+00 4.860e+02 5.000e+00 1.557e+03 2.000e+00\n",
      " 5.500e+01 7.300e+01 1.400e+02 1.404e+03 5.000e+00 8.510e+02 1.400e+01\n",
      " 2.000e+01 4.500e+01 2.400e+01 4.000e+01 2.330e+02 3.340e+02 8.740e+02\n",
      " 1.100e+02 5.000e+00 6.000e+01 1.510e+02 1.200e+01 1.600e+01 5.260e+02\n",
      " 3.400e+01 1.091e+03 2.000e+00 1.200e+01 9.000e+00 3.680e+02 7.000e+00\n",
      " 2.000e+00 2.442e+03 8.700e+01 3.700e+02 1.102e+03 1.524e+03 5.000e+00\n",
      " 7.300e+01 2.240e+02 2.060e+02 8.440e+02]\n",
      "y_train[0]: 1\n"
     ]
    }
   ],
   "source": [
    "max_words = 10000\n",
    "max_len = 200\n",
    "\n",
    "x_train = pad_sequences(x_train, max_length=max_len)\n",
    "x_test = pad_sequences(x_test, max_length=max_len)\n",
    "\n",
    "# cuz we don't want to overfit on test data\n",
    "x_train, x_val, y_train, y_val = train_test_split(x_train, y_train, test_size=0.2, random_state=42)\n",
    "\n",
    "print(f'x_train shape: {x_train.shape}')\n",
    "print(f'x_test shape: {x_test.shape}')\n",
    "\n",
    "print(f'y_train shape: {y_train.shape}')\n",
    "print(f'y_test shape: {y_test.shape}')\n",
    "\n",
    "print(f'x_train[0]: {x_train[0]}')\n",
    "print(f'y_train[0]: {y_train[0]}')"
   ]
  },
  {
   "cell_type": "markdown",
   "metadata": {},
   "source": [
    "## 3. Model definition"
   ]
  },
  {
   "cell_type": "code",
   "execution_count": 4,
   "metadata": {
    "ExecuteTime": {
     "end_time": "2024-11-14T19:16:46.290395200Z",
     "start_time": "2024-11-14T19:16:46.261338Z"
    }
   },
   "outputs": [],
   "source": [
    "model = Sequential()\n",
    "model.add(Input(max_len))\n",
    "model.add(Embedding(max_words, 100, weights_init='xavier'))\n",
    "model.add(Bidirectional(LSTM(32, return_sequences=True)))\n",
    "model.add(Attention())\n",
    "model.add(Dense(1, activation='sigmoid'))"
   ]
  },
  {
   "cell_type": "markdown",
   "metadata": {},
   "source": [
    "## 4. Model compilation"
   ]
  },
  {
   "cell_type": "code",
   "execution_count": 5,
   "metadata": {
    "ExecuteTime": {
     "end_time": "2024-11-14T19:16:46.297467500Z",
     "start_time": "2024-11-14T19:16:46.276854500Z"
    }
   },
   "outputs": [
    {
     "name": "stdout",
     "output_type": "stream",
     "text": [
      "Sequential(temperature=1.0, gradient_clip_threshold=5.0, enable_padding=False, padding_size=32, random_state=1731611806261338000)\n",
      "-------------------------------------------------\n",
      "Layer 1: Input(input_shape=(200,))\n",
      "Layer 2: Embedding(input_dim=10000, output_dim=100)\n",
      "Layer 3: Bidirectional(layer=LSTM(units=32, return_sequences=True, return_state=False, random_state=None, clip_value=5.0))\n",
      "Layer 4: Attention(use_scale=True, score_mode=dot, return_sequences=False)\n",
      "Layer 5: Dense(units=1)\n",
      "Layer 6: Activation(Sigmoid)\n",
      "-------------------------------------------------\n",
      "Loss function: BinaryCrossentropy\n",
      "Optimizer: Adam(learning_rate=0.001, beta_1=0.9, beta_2=0.999, epsilon=1e-08, clip_norm=None, clip_value=None)\n",
      "-------------------------------------------------\n"
     ]
    }
   ],
   "source": [
    "model.compile(optimizer='adam', loss_function='binary_crossentropy')\n",
    "\n",
    "model.summary()"
   ]
  },
  {
   "cell_type": "markdown",
   "metadata": {},
   "source": [
    "## 5. Model training"
   ]
  },
  {
   "cell_type": "code",
   "execution_count": 6,
   "metadata": {
    "ExecuteTime": {
     "end_time": "2024-11-14T19:49:32.469776300Z",
     "start_time": "2024-11-14T19:16:46.292462300Z"
    }
   },
   "outputs": [
    {
     "name": "stdout",
     "output_type": "stream",
     "text": [
      "[==============================] 100% Epoch 1/10 - loss: 0.4515 - accuracy: 0.8001 - 149.41s - val_accuracy: 0.8397\n",
      "[==============================] 100% Epoch 2/10 - loss: 0.2670 - accuracy: 0.8926 - 134.93s - val_accuracy: 0.8542\n",
      "[==============================] 100% Epoch 3/10 - loss: 0.2317 - accuracy: 0.9129 - 136.07s - val_accuracy: 0.8512\n",
      "[==============================] 100% Epoch 4/10 - loss: 0.2437 - accuracy: 0.9196 - 133.42s - val_accuracy: 0.8383\n",
      "[==============================] 100% Epoch 5/10 - loss: 0.2506 - accuracy: 0.9280 - 135.57s - val_accuracy: 0.8449\n",
      "[==============================] 100% Epoch 6/10 - loss: 0.2753 - accuracy: 0.9333 - 138.26s - val_accuracy: 0.8346\n",
      "[==============================] 100% Epoch 7/10 - loss: 0.3047 - accuracy: 0.9371 - 141.18s - val_accuracy: 0.8236\n",
      "[==============================] 100% Epoch 8/10 - loss: 0.3261 - accuracy: 0.9405 - 140.46s - val_accuracy: 0.8178\n",
      "[==============================] 100% Epoch 9/10 - loss: 0.3593 - accuracy: 0.9459 - 135.74s - val_accuracy: 0.8236\n",
      "[==============================] 100% Epoch 10/10 - loss: 0.3402 - accuracy: 0.9528 - 144.90s - val_accuracy: 0.8296\n"
     ]
    },
    {
     "data": {
      "text/plain": ""
     },
     "execution_count": 6,
     "metadata": {},
     "output_type": "execute_result"
    }
   ],
   "source": [
    "model.fit(x_train, y_train, epochs=10, batch_size=32, validation_data=(x_test, y_test), metrics=['accuracy'], random_state=42)"
   ]
  },
  {
   "cell_type": "markdown",
   "metadata": {},
   "source": [
    "## 6. Model evaluation and prediction"
   ]
  },
  {
   "cell_type": "code",
   "execution_count": 7,
   "metadata": {
    "ExecuteTime": {
     "end_time": "2024-11-14T19:49:59.259717400Z",
     "start_time": "2024-11-14T19:49:32.471782200Z"
    }
   },
   "outputs": [
    {
     "name": "stdout",
     "output_type": "stream",
     "text": [
      "Loss: 11.780504039134605\n",
      "Accuracy: 0.831\n"
     ]
    }
   ],
   "source": [
    "loss, _ = model.evaluate(x_val, y_val)\n",
    "print(f'Loss: {loss}')\n",
    "\n",
    "predictions = model.predict(x_val)\n",
    "y_pred = np.where(predictions > 0.5, 1, 0)\n",
    "accuracy = accuracy_score(y_pred, y_val)\n",
    "print(f'Accuracy: {accuracy}')"
   ]
  }
 ],
 "metadata": {
  "kernelspec": {
   "display_name": "Python 3",
   "language": "python",
   "name": "python3"
  },
  "language_info": {
   "codemirror_mode": {
    "name": "ipython",
    "version": 3
   },
   "file_extension": ".py",
   "mimetype": "text/x-python",
   "name": "python",
   "nbconvert_exporter": "python",
   "pygments_lexer": "ipython3",
   "version": "3.10.8"
  }
 },
 "nbformat": 4,
 "nbformat_minor": 4
}
