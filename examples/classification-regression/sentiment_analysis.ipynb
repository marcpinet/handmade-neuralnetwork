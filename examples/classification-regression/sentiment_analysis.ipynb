{
 "cells": [
  {
   "cell_type": "markdown",
   "metadata": {},
   "source": [
    "# Simple cancer binary classification"
   ]
  },
  {
   "cell_type": "markdown",
   "metadata": {
    "tags": []
   },
   "source": [
    "## Imports"
   ]
  },
  {
   "cell_type": "code",
   "execution_count": 1,
   "metadata": {
    "ExecuteTime": {
     "end_time": "2024-11-09T16:47:06.656786200Z",
     "start_time": "2024-11-09T16:46:57.673829300Z"
    }
   },
   "outputs": [],
   "source": [
    "import numpy as np\n",
    "import pandas as pd\n",
    "\n",
    "from neuralnetlib.model import Model\n",
    "from neuralnetlib.layers import Input, Dense, Embedding, LSTM, Bidirectional, Attention, GlobalAveragePooling1D\n",
    "from neuralnetlib.preprocessing import Tokenizer, pad_sequences\n",
    "from neuralnetlib.metrics import accuracy_score\n",
    "from neuralnetlib.utils import train_test_split\n",
    "\n",
    "from tensorflow.keras.datasets import imdb\n"
   ]
  },
  {
   "cell_type": "markdown",
   "metadata": {},
   "source": [
    "## 1. Loading the dataset"
   ]
  },
  {
   "cell_type": "code",
   "execution_count": 2,
   "metadata": {
    "ExecuteTime": {
     "end_time": "2024-11-09T16:47:08.174897400Z",
     "start_time": "2024-11-09T16:47:06.657786500Z"
    }
   },
   "outputs": [],
   "source": [
    "(x_train, y_train), (x_test, y_test) = imdb.load_data(num_words=10000)"
   ]
  },
  {
   "cell_type": "markdown",
   "metadata": {},
   "source": [
    "## 2. Preprocessing"
   ]
  },
  {
   "cell_type": "code",
   "execution_count": 3,
   "metadata": {
    "ExecuteTime": {
     "end_time": "2024-11-09T16:47:08.441730300Z",
     "start_time": "2024-11-09T16:47:08.175897700Z"
    }
   },
   "outputs": [
    {
     "name": "stdout",
     "output_type": "stream",
     "text": [
      "x_train shape: (20000, 200)\n",
      "x_test shape: (25000, 200)\n",
      "y_train shape: (20000,)\n",
      "y_test shape: (25000,)\n",
      "x_train[0]: [4.500e+01 1.080e+02 1.000e+01 1.000e+01 1.100e+01 4.000e+00 6.500e+01\n",
      " 3.960e+03 9.000e+00 1.100e+01 4.100e+01 4.020e+02 2.000e+00 7.800e+02\n",
      " 3.300e+01 2.000e+00 6.130e+03 1.100e+01 2.000e+00 4.000e+00 2.763e+03\n",
      " 8.440e+02 2.600e+01 2.000e+00 2.240e+02 5.000e+00 1.930e+02 3.960e+03\n",
      " 3.900e+01 4.400e+01 7.900e+02 1.530e+02 1.540e+02 1.430e+02 4.100e+01\n",
      " 2.521e+03 5.600e+01 8.000e+00 4.100e+01 2.028e+03 5.590e+02 1.100e+01\n",
      " 4.000e+00 2.000e+01 4.400e+01 6.383e+03 5.284e+03 4.740e+02 4.820e+02\n",
      " 1.300e+01 6.600e+01 9.200e+01 1.040e+02 2.250e+02 6.000e+00 4.040e+02\n",
      " 5.240e+02 1.800e+01 3.960e+03 1.800e+01 1.110e+02 7.000e+00 1.780e+02\n",
      " 3.960e+03 4.510e+02 4.420e+02 7.600e+01 9.900e+01 9.760e+02 6.000e+00\n",
      " 1.369e+03 1.100e+01 2.630e+02 2.000e+00 4.600e+02 8.519e+03 2.000e+00\n",
      " 9.000e+00 3.084e+03 5.900e+01 9.000e+00 5.500e+01 7.207e+03 2.000e+00\n",
      " 5.000e+00 2.000e+00 5.900e+01 4.700e+01 7.750e+02 7.000e+00 9.963e+03\n",
      " 5.900e+01 4.700e+01 6.000e+00 8.700e+01 3.930e+02 3.100e+01 1.500e+01\n",
      " 3.775e+03 1.100e+01 1.290e+02 3.300e+02 7.300e+01 1.030e+02 4.000e+00\n",
      " 2.000e+01 9.000e+00 1.200e+02 1.793e+03 8.000e+00 2.000e+00 2.000e+00\n",
      " 2.000e+00 5.071e+03 3.960e+03 4.700e+01 2.470e+02 6.000e+00 5.879e+03\n",
      " 8.220e+02 7.400e+01 2.000e+00 2.100e+01 1.460e+02 1.688e+03 8.000e+00\n",
      " 4.909e+03 1.500e+01 4.800e+01 2.000e+00 1.999e+03 1.100e+01 4.000e+00\n",
      " 2.170e+02 1.300e+01 1.040e+02 5.900e+01 8.000e+01 2.700e+03 8.300e+01\n",
      " 1.200e+01 4.300e+01 1.700e+01 3.960e+03 3.418e+03 5.300e+01 9.760e+02\n",
      " 5.000e+00 6.861e+03 1.700e+01 5.900e+01 2.140e+02 9.220e+02 2.000e+00\n",
      " 4.600e+02 5.603e+03 2.000e+00 4.860e+02 5.000e+00 1.557e+03 2.000e+00\n",
      " 5.500e+01 7.300e+01 1.400e+02 1.404e+03 5.000e+00 8.510e+02 1.400e+01\n",
      " 2.000e+01 4.500e+01 2.400e+01 4.000e+01 2.330e+02 3.340e+02 8.740e+02\n",
      " 1.100e+02 5.000e+00 6.000e+01 1.510e+02 1.200e+01 1.600e+01 5.260e+02\n",
      " 3.400e+01 1.091e+03 2.000e+00 1.200e+01 9.000e+00 3.680e+02 7.000e+00\n",
      " 2.000e+00 2.442e+03 8.700e+01 3.700e+02 1.102e+03 1.524e+03 5.000e+00\n",
      " 7.300e+01 2.240e+02 2.060e+02 8.440e+02]\n",
      "y_train[0]: 1\n"
     ]
    }
   ],
   "source": [
    "max_words = 10000\n",
    "max_len = 200\n",
    "\n",
    "x_train = pad_sequences(x_train, max_length=max_len)\n",
    "x_test = pad_sequences(x_test, max_length=max_len)\n",
    "\n",
    "# cuz we don't want to overfit on test data\n",
    "x_train, x_val, y_train, y_val = train_test_split(x_train, y_train, test_size=0.2, random_state=42)\n",
    "\n",
    "print(f'x_train shape: {x_train.shape}')\n",
    "print(f'x_test shape: {x_test.shape}')\n",
    "\n",
    "print(f'y_train shape: {y_train.shape}')\n",
    "print(f'y_test shape: {y_test.shape}')\n",
    "\n",
    "print(f'x_train[0]: {x_train[0]}')\n",
    "print(f'y_train[0]: {y_train[0]}')"
   ]
  },
  {
   "cell_type": "markdown",
   "metadata": {},
   "source": [
    "## 3. Model definition"
   ]
  },
  {
   "cell_type": "code",
   "execution_count": 4,
   "metadata": {
    "ExecuteTime": {
     "end_time": "2024-11-09T16:47:08.472008600Z",
     "start_time": "2024-11-09T16:47:08.442734800Z"
    }
   },
   "outputs": [],
   "source": [
    "model = Model()\n",
    "model.add(Input(max_len))\n",
    "model.add(Embedding(max_words, 100, weights_init='xavier'))\n",
    "model.add(Bidirectional(LSTM(32, return_sequences=True)))\n",
    "model.add(Attention())\n",
    "model.add(Dense(1, activation='sigmoid'))"
   ]
  },
  {
   "cell_type": "markdown",
   "metadata": {},
   "source": [
    "## 4. Model compilation"
   ]
  },
  {
   "cell_type": "code",
   "execution_count": 5,
   "metadata": {
    "ExecuteTime": {
     "end_time": "2024-11-09T16:47:08.475518500Z",
     "start_time": "2024-11-09T16:47:08.457436500Z"
    }
   },
   "outputs": [
    {
     "name": "stdout",
     "output_type": "stream",
     "text": [
      "Model\n",
      "-------------------------------------------------\n",
      "Layer 1: Input(input_shape=(200,))\n",
      "Layer 2: Embedding(input_dim=10000, output_dim=100)\n",
      "Layer 3: Bidirectional(layer=LSTM(units=32, return_sequences=True, return_state=False))\n",
      "Layer 4: Attention(use_scale=True, score_mode=dot, return_sequences=False)\n",
      "Layer 5: Dense(units=1)\n",
      "Layer 6: Activation(Sigmoid)\n",
      "-------------------------------------------------\n",
      "Loss function: BinaryCrossentropy\n",
      "Optimizer: Adam(learning_rate=0.001, beta_1=0.9, beta_2=0.999, epsilon=1e-08)\n",
      "-------------------------------------------------\n"
     ]
    }
   ],
   "source": [
    "model.compile(optimizer='adam', loss_function='binary_crossentropy')\n",
    "\n",
    "model.summary()"
   ]
  },
  {
   "cell_type": "markdown",
   "metadata": {},
   "source": [
    "## 5. Model training"
   ]
  },
  {
   "cell_type": "code",
   "execution_count": 6,
   "metadata": {
    "ExecuteTime": {
     "end_time": "2024-11-09T17:04:20.477887200Z",
     "start_time": "2024-11-09T16:47:08.473514100Z"
    }
   },
   "outputs": [
    {
     "name": "stdout",
     "output_type": "stream",
     "text": [
      "[==============================] 100% Epoch 1/10 - loss: 0.4700 - accuracy: 0.7888 - 121.74s - val_accuracy: 0.8178\n",
      "[==============================] 100% Epoch 2/10 - loss: 0.2629 - accuracy: 0.9014 - 122.03s - val_accuracy: 0.8574\n",
      "[==============================] 100% Epoch 3/10 - loss: 0.1790 - accuracy: 0.9375 - 125.66s - val_accuracy: 0.8504\n",
      "[==============================] 100% Epoch 4/10 - loss: 0.1329 - accuracy: 0.9550 - 118.54s - val_accuracy: 0.8603\n",
      "[==============================] 100% Epoch 5/10 - loss: 0.1031 - accuracy: 0.9661 - 130.36s - val_accuracy: 0.8549\n",
      "[======------------------------] 22% Epoch 6/10 - loss: 0.1042 - accuracy: 0.9637 - 61.61s"
     ]
    },
    {
     "ename": "KeyboardInterrupt",
     "evalue": "",
     "output_type": "error",
     "traceback": [
      "\u001B[1;31m---------------------------------------------------------------------------\u001B[0m",
      "\u001B[1;31mKeyboardInterrupt\u001B[0m                         Traceback (most recent call last)",
      "Cell \u001B[1;32mIn[6], line 1\u001B[0m\n\u001B[1;32m----> 1\u001B[0m \u001B[43mmodel\u001B[49m\u001B[38;5;241;43m.\u001B[39;49m\u001B[43mfit\u001B[49m\u001B[43m(\u001B[49m\u001B[43mx_train\u001B[49m\u001B[43m,\u001B[49m\u001B[43m \u001B[49m\u001B[43my_train\u001B[49m\u001B[43m,\u001B[49m\u001B[43m \u001B[49m\u001B[43mepochs\u001B[49m\u001B[38;5;241;43m=\u001B[39;49m\u001B[38;5;241;43m10\u001B[39;49m\u001B[43m,\u001B[49m\u001B[43m \u001B[49m\u001B[43mbatch_size\u001B[49m\u001B[38;5;241;43m=\u001B[39;49m\u001B[38;5;241;43m32\u001B[39;49m\u001B[43m,\u001B[49m\u001B[43m \u001B[49m\u001B[43mvalidation_data\u001B[49m\u001B[38;5;241;43m=\u001B[39;49m\u001B[43m(\u001B[49m\u001B[43mx_test\u001B[49m\u001B[43m,\u001B[49m\u001B[43m \u001B[49m\u001B[43my_test\u001B[49m\u001B[43m)\u001B[49m\u001B[43m,\u001B[49m\u001B[43m \u001B[49m\u001B[43mmetrics\u001B[49m\u001B[38;5;241;43m=\u001B[39;49m\u001B[43m[\u001B[49m\u001B[38;5;124;43m'\u001B[39;49m\u001B[38;5;124;43maccuracy\u001B[39;49m\u001B[38;5;124;43m'\u001B[39;49m\u001B[43m]\u001B[49m\u001B[43m,\u001B[49m\u001B[43m \u001B[49m\u001B[43mrandom_state\u001B[49m\u001B[38;5;241;43m=\u001B[39;49m\u001B[38;5;241;43m42\u001B[39;49m\u001B[43m)\u001B[49m\n",
      "File \u001B[1;32m~\\Documents\\Programming\\Python\\neuralnetlib\\neuralnetlib\\model.py:218\u001B[0m, in \u001B[0;36mModel.fit\u001B[1;34m(self, x_train, y_train, epochs, batch_size, verbose, metrics, random_state, validation_data, callbacks, plot_decision_boundary)\u001B[0m\n\u001B[0;32m    216\u001B[0m \u001B[38;5;28;01mif\u001B[39;00m y_batch\u001B[38;5;241m.\u001B[39mndim \u001B[38;5;241m==\u001B[39m \u001B[38;5;241m1\u001B[39m:\n\u001B[0;32m    217\u001B[0m     y_batch \u001B[38;5;241m=\u001B[39m y_batch\u001B[38;5;241m.\u001B[39mreshape(\u001B[38;5;241m-\u001B[39m\u001B[38;5;241m1\u001B[39m, \u001B[38;5;241m1\u001B[39m)\n\u001B[1;32m--> 218\u001B[0m error \u001B[38;5;241m+\u001B[39m\u001B[38;5;241m=\u001B[39m \u001B[38;5;28;43mself\u001B[39;49m\u001B[38;5;241;43m.\u001B[39;49m\u001B[43mtrain_on_batch\u001B[49m\u001B[43m(\u001B[49m\u001B[43mx_batch\u001B[49m\u001B[43m,\u001B[49m\u001B[43m \u001B[49m\u001B[43my_batch\u001B[49m\u001B[43m)\u001B[49m\n\u001B[0;32m    219\u001B[0m predictions_list\u001B[38;5;241m.\u001B[39mappend(\u001B[38;5;28mself\u001B[39m\u001B[38;5;241m.\u001B[39mpredictions)\n\u001B[0;32m    220\u001B[0m y_true_list\u001B[38;5;241m.\u001B[39mappend(y_batch)\n",
      "File \u001B[1;32m~\\Documents\\Programming\\Python\\neuralnetlib\\neuralnetlib\\model.py:122\u001B[0m, in \u001B[0;36mModel.train_on_batch\u001B[1;34m(self, x_batch, y_batch)\u001B[0m\n\u001B[0;32m    119\u001B[0m \u001B[38;5;28;01melif\u001B[39;00m \u001B[38;5;28misinstance\u001B[39m(\u001B[38;5;28mself\u001B[39m\u001B[38;5;241m.\u001B[39mlayers[\u001B[38;5;241m-\u001B[39m\u001B[38;5;241m1\u001B[39m], (LSTM, Bidirectional)) \u001B[38;5;129;01mand\u001B[39;00m \u001B[38;5;28mself\u001B[39m\u001B[38;5;241m.\u001B[39mlayers[\u001B[38;5;241m-\u001B[39m\u001B[38;5;241m1\u001B[39m]\u001B[38;5;241m.\u001B[39mreturn_sequences:\n\u001B[0;32m    120\u001B[0m     error \u001B[38;5;241m=\u001B[39m error\u001B[38;5;241m.\u001B[39mreshape(error\u001B[38;5;241m.\u001B[39mshape[\u001B[38;5;241m0\u001B[39m], error\u001B[38;5;241m.\u001B[39mshape[\u001B[38;5;241m1\u001B[39m], \u001B[38;5;241m-\u001B[39m\u001B[38;5;241m1\u001B[39m)\n\u001B[1;32m--> 122\u001B[0m \u001B[38;5;28;43mself\u001B[39;49m\u001B[38;5;241;43m.\u001B[39;49m\u001B[43mbackward_pass\u001B[49m\u001B[43m(\u001B[49m\u001B[43merror\u001B[49m\u001B[43m)\u001B[49m\n\u001B[0;32m    123\u001B[0m \u001B[38;5;28;01mreturn\u001B[39;00m loss\n",
      "File \u001B[1;32m~\\Documents\\Programming\\Python\\neuralnetlib\\neuralnetlib\\model.py:90\u001B[0m, in \u001B[0;36mModel.backward_pass\u001B[1;34m(self, error)\u001B[0m\n\u001B[0;32m     88\u001B[0m     error \u001B[38;5;241m=\u001B[39m \u001B[38;5;28mself\u001B[39m\u001B[38;5;241m.\u001B[39mpredictions \u001B[38;5;241m-\u001B[39m \u001B[38;5;28mself\u001B[39m\u001B[38;5;241m.\u001B[39my_true\n\u001B[0;32m     89\u001B[0m \u001B[38;5;28;01melse\u001B[39;00m:\n\u001B[1;32m---> 90\u001B[0m     error \u001B[38;5;241m=\u001B[39m \u001B[43mlayer\u001B[49m\u001B[38;5;241;43m.\u001B[39;49m\u001B[43mbackward_pass\u001B[49m\u001B[43m(\u001B[49m\u001B[43merror\u001B[49m\u001B[43m)\u001B[49m\n\u001B[0;32m     92\u001B[0m \u001B[38;5;28;01mif\u001B[39;00m \u001B[38;5;28mhasattr\u001B[39m(layer, \u001B[38;5;124m'\u001B[39m\u001B[38;5;124mweights\u001B[39m\u001B[38;5;124m'\u001B[39m):\n\u001B[0;32m     93\u001B[0m     \u001B[38;5;28;01mif\u001B[39;00m \u001B[38;5;28mhasattr\u001B[39m(layer, \u001B[38;5;124m'\u001B[39m\u001B[38;5;124md_weights\u001B[39m\u001B[38;5;124m'\u001B[39m) \u001B[38;5;129;01mand\u001B[39;00m \u001B[38;5;28mhasattr\u001B[39m(layer, \u001B[38;5;124m'\u001B[39m\u001B[38;5;124md_bias\u001B[39m\u001B[38;5;124m'\u001B[39m):\n",
      "File \u001B[1;32m~\\Documents\\Programming\\Python\\neuralnetlib\\neuralnetlib\\layers.py:1665\u001B[0m, in \u001B[0;36mBidirectional.backward_pass\u001B[1;34m(self, output_error)\u001B[0m\n\u001B[0;32m   1662\u001B[0m     backward_error \u001B[38;5;241m=\u001B[39m output_error[:, forward_dim:]\n\u001B[0;32m   1664\u001B[0m forward_dx \u001B[38;5;241m=\u001B[39m \u001B[38;5;28mself\u001B[39m\u001B[38;5;241m.\u001B[39mforward_layer\u001B[38;5;241m.\u001B[39mbackward_pass(forward_error)\n\u001B[1;32m-> 1665\u001B[0m backward_dx \u001B[38;5;241m=\u001B[39m \u001B[38;5;28;43mself\u001B[39;49m\u001B[38;5;241;43m.\u001B[39;49m\u001B[43mbackward_layer\u001B[49m\u001B[38;5;241;43m.\u001B[39;49m\u001B[43mbackward_pass\u001B[49m\u001B[43m(\u001B[49m\u001B[43mbackward_error\u001B[49m\u001B[43m)\u001B[49m\n\u001B[0;32m   1667\u001B[0m \u001B[38;5;28;01mif\u001B[39;00m \u001B[38;5;28mlen\u001B[39m(output_error\u001B[38;5;241m.\u001B[39mshape) \u001B[38;5;241m==\u001B[39m \u001B[38;5;241m3\u001B[39m:\n\u001B[0;32m   1668\u001B[0m     backward_dx \u001B[38;5;241m=\u001B[39m backward_dx[:, ::\u001B[38;5;241m-\u001B[39m\u001B[38;5;241m1\u001B[39m, :]\n",
      "File \u001B[1;32m~\\Documents\\Programming\\Python\\neuralnetlib\\neuralnetlib\\layers.py:1586\u001B[0m, in \u001B[0;36mLSTM.backward_pass\u001B[1;34m(self, dout)\u001B[0m\n\u001B[0;32m   1584\u001B[0m     dh \u001B[38;5;241m=\u001B[39m dout[:, t, :] \u001B[38;5;241m+\u001B[39m dh_next\n\u001B[0;32m   1585\u001B[0m     \u001B[38;5;28mself\u001B[39m\u001B[38;5;241m.\u001B[39mcell\u001B[38;5;241m.\u001B[39mcache \u001B[38;5;241m=\u001B[39m \u001B[38;5;28mself\u001B[39m\u001B[38;5;241m.\u001B[39mcache[t]\n\u001B[1;32m-> 1586\u001B[0m     dx_t, dh_next, dc_next \u001B[38;5;241m=\u001B[39m \u001B[38;5;28;43mself\u001B[39;49m\u001B[38;5;241;43m.\u001B[39;49m\u001B[43mcell\u001B[49m\u001B[38;5;241;43m.\u001B[39;49m\u001B[43mbackward\u001B[49m\u001B[43m(\u001B[49m\u001B[43mdh\u001B[49m\u001B[43m,\u001B[49m\u001B[43m \u001B[49m\u001B[43mdc_next\u001B[49m\u001B[43m)\u001B[49m\n\u001B[0;32m   1587\u001B[0m     dx[:, t, :] \u001B[38;5;241m=\u001B[39m dx_t\n\u001B[0;32m   1589\u001B[0m \u001B[38;5;28mself\u001B[39m\u001B[38;5;241m.\u001B[39mcache \u001B[38;5;241m=\u001B[39m \u001B[38;5;28;01mNone\u001B[39;00m\n",
      "File \u001B[1;32m~\\Documents\\Programming\\Python\\neuralnetlib\\neuralnetlib\\layers.py:1480\u001B[0m, in \u001B[0;36mLSTMCell.backward\u001B[1;34m(self, dh_next, dc_next)\u001B[0m\n\u001B[0;32m   1478\u001B[0m \u001B[38;5;66;03m# Input gate gradients\u001B[39;00m\n\u001B[0;32m   1479\u001B[0m di_input \u001B[38;5;241m=\u001B[39m di \u001B[38;5;241m*\u001B[39m i_t \u001B[38;5;241m*\u001B[39m (\u001B[38;5;241m1\u001B[39m \u001B[38;5;241m-\u001B[39m i_t)\n\u001B[1;32m-> 1480\u001B[0m \u001B[38;5;28mself\u001B[39m\u001B[38;5;241m.\u001B[39mdWi \u001B[38;5;241m+\u001B[39m\u001B[38;5;241m=\u001B[39m \u001B[43mnp\u001B[49m\u001B[38;5;241;43m.\u001B[39;49m\u001B[43mdot\u001B[49m\u001B[43m(\u001B[49m\u001B[43mx_t\u001B[49m\u001B[38;5;241;43m.\u001B[39;49m\u001B[43mT\u001B[49m\u001B[43m,\u001B[49m\u001B[43m \u001B[49m\u001B[43mdi_input\u001B[49m\u001B[43m)\u001B[49m\n\u001B[0;32m   1481\u001B[0m \u001B[38;5;28mself\u001B[39m\u001B[38;5;241m.\u001B[39mdUi \u001B[38;5;241m+\u001B[39m\u001B[38;5;241m=\u001B[39m np\u001B[38;5;241m.\u001B[39mdot(h_prev\u001B[38;5;241m.\u001B[39mT, di_input)\n\u001B[0;32m   1482\u001B[0m \u001B[38;5;28mself\u001B[39m\u001B[38;5;241m.\u001B[39mdbi \u001B[38;5;241m+\u001B[39m\u001B[38;5;241m=\u001B[39m np\u001B[38;5;241m.\u001B[39msum(di_input, axis\u001B[38;5;241m=\u001B[39m\u001B[38;5;241m0\u001B[39m, keepdims\u001B[38;5;241m=\u001B[39m\u001B[38;5;28;01mTrue\u001B[39;00m)\n",
      "File \u001B[1;32m~\\AppData\\Roaming\\Python\\Python310\\site-packages\\numpy\\core\\multiarray.py:741\u001B[0m, in \u001B[0;36mdot\u001B[1;34m(a, b, out)\u001B[0m\n\u001B[0;32m    671\u001B[0m \u001B[38;5;250m    \u001B[39m\u001B[38;5;124;03m\"\"\"\u001B[39;00m\n\u001B[0;32m    672\u001B[0m \u001B[38;5;124;03m    result_type(*arrays_and_dtypes)\u001B[39;00m\n\u001B[0;32m    673\u001B[0m \n\u001B[1;32m   (...)\u001B[0m\n\u001B[0;32m    736\u001B[0m \n\u001B[0;32m    737\u001B[0m \u001B[38;5;124;03m    \"\"\"\u001B[39;00m\n\u001B[0;32m    738\u001B[0m     \u001B[38;5;28;01mreturn\u001B[39;00m arrays_and_dtypes\n\u001B[1;32m--> 741\u001B[0m \u001B[38;5;129m@array_function_from_c_func_and_dispatcher\u001B[39m(_multiarray_umath\u001B[38;5;241m.\u001B[39mdot)\n\u001B[0;32m    742\u001B[0m \u001B[38;5;28;01mdef\u001B[39;00m \u001B[38;5;21mdot\u001B[39m(a, b, out\u001B[38;5;241m=\u001B[39m\u001B[38;5;28;01mNone\u001B[39;00m):\n\u001B[0;32m    743\u001B[0m \u001B[38;5;250m    \u001B[39m\u001B[38;5;124;03m\"\"\"\u001B[39;00m\n\u001B[0;32m    744\u001B[0m \u001B[38;5;124;03m    dot(a, b, out=None)\u001B[39;00m\n\u001B[0;32m    745\u001B[0m \n\u001B[1;32m   (...)\u001B[0m\n\u001B[0;32m    829\u001B[0m \n\u001B[0;32m    830\u001B[0m \u001B[38;5;124;03m    \"\"\"\u001B[39;00m\n\u001B[0;32m    831\u001B[0m     \u001B[38;5;28;01mreturn\u001B[39;00m (a, b, out)\n",
      "\u001B[1;31mKeyboardInterrupt\u001B[0m: "
     ]
    }
   ],
   "source": [
    "model.fit(x_train, y_train, epochs=10, batch_size=32, validation_data=(x_test, y_test), metrics=['accuracy'], random_state=42)"
   ]
  },
  {
   "cell_type": "markdown",
   "metadata": {},
   "source": [
    "## 6. Model evaluation and prediction"
   ]
  },
  {
   "cell_type": "code",
   "execution_count": null,
   "metadata": {
    "ExecuteTime": {
     "end_time": "2024-11-09T17:04:20.481888500Z",
     "start_time": "2024-11-09T17:04:20.479891Z"
    }
   },
   "outputs": [],
   "source": [
    "loss, _ = model.evaluate(x_val, y_val)\n",
    "print(f'Loss: {loss}')\n",
    "\n",
    "predictions = model.predict(x_val)\n",
    "y_pred = np.where(predictions > 0.5, 1, 0)\n",
    "accuracy = accuracy_score(y_pred, y_val)\n",
    "print(f'Accuracy: {accuracy}')"
   ]
  }
 ],
 "metadata": {
  "kernelspec": {
   "display_name": "Python 3",
   "language": "python",
   "name": "python3"
  },
  "language_info": {
   "codemirror_mode": {
    "name": "ipython",
    "version": 3
   },
   "file_extension": ".py",
   "mimetype": "text/x-python",
   "name": "python",
   "nbconvert_exporter": "python",
   "pygments_lexer": "ipython3",
   "version": "3.10.8"
  }
 },
 "nbformat": 4,
 "nbformat_minor": 4
}
