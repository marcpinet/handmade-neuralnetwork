{
 "cells": [
  {
   "cell_type": "markdown",
   "metadata": {},
   "source": [
    "# MNIST Loading Saved Model"
   ]
  },
  {
   "cell_type": "markdown",
   "metadata": {
    "tags": []
   },
   "source": [
    "## Imports"
   ]
  },
  {
   "cell_type": "code",
   "execution_count": 1,
   "metadata": {
    "ExecuteTime": {
     "end_time": "2024-09-22T20:58:52.408452600Z",
     "start_time": "2024-09-22T20:58:45.258396800Z"
    }
   },
   "outputs": [],
   "source": [
    "from tensorflow.keras.datasets import mnist  # Dataset for testing\n",
    "\n",
    "from neuralnetlib.model import Model\n",
    "from neuralnetlib.preprocessing import one_hot_encode\n",
    "from neuralnetlib.utils import train_test_split\n",
    "from neuralnetlib.metrics import accuracy_score, confusion_matrix"
   ]
  },
  {
   "cell_type": "markdown",
   "metadata": {},
   "source": [
    "## 1. Loading the MNIST dataset"
   ]
  },
  {
   "cell_type": "code",
   "execution_count": 2,
   "metadata": {
    "ExecuteTime": {
     "end_time": "2024-09-22T20:58:55.090640900Z",
     "start_time": "2024-09-22T20:58:54.943027500Z"
    }
   },
   "outputs": [],
   "source": [
    "(x_train, y_train), (x_test, y_test) = mnist.load_data()"
   ]
  },
  {
   "cell_type": "markdown",
   "metadata": {},
   "source": [
    "## 2. Preprocessing"
   ]
  },
  {
   "cell_type": "code",
   "execution_count": 3,
   "metadata": {
    "ExecuteTime": {
     "end_time": "2024-09-22T20:58:56.605497Z",
     "start_time": "2024-09-22T20:58:56.511603700Z"
    }
   },
   "outputs": [],
   "source": [
    "x_train = x_train.reshape(-1, 28 * 28) / 255.0\n",
    "x_test = x_test.reshape(-1, 28 * 28) / 255.0\n",
    "y_train = one_hot_encode(y_train, num_classes=10)\n",
    "y_test = one_hot_encode(y_test, num_classes=10)"
   ]
  },
  {
   "cell_type": "markdown",
   "metadata": {},
   "source": [
    "## 3. Split the training data into training and validation sets"
   ]
  },
  {
   "cell_type": "code",
   "execution_count": 4,
   "metadata": {
    "ExecuteTime": {
     "end_time": "2024-09-22T20:58:58.354481Z",
     "start_time": "2024-09-22T20:58:58.201316400Z"
    }
   },
   "outputs": [],
   "source": [
    "_, x_val, _, y_val = train_test_split(x_train, y_train, test_size=0.2, random_state=42)"
   ]
  },
  {
   "cell_type": "markdown",
   "metadata": {},
   "source": [
    "## 4. Load the model"
   ]
  },
  {
   "cell_type": "code",
   "execution_count": 5,
   "metadata": {
    "ExecuteTime": {
     "end_time": "2024-09-22T20:59:00.067234500Z",
     "start_time": "2024-09-22T20:59:00.052659300Z"
    }
   },
   "outputs": [],
   "source": [
    "model = Model.load('my_mnist_model.npz')"
   ]
  },
  {
   "cell_type": "markdown",
   "metadata": {},
   "source": [
    "## 5. Predict and evaluate on the validation set"
   ]
  },
  {
   "cell_type": "code",
   "execution_count": 6,
   "metadata": {
    "ExecuteTime": {
     "end_time": "2024-09-22T20:59:02.252551200Z",
     "start_time": "2024-09-22T20:59:02.216863600Z"
    }
   },
   "outputs": [
    {
     "name": "stdout",
     "output_type": "stream",
     "text": [
      "Validation Accuracy: 0.9728333333333333\n"
     ]
    }
   ],
   "source": [
    "y_pred_val = model.predict(x_val)\n",
    "accuracy_val = accuracy_score(y_pred_val, y_val)\n",
    "print(f'Validation Accuracy: {accuracy_val}')"
   ]
  },
  {
   "cell_type": "markdown",
   "metadata": {},
   "source": [
    "## 6. Optionally, you can still evaluate on the test set"
   ]
  },
  {
   "cell_type": "code",
   "execution_count": 7,
   "metadata": {
    "ExecuteTime": {
     "end_time": "2024-09-22T20:59:05.493573700Z",
     "start_time": "2024-09-22T20:59:05.445749600Z"
    }
   },
   "outputs": [
    {
     "name": "stdout",
     "output_type": "stream",
     "text": [
      "Test Accuracy: 0.9567\n",
      "Confusion Matrix:\n",
      "[[ 963    0    1    2    2    1    4    1    3    3]\n",
      " [   0 1119    2    3    0    1    1    2    6    1]\n",
      " [   5    3  990    8    3    1    4   10    8    0]\n",
      " [   1    2    5  966    1   19    1    6    4    5]\n",
      " [   1    1    2    0  932    1    8    0    4   33]\n",
      " [   7    0    1   15    2  852    5    1    6    3]\n",
      " [   4    5    2    3    5   14  921    0    4    0]\n",
      " [   0    9   17    5    6    0    0  969    2   20]\n",
      " [   8    1    7   20    3   11    8    3  899   14]\n",
      " [   3    2    1   10   18    9    0    8    2  956]]\n"
     ]
    }
   ],
   "source": [
    "y_pred_test = model.predict(x_test)\n",
    "accuracy_test = accuracy_score(y_pred_test, y_test)\n",
    "print(f'Test Accuracy: {accuracy_test}')\n",
    "print(f'Confusion Matrix:\\n{confusion_matrix(y_pred_test, y_test)}')"
   ]
  }
 ],
 "metadata": {
  "kernelspec": {
   "display_name": "Python 3 (ipykernel)",
   "language": "python",
   "name": "python3"
  },
  "language_info": {
   "codemirror_mode": {
    "name": "ipython",
    "version": 3
   },
   "file_extension": ".py",
   "mimetype": "text/x-python",
   "name": "python",
   "nbconvert_exporter": "python",
   "pygments_lexer": "ipython3",
   "version": "3.10.8"
  }
 },
 "nbformat": 4,
 "nbformat_minor": 4
}
