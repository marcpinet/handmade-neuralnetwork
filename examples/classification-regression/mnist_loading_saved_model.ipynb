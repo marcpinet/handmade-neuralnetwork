{
 "cells": [
  {
   "cell_type": "markdown",
   "metadata": {},
   "source": [
    "# MNIST Loading Saved Model"
   ]
  },
  {
   "cell_type": "markdown",
   "metadata": {
    "tags": []
   },
   "source": [
    "## Imports"
   ]
  },
  {
   "cell_type": "code",
   "execution_count": 1,
   "metadata": {
    "ExecuteTime": {
     "end_time": "2024-04-23T23:32:44.879695500Z",
     "start_time": "2024-04-23T23:32:41.806868Z"
    }
   },
   "outputs": [],
   "source": [
    "from tensorflow.keras.datasets import mnist  # Dataset for testing\n",
    "\n",
    "from neuralnetlib.model import Model\n",
    "from neuralnetlib.preprocessing import one_hot_encode\n",
    "from neuralnetlib.utils import train_test_split\n",
    "from neuralnetlib.metrics import accuracy_score, confusion_matrix"
   ]
  },
  {
   "cell_type": "markdown",
   "metadata": {},
   "source": [
    "## 1. Loading the MNIST dataset"
   ]
  },
  {
   "cell_type": "code",
   "execution_count": 2,
   "metadata": {
    "ExecuteTime": {
     "end_time": "2024-04-23T23:32:45.056739600Z",
     "start_time": "2024-04-23T23:32:44.879695500Z"
    }
   },
   "outputs": [],
   "source": [
    "(x_train, y_train), (x_test, y_test) = mnist.load_data()"
   ]
  },
  {
   "cell_type": "markdown",
   "metadata": {},
   "source": [
    "## 2. Preprocessing"
   ]
  },
  {
   "cell_type": "code",
   "execution_count": 3,
   "metadata": {
    "ExecuteTime": {
     "end_time": "2024-04-23T23:32:45.166846Z",
     "start_time": "2024-04-23T23:32:45.059739600Z"
    }
   },
   "outputs": [],
   "source": [
    "x_train = x_train.reshape(-1, 28 * 28) / 255.0\n",
    "x_test = x_test.reshape(-1, 28 * 28) / 255.0\n",
    "y_train = one_hot_encode(y_train, num_classes=10)\n",
    "y_test = one_hot_encode(y_test, num_classes=10)"
   ]
  },
  {
   "cell_type": "markdown",
   "metadata": {},
   "source": [
    "## 3. Split the training data into training and validation sets"
   ]
  },
  {
   "cell_type": "code",
   "execution_count": 4,
   "metadata": {
    "ExecuteTime": {
     "end_time": "2024-04-23T23:32:45.285935300Z",
     "start_time": "2024-04-23T23:32:45.167845600Z"
    }
   },
   "outputs": [],
   "source": [
    "_, x_val, _, y_val = train_test_split(x_train, y_train, test_size=0.2, random_state=42)"
   ]
  },
  {
   "cell_type": "markdown",
   "metadata": {},
   "source": [
    "## 4. Load the model"
   ]
  },
  {
   "cell_type": "code",
   "execution_count": 5,
   "metadata": {
    "ExecuteTime": {
     "end_time": "2024-04-23T23:32:45.329886Z",
     "start_time": "2024-04-23T23:32:45.288843800Z"
    }
   },
   "outputs": [],
   "source": [
    "model = Model.load('my_mnist_model.npz')"
   ]
  },
  {
   "cell_type": "markdown",
   "metadata": {},
   "source": [
    "## 5. Predict and evaluate on the validation set"
   ]
  },
  {
   "cell_type": "code",
   "execution_count": 6,
   "metadata": {
    "ExecuteTime": {
     "end_time": "2024-04-23T23:32:45.374527900Z",
     "start_time": "2024-04-23T23:32:45.314964200Z"
    }
   },
   "outputs": [
    {
     "name": "stdout",
     "output_type": "stream",
     "text": [
      "Validation Accuracy: 0.9738333333333333\n"
     ]
    }
   ],
   "source": [
    "y_pred_val = model.predict(x_val)\n",
    "accuracy_val = accuracy_score(y_pred_val, y_val)\n",
    "print(f'Validation Accuracy: {accuracy_val}')"
   ]
  },
  {
   "cell_type": "markdown",
   "metadata": {},
   "source": [
    "## 6. Optionally, you can still evaluate on the test set"
   ]
  },
  {
   "cell_type": "code",
   "execution_count": 7,
   "metadata": {
    "ExecuteTime": {
     "end_time": "2024-04-23T23:32:45.444303500Z",
     "start_time": "2024-04-23T23:32:45.375529400Z"
    }
   },
   "outputs": [
    {
     "name": "stdout",
     "output_type": "stream",
     "text": [
      "Test Accuracy: 0.9549\n",
      "Confusion Matrix:\n",
      "[[ 958    0    3    0    0    3    7    2    4    3]\n",
      " [   0 1117    1    6    0    1    1    2    6    1]\n",
      " [   5    1  983   11    3    0    4   16    9    0]\n",
      " [   2    0   10  959    0   13    1    7    8   10]\n",
      " [   2    1    6    0  909    0    6    0    0   58]\n",
      " [   9    1    0   20    0  838    8    2    3   11]\n",
      " [  10    4    4    1    5    6  917    0   10    1]\n",
      " [   1    8   10    6    0    0    0  982    0   21]\n",
      " [   5    3    9    7    4    6    5    7  917   11]\n",
      " [   3    5    3    5   10    4    2    7    1  969]]\n"
     ]
    }
   ],
   "source": [
    "y_pred_test = model.predict(x_test)\n",
    "accuracy_test = accuracy_score(y_pred_test, y_test)\n",
    "print(f'Test Accuracy: {accuracy_test}')\n",
    "print(f'Confusion Matrix:\\n{confusion_matrix(y_pred_test, y_test)}')"
   ]
  }
 ],
 "metadata": {
  "kernelspec": {
   "display_name": "Python 3 (ipykernel)",
   "language": "python",
   "name": "python3"
  },
  "language_info": {
   "codemirror_mode": {
    "name": "ipython",
    "version": 3
   },
   "file_extension": ".py",
   "mimetype": "text/x-python",
   "name": "python",
   "nbconvert_exporter": "python",
   "pygments_lexer": "ipython3",
   "version": "3.10.8"
  }
 },
 "nbformat": 4,
 "nbformat_minor": 4
}
