{
 "cells": [
  {
   "cell_type": "markdown",
   "metadata": {},
   "source": [
    "# Simple MNIST multiclass classification"
   ]
  },
  {
   "cell_type": "markdown",
   "metadata": {
    "tags": []
   },
   "source": [
    "## Imports"
   ]
  },
  {
   "cell_type": "code",
   "execution_count": 1,
   "metadata": {
    "ExecuteTime": {
     "end_time": "2024-04-21T13:09:57.920117100Z",
     "start_time": "2024-04-21T13:09:53.090418500Z"
    }
   },
   "outputs": [],
   "source": [
    "import matplotlib.pyplot as plt\n",
    "import numpy as np\n",
    "from tensorflow.keras.datasets import mnist\n",
    "\n",
    "from neuralnetlib.activations import Sigmoid, Softmax\n",
    "from neuralnetlib.layers import Input, Dense, Activation\n",
    "from neuralnetlib.losses import CategoricalCrossentropy\n",
    "from neuralnetlib.model import Model\n",
    "from neuralnetlib.optimizers import SGD\n",
    "from neuralnetlib.utils import one_hot_encode\n",
    "from neuralnetlib.metrics import accuracy_score, f1_score, recall_score"
   ]
  },
  {
   "cell_type": "markdown",
   "metadata": {},
   "source": [
    "## 1. Loading a dataset (in this case, MNIST)"
   ]
  },
  {
   "cell_type": "code",
   "execution_count": 2,
   "metadata": {
    "ExecuteTime": {
     "end_time": "2024-04-21T13:09:58.104511Z",
     "start_time": "2024-04-21T13:09:57.923629Z"
    }
   },
   "outputs": [],
   "source": [
    "(x_train, y_train), (x_test, y_test) = mnist.load_data()"
   ]
  },
  {
   "cell_type": "markdown",
   "metadata": {},
   "source": [
    "## 2. Preprocessing"
   ]
  },
  {
   "cell_type": "code",
   "execution_count": 3,
   "metadata": {
    "ExecuteTime": {
     "end_time": "2024-04-21T13:09:58.215354700Z",
     "start_time": "2024-04-21T13:09:58.105511Z"
    }
   },
   "outputs": [],
   "source": [
    "x_train = x_train.reshape(-1, 28 * 28) / 255.0  # Normalization and flattening of the images\n",
    "x_test = x_test.reshape(-1, 28 * 28) / 255.0  # Normalization and flattening of the images\n",
    "y_train = one_hot_encode(y_train, num_classes=10)  # One-hot encoding of the labels\n",
    "y_test = one_hot_encode(y_test, num_classes=10)  # One-hot encoding of the labels"
   ]
  },
  {
   "cell_type": "markdown",
   "metadata": {},
   "source": [
    "## 3. Model definition"
   ]
  },
  {
   "cell_type": "code",
   "execution_count": 4,
   "metadata": {
    "ExecuteTime": {
     "end_time": "2024-04-21T13:09:58.222377500Z",
     "start_time": "2024-04-21T13:09:58.217869300Z"
    }
   },
   "outputs": [],
   "source": [
    "input_neurons = x_train.shape[1:][0]  # MNIST images are 28x28\n",
    "num_hidden_layers = 2  # Number of hidden layers\n",
    "hidden_neurons = 30  # Number of neurons in each hidden layer\n",
    "output_neurons = 10  # Assuming 10 classes for MNIST\n",
    "\n",
    "model = Model()\n",
    "model.add(Input(input_neurons))\n",
    "model.add(Dense(hidden_neurons, weights_init='lecun', random_state=42))  # First hidden layer\n",
    "model.add(Activation(Sigmoid()))  # ...and its function activation\n",
    "\n",
    "for _ in range(num_hidden_layers - 1):  # Add the rest of the hidden layers\n",
    "    model.add(Dense(hidden_neurons, weights_init='lecun',\n",
    "                    random_state=42))  # Hidden layer must have the same number of neurons as the previous one\n",
    "    model.add(Activation(Sigmoid()))  # ...and its function activation\n",
    "\n",
    "model.add(Dense(output_neurons, random_state=42))  # Output layer\n",
    "model.add(Activation(Softmax()))  # ...and its function activation"
   ]
  },
  {
   "cell_type": "markdown",
   "metadata": {},
   "source": [
    "## 4. Model compilation"
   ]
  },
  {
   "cell_type": "code",
   "execution_count": 5,
   "metadata": {
    "ExecuteTime": {
     "end_time": "2024-04-21T13:09:58.255484400Z",
     "start_time": "2024-04-21T13:09:58.223384700Z"
    }
   },
   "outputs": [
    {
     "name": "stdout",
     "output_type": "stream",
     "text": [
      "Model\n",
      "-------------------------------------------------\n",
      "Layer 1: Input(input_shape=(784,))\n",
      "Layer 2: Dense(units=30)\n",
      "Layer 3: Activation(Sigmoid)\n",
      "Layer 4: Dense(units=30)\n",
      "Layer 5: Activation(Sigmoid)\n",
      "Layer 6: Dense(units=10)\n",
      "Layer 7: Activation(Softmax)\n",
      "-------------------------------------------------\n",
      "Loss function: CategoricalCrossentropy\n",
      "Optimizer: SGD(learning_rate=0.1)\n",
      "-------------------------------------------------\n"
     ]
    }
   ],
   "source": [
    "model.compile(loss_function=CategoricalCrossentropy(), optimizer=SGD(learning_rate=0.1))\n",
    "\n",
    "model.summary()"
   ]
  },
  {
   "cell_type": "markdown",
   "metadata": {},
   "source": [
    "## 5. Model training"
   ]
  },
  {
   "cell_type": "code",
   "execution_count": 6,
   "metadata": {
    "ExecuteTime": {
     "end_time": "2024-04-21T13:12:25.560796300Z",
     "start_time": "2024-04-21T13:09:58.240940Z"
    }
   },
   "outputs": [
    {
     "name": "stdout",
     "output_type": "stream",
     "text": [
      "[==============================] 100% Epoch 1/20 - loss: 0.5726 - accuracy_score: 0.8099 - 9.12s\n",
      "[==============================] 100% Epoch 2/20 - loss: 0.2319 - accuracy_score: 0.9333 - 8.09s\n",
      "[==============================] 100% Epoch 3/20 - loss: 0.1948 - accuracy_score: 0.9432 - 7.56s\n",
      "[==============================] 100% Epoch 4/20 - loss: 0.1726 - accuracy_score: 0.9502 - 7.38s\n",
      "[==============================] 100% Epoch 5/20 - loss: 0.1587 - accuracy_score: 0.9530 - 7.27s\n",
      "[==============================] 100% Epoch 6/20 - loss: 0.1487 - accuracy_score: 0.9563 - 7.69s\n",
      "[==============================] 100% Epoch 7/20 - loss: 0.1386 - accuracy_score: 0.9587 - 7.58s\n",
      "[==============================] 100% Epoch 8/20 - loss: 0.1349 - accuracy_score: 0.9603 - 7.49s\n",
      "[==============================] 100% Epoch 9/20 - loss: 0.1320 - accuracy_score: 0.9609 - 7.48s\n",
      "[==============================] 100% Epoch 10/20 - loss: 0.1222 - accuracy_score: 0.9635 - 7.24s\n",
      "[==============================] 100% Epoch 11/20 - loss: 0.1165 - accuracy_score: 0.9658 - 7.21s\n",
      "[==============================] 100% Epoch 12/20 - loss: 0.1131 - accuracy_score: 0.9666 - 7.07s\n",
      "[==============================] 100% Epoch 13/20 - loss: 0.1111 - accuracy_score: 0.9667 - 7.02s\n",
      "[==============================] 100% Epoch 14/20 - loss: 0.1065 - accuracy_score: 0.9677 - 6.84s\n",
      "[==============================] 100% Epoch 15/20 - loss: 0.1028 - accuracy_score: 0.9685 - 7.02s\n",
      "[==============================] 100% Epoch 16/20 - loss: 0.1039 - accuracy_score: 0.9683 - 7.09s\n",
      "[==============================] 100% Epoch 17/20 - loss: 0.1000 - accuracy_score: 0.9700 - 7.28s\n",
      "[==============================] 100% Epoch 18/20 - loss: 0.0927 - accuracy_score: 0.9719 - 7.05s\n",
      "[==============================] 100% Epoch 19/20 - loss: 0.0925 - accuracy_score: 0.9720 - 6.83s\n",
      "[==============================] 100% Epoch 20/20 - loss: 0.0917 - accuracy_score: 0.9726 - 6.97s\n"
     ]
    }
   ],
   "source": [
    "model.train(x_train, y_train, epochs=20, batch_size=48, metrics=[accuracy_score], random_state=42)"
   ]
  },
  {
   "cell_type": "markdown",
   "metadata": {},
   "source": [
    "## 6. Model evaluation"
   ]
  },
  {
   "cell_type": "code",
   "execution_count": 7,
   "metadata": {
    "ExecuteTime": {
     "end_time": "2024-04-21T13:12:25.625272Z",
     "start_time": "2024-04-21T13:12:25.570874800Z"
    }
   },
   "outputs": [
    {
     "name": "stdout",
     "output_type": "stream",
     "text": [
      "Test loss: 0.1739562576224733\n"
     ]
    }
   ],
   "source": [
    "loss = model.evaluate(x_test, y_test)\n",
    "print(f'Test loss: {loss}')"
   ]
  },
  {
   "cell_type": "markdown",
   "metadata": {},
   "source": [
    "## 7. Model prediction"
   ]
  },
  {
   "cell_type": "code",
   "execution_count": 8,
   "metadata": {
    "ExecuteTime": {
     "end_time": "2024-04-21T13:12:25.669005800Z",
     "start_time": "2024-04-21T13:12:25.619723700Z"
    }
   },
   "outputs": [],
   "source": [
    "y_pred = model.predict(x_test)"
   ]
  },
  {
   "cell_type": "markdown",
   "metadata": {},
   "source": [
    "## 8. Printing some metrics"
   ]
  },
  {
   "cell_type": "code",
   "execution_count": 9,
   "metadata": {
    "ExecuteTime": {
     "end_time": "2024-04-21T13:12:25.670014500Z",
     "start_time": "2024-04-21T13:12:25.653477500Z"
    }
   },
   "outputs": [
    {
     "name": "stdout",
     "output_type": "stream",
     "text": [
      "accuracy: 0.9568\n",
      "f1_score: 0.9565405449722376\n",
      "recall_score 0.9562654244701111\n"
     ]
    }
   ],
   "source": [
    "print(\"accuracy:\", accuracy_score(y_pred, y_test))\n",
    "print(\"f1_score:\", f1_score(y_pred, y_test))\n",
    "print(\"recall_score\", recall_score(y_pred, y_test))"
   ]
  },
  {
   "cell_type": "markdown",
   "metadata": {},
   "source": [
    "## 9. Plot the first 10 test images, their predicted labels, and the true labels."
   ]
  },
  {
   "cell_type": "code",
   "execution_count": 10,
   "metadata": {
    "ExecuteTime": {
     "end_time": "2024-04-21T13:12:25.942550200Z",
     "start_time": "2024-04-21T13:12:25.662547800Z"
    }
   },
   "outputs": [
    {
     "data": {
      "text/plain": "<Figure size 1000x1000 with 10 Axes>",
      "image/png": "[encoded data removed]"
     },
     "metadata": {},
     "output_type": "display_data"
    }
   ],
   "source": [
    "fig = plt.figure(figsize=(10, 10))\n",
    "for i in range(10):\n",
    "    ax = fig.add_subplot(5, 2, i + 1, xticks=[], yticks=[])\n",
    "    ax.imshow(x_test[i].reshape(28, 28), cmap='gray')\n",
    "    ax.set_title(f\"Predicted: {np.argmax(y_pred[i])}, Actual: {np.argmax(y_test[i])}\")\n",
    "plt.show()"
   ]
  },
  {
   "cell_type": "markdown",
   "metadata": {},
   "source": [
    "## 10. Save the model"
   ]
  },
  {
   "cell_type": "code",
   "execution_count": 11,
   "metadata": {
    "ExecuteTime": {
     "end_time": "2024-04-21T13:12:26.112578100Z",
     "start_time": "2024-04-21T13:12:25.931021900Z"
    }
   },
   "outputs": [],
   "source": [
    "model.save(\"my_mnist_model.npz\")"
   ]
  }
 ],
 "metadata": {
  "kernelspec": {
   "display_name": "Python 3 (ipykernel)",
   "language": "python",
   "name": "python3"
  },
  "language_info": {
   "codemirror_mode": {
    "name": "ipython",
    "version": 3
   },
   "file_extension": ".py",
   "mimetype": "text/x-python",
   "name": "python",
   "nbconvert_exporter": "python",
   "pygments_lexer": "ipython3",
   "version": "3.10.8"
  }
 },
 "nbformat": 4,
 "nbformat_minor": 4
}
