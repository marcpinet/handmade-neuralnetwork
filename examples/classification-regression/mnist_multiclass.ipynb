{
 "cells": [
  {
   "cell_type": "markdown",
   "metadata": {},
   "source": [
    "# Simple MNIST multiclass classification"
   ]
  },
  {
   "cell_type": "markdown",
   "metadata": {
    "tags": []
   },
   "source": [
    "## Imports"
   ]
  },
  {
   "cell_type": "code",
   "execution_count": 1,
   "metadata": {
    "ExecuteTime": {
     "end_time": "2024-11-09T15:59:05.801187100Z",
     "start_time": "2024-11-09T15:58:57.704335600Z"
    }
   },
   "outputs": [],
   "source": [
    "import numpy as np\n",
    "import matplotlib.pyplot as plt\n",
    "from tensorflow.keras.datasets import mnist\n",
    "\n",
    "from neuralnetlib.activations import Sigmoid, Softmax\n",
    "from neuralnetlib.layers import Input, Dense, Activation\n",
    "from neuralnetlib.losses import CategoricalCrossentropy\n",
    "from neuralnetlib.model import Model\n",
    "from neuralnetlib.optimizers import SGD\n",
    "from neuralnetlib.preprocessing import one_hot_encode\n",
    "from neuralnetlib.metrics import accuracy_score, f1_score, recall_score"
   ]
  },
  {
   "cell_type": "markdown",
   "metadata": {},
   "source": [
    "## 1. Loading a dataset (in this case, MNIST)"
   ]
  },
  {
   "cell_type": "code",
   "execution_count": 2,
   "metadata": {
    "ExecuteTime": {
     "end_time": "2024-11-09T15:59:05.940264200Z",
     "start_time": "2024-11-09T15:59:05.802187200Z"
    }
   },
   "outputs": [],
   "source": [
    "(x_train, y_train), (x_test, y_test) = mnist.load_data()"
   ]
  },
  {
   "cell_type": "markdown",
   "metadata": {},
   "source": [
    "## 2. Preprocessing"
   ]
  },
  {
   "cell_type": "code",
   "execution_count": 3,
   "metadata": {
    "ExecuteTime": {
     "end_time": "2024-11-09T15:59:06.033523200Z",
     "start_time": "2024-11-09T15:59:05.941263500Z"
    }
   },
   "outputs": [],
   "source": [
    "x_train = x_train.reshape(-1, 28 * 28) / 255.0  # Normalization and flattening of the images\n",
    "x_test = x_test.reshape(-1, 28 * 28) / 255.0  # Normalization and flattening of the images\n",
    "y_train = one_hot_encode(y_train, num_classes=10)  # One-hot encoding of the labels\n",
    "y_test = one_hot_encode(y_test, num_classes=10)  # One-hot encoding of the labels"
   ]
  },
  {
   "cell_type": "markdown",
   "metadata": {},
   "source": [
    "## 3. Model definition"
   ]
  },
  {
   "cell_type": "code",
   "execution_count": null,
   "metadata": {
    "ExecuteTime": {
     "end_time": "2024-11-09T15:59:06.049068700Z",
     "start_time": "2024-11-09T15:59:06.034523100Z"
    }
   },
   "outputs": [],
   "source": [
    "input_neurons = x_train.shape[1:][0]  # MNIST images are 28x28\n",
    "num_hidden_layers = 2  # Number of hidden layers\n",
    "hidden_neurons = 30  # Number of neurons in each hidden layer\n",
    "output_neurons = 10  # Assuming 10 classes for MNIST\n",
    "\n",
    "model = Model()\n",
    "model.add(Input(input_neurons))\n",
    "model.add(Dense(hidden_neurons, random_state=42))  # First hidden layer\n",
    "model.add(Activation(Sigmoid()))  # ...and its function activation\n",
    "\n",
    "for _ in range(num_hidden_layers - 1):  # Add the rest of the hidden layers\n",
    "    model.add(Dense(hidden_neurons, random_state=42))  # Hidden layer must have the same number of neurons as the previous one\n",
    "    model.add(Activation(Sigmoid()))  # ...and its function activation\n",
    "\n",
    "model.add(Dense(output_neurons, random_state=42))  # Output layer\n",
    "model.add(Activation(Softmax()))  # ...and its function activation"
   ]
  },
  {
   "cell_type": "markdown",
   "metadata": {},
   "source": [
    "## 4. Model compilation"
   ]
  },
  {
   "cell_type": "code",
   "execution_count": 5,
   "metadata": {
    "ExecuteTime": {
     "end_time": "2024-11-09T15:59:06.076614600Z",
     "start_time": "2024-11-09T15:59:06.050068400Z"
    }
   },
   "outputs": [
    {
     "name": "stdout",
     "output_type": "stream",
     "text": [
      "Model\n",
      "-------------------------------------------------\n",
      "Layer 1: Input(input_shape=(784,))\n",
      "Layer 2: Dense(units=30)\n",
      "Layer 3: Activation(Sigmoid)\n",
      "Layer 4: Dense(units=30)\n",
      "Layer 5: Activation(Sigmoid)\n",
      "Layer 6: Dense(units=10)\n",
      "Layer 7: Activation(Softmax)\n",
      "-------------------------------------------------\n",
      "Loss function: CategoricalCrossentropy\n",
      "Optimizer: SGD(learning_rate=0.1)\n",
      "-------------------------------------------------\n"
     ]
    }
   ],
   "source": [
    "model.compile(loss_function=CategoricalCrossentropy(), optimizer=SGD(learning_rate=0.1))\n",
    "\n",
    "model.summary()"
   ]
  },
  {
   "cell_type": "markdown",
   "metadata": {},
   "source": [
    "## 5. Model training"
   ]
  },
  {
   "cell_type": "code",
   "execution_count": 6,
   "metadata": {
    "ExecuteTime": {
     "end_time": "2024-11-09T15:59:58.479435300Z",
     "start_time": "2024-11-09T15:59:06.064585800Z"
    }
   },
   "outputs": [
    {
     "name": "stdout",
     "output_type": "stream",
     "text": [
      "[==============================] 100% Epoch 1/10 - loss: 0.5703 - accuracy: 0.8109 - 5.15s\n",
      "[==============================] 100% Epoch 2/10 - loss: 0.2287 - accuracy: 0.9336 - 5.19s\n",
      "[==============================] 100% Epoch 3/10 - loss: 0.1950 - accuracy: 0.9437 - 5.20s\n",
      "[==============================] 100% Epoch 4/10 - loss: 0.1791 - accuracy: 0.9468 - 5.17s\n",
      "[==============================] 100% Epoch 5/10 - loss: 0.1600 - accuracy: 0.9525 - 5.21s\n",
      "[==============================] 100% Epoch 6/10 - loss: 0.1469 - accuracy: 0.9567 - 5.27s\n",
      "[==============================] 100% Epoch 7/10 - loss: 0.1398 - accuracy: 0.9582 - 5.25s\n",
      "[==============================] 100% Epoch 8/10 - loss: 0.1337 - accuracy: 0.9601 - 5.30s\n",
      "[==============================] 100% Epoch 9/10 - loss: 0.1292 - accuracy: 0.9620 - 5.33s\n",
      "[==============================] 100% Epoch 10/10 - loss: 0.1243 - accuracy: 0.9631 - 5.26s\n"
     ]
    },
    {
     "data": {
      "text/plain": []
     },
     "execution_count": 6,
     "metadata": {},
     "output_type": "execute_result"
    }
   ],
   "source": [
    "model.fit(x_train, y_train, epochs=10, batch_size=48, metrics=[accuracy_score], random_state=42)"
   ]
  },
  {
   "cell_type": "markdown",
   "metadata": {},
   "source": [
    "## 6. Model evaluation"
   ]
  },
  {
   "cell_type": "code",
   "execution_count": 7,
   "metadata": {
    "ExecuteTime": {
     "end_time": "2024-11-09T15:59:58.594184800Z",
     "start_time": "2024-11-09T15:59:58.451366600Z"
    }
   },
   "outputs": [
    {
     "name": "stdout",
     "output_type": "stream",
     "text": [
      "Test loss: 0.16876974058418312\n"
     ]
    }
   ],
   "source": [
    "loss, _ = model.evaluate(x_test, y_test)\n",
    "print(f'Test loss: {loss}')"
   ]
  },
  {
   "cell_type": "markdown",
   "metadata": {},
   "source": [
    "## 7. Model prediction"
   ]
  },
  {
   "cell_type": "code",
   "execution_count": 8,
   "metadata": {
    "ExecuteTime": {
     "end_time": "2024-11-09T15:59:58.622110900Z",
     "start_time": "2024-11-09T15:59:58.592185400Z"
    }
   },
   "outputs": [],
   "source": [
    "y_pred = model.predict(x_test)"
   ]
  },
  {
   "cell_type": "markdown",
   "metadata": {},
   "source": [
    "## 8. Printing some metrics"
   ]
  },
  {
   "cell_type": "code",
   "execution_count": 9,
   "metadata": {
    "ExecuteTime": {
     "end_time": "2024-11-09T15:59:58.636644500Z",
     "start_time": "2024-11-09T15:59:58.623111800Z"
    }
   },
   "outputs": [
    {
     "name": "stdout",
     "output_type": "stream",
     "text": [
      "accuracy: 0.9551\n",
      "f1_score: 0.9549572674105582\n",
      "recall_score 0.9543577978545592\n"
     ]
    }
   ],
   "source": [
    "print(\"accuracy:\", accuracy_score(y_pred, y_test))\n",
    "print(\"f1_score:\", f1_score(y_pred, y_test))\n",
    "print(\"recall_score\", recall_score(y_pred, y_test))"
   ]
  },
  {
   "cell_type": "markdown",
   "metadata": {},
   "source": [
    "## 9. Plot the first 10 test images, their predicted labels, and the true labels."
   ]
  },
  {
   "cell_type": "code",
   "execution_count": 10,
   "metadata": {
    "ExecuteTime": {
     "end_time": "2024-11-09T15:59:58.838380Z",
     "start_time": "2024-11-09T15:59:58.638156300Z"
    }
   },
   "outputs": [
    {
     "data": {
      "image/png": "[encoded data removed]",
      "text/plain": [
       "<Figure size 1000x1000 with 10 Axes>"
      ]
     },
     "metadata": {},
     "output_type": "display_data"
    }
   ],
   "source": [
    "fig = plt.figure(figsize=(10, 10))\n",
    "for i in range(10):\n",
    "    ax = fig.add_subplot(5, 2, i + 1, xticks=[], yticks=[])\n",
    "    ax.imshow(x_test[i].reshape(28, 28), cmap='gray')\n",
    "    ax.set_title(f\"Predicted: {np.argmax(y_pred[i])}, Actual: {np.argmax(y_test[i])}\")\n",
    "plt.show()"
   ]
  },
  {
   "cell_type": "markdown",
   "metadata": {},
   "source": [
    "## 10. Save the model"
   ]
  },
  {
   "cell_type": "code",
   "execution_count": 11,
   "metadata": {
    "ExecuteTime": {
     "end_time": "2024-11-09T15:59:58.891285200Z",
     "start_time": "2024-11-09T15:59:58.838380Z"
    }
   },
   "outputs": [],
   "source": [
    "model.save(\"my_mnist_model.npz\")"
   ]
  }
 ],
 "metadata": {
  "kernelspec": {
   "display_name": "Python 3 (ipykernel)",
   "language": "python",
   "name": "python3"
  },
  "language_info": {
   "codemirror_mode": {
    "name": "ipython",
    "version": 3
   },
   "file_extension": ".py",
   "mimetype": "text/x-python",
   "name": "python",
   "nbconvert_exporter": "python",
   "pygments_lexer": "ipython3",
   "version": "3.10.8"
  }
 },
 "nbformat": 4,
 "nbformat_minor": 4
}
