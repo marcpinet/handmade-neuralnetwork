{
 "cells": [
  {
   "cell_type": "markdown",
   "metadata": {},
   "source": [
    "# Simple MNIST multiclass classification"
   ]
  },
  {
   "cell_type": "markdown",
   "metadata": {
    "tags": []
   },
   "source": [
    "## Imports"
   ]
  },
  {
   "cell_type": "code",
   "execution_count": 1,
   "metadata": {
    "ExecuteTime": {
     "end_time": "2024-11-09T17:36:53.369741100Z",
     "start_time": "2024-11-09T17:36:45.072126600Z"
    }
   },
   "outputs": [],
   "source": [
    "import numpy as np\n",
    "import matplotlib.pyplot as plt\n",
    "from tensorflow.keras.datasets import mnist\n",
    "\n",
    "from neuralnetlib.activations import Sigmoid, Softmax\n",
    "from neuralnetlib.layers import Input, Dense, Activation, Dropout\n",
    "from neuralnetlib.losses import CategoricalCrossentropy\n",
    "from neuralnetlib.model import Model\n",
    "from neuralnetlib.optimizers import SGD\n",
    "from neuralnetlib.preprocessing import one_hot_encode\n",
    "from neuralnetlib.metrics import accuracy_score, f1_score, recall_score"
   ]
  },
  {
   "cell_type": "markdown",
   "metadata": {},
   "source": [
    "## 1. Loading a dataset (in this case, MNIST)"
   ]
  },
  {
   "cell_type": "code",
   "execution_count": 2,
   "metadata": {
    "ExecuteTime": {
     "end_time": "2024-11-09T17:36:53.508766100Z",
     "start_time": "2024-11-09T17:36:53.369741100Z"
    }
   },
   "outputs": [],
   "source": [
    "(x_train, y_train), (x_test, y_test) = mnist.load_data()"
   ]
  },
  {
   "cell_type": "markdown",
   "metadata": {},
   "source": [
    "## 2. Preprocessing"
   ]
  },
  {
   "cell_type": "code",
   "execution_count": 3,
   "metadata": {
    "ExecuteTime": {
     "end_time": "2024-11-09T17:36:53.601850700Z",
     "start_time": "2024-11-09T17:36:53.508766100Z"
    }
   },
   "outputs": [],
   "source": [
    "x_train = x_train.reshape(-1, 28 * 28) / 255.0  # Normalization and flattening of the images\n",
    "x_test = x_test.reshape(-1, 28 * 28) / 255.0  # Normalization and flattening of the images\n",
    "y_train = one_hot_encode(y_train, num_classes=10)  # One-hot encoding of the labels\n",
    "y_test = one_hot_encode(y_test, num_classes=10)  # One-hot encoding of the labels"
   ]
  },
  {
   "cell_type": "markdown",
   "metadata": {},
   "source": [
    "## 3. Model definition"
   ]
  },
  {
   "cell_type": "code",
   "execution_count": 4,
   "metadata": {
    "ExecuteTime": {
     "end_time": "2024-11-09T17:36:53.616849700Z",
     "start_time": "2024-11-09T17:36:53.602854400Z"
    }
   },
   "outputs": [],
   "source": [
    "input_neurons = x_train.shape[1:][0]  # MNIST images are 28x28\n",
    "num_hidden_layers = 2  # Number of hidden layers\n",
    "hidden_neurons = 30  # Number of neurons in each hidden layer\n",
    "output_neurons = 10  # Assuming 10 classes for MNIST\n",
    "\n",
    "model = Model()\n",
    "model.add(Input(input_neurons))\n",
    "model.add(Dense(hidden_neurons, random_state=42))  # First hidden layer\n",
    "model.add(Activation(Sigmoid()))  # ...and its function activation\n",
    "\n",
    "for _ in range(num_hidden_layers - 1):  # Add the rest of the hidden layers\n",
    "    model.add(Dense(hidden_neurons, random_state=42))  # Hidden layer must have the same number of neurons as the previous one\n",
    "    model.add(Activation(Sigmoid()))  # ...and its function activation\n",
    "\n",
    "model.add(Dropout(0.5, random_state=42))  # Dropout layer\n",
    "model.add(Dense(output_neurons, random_state=42))  # Output layer\n",
    "model.add(Activation(Softmax()))  # ...and its function activation"
   ]
  },
  {
   "cell_type": "markdown",
   "metadata": {},
   "source": [
    "## 4. Model compilation"
   ]
  },
  {
   "cell_type": "code",
   "execution_count": 5,
   "metadata": {
    "ExecuteTime": {
     "end_time": "2024-11-09T17:36:53.661871400Z",
     "start_time": "2024-11-09T17:36:53.618858Z"
    }
   },
   "outputs": [
    {
     "name": "stdout",
     "output_type": "stream",
     "text": [
      "Model\n",
      "-------------------------------------------------\n",
      "Layer 1: Input(input_shape=(784,))\n",
      "Layer 2: Dense(units=30)\n",
      "Layer 3: Activation(Sigmoid)\n",
      "Layer 4: Dense(units=30)\n",
      "Layer 5: Activation(Sigmoid)\n",
      "Layer 6: Dropout(rate=0.5)\n",
      "Layer 7: Dense(units=10)\n",
      "Layer 8: Activation(Softmax)\n",
      "-------------------------------------------------\n",
      "Loss function: CategoricalCrossentropy\n",
      "Optimizer: SGD(learning_rate=0.1)\n",
      "-------------------------------------------------\n"
     ]
    }
   ],
   "source": [
    "model.compile(loss_function=CategoricalCrossentropy(), optimizer=SGD(learning_rate=0.1))\n",
    "\n",
    "model.summary()"
   ]
  },
  {
   "cell_type": "markdown",
   "metadata": {},
   "source": [
    "## 5. Model training"
   ]
  },
  {
   "cell_type": "code",
   "execution_count": null,
   "metadata": {
    "is_executing": true,
    "ExecuteTime": {
     "start_time": "2024-11-09T17:36:53.633365200Z"
    }
   },
   "outputs": [
    {
     "name": "stdout",
     "output_type": "stream",
     "text": [
      "[==============================] 100% Epoch 1/10 - loss: 0.7921 - accuracy: 0.7463 - 5.22s\n",
      "[==============================] 100% Epoch 2/10 - loss: 0.4677 - accuracy: 0.8650 - 5.27s\n",
      "[==============================] 100% Epoch 3/10 - loss: 0.4172 - accuracy: 0.8803 - 5.11s\n",
      "[==============================] 100% Epoch 4/10 - loss: 0.3922 - accuracy: 0.8891 - 5.19s\n",
      "[==============================] 100% Epoch 5/10 - loss: 0.3768 - accuracy: 0.8936 - 5.16s\n",
      "[==============================] 100% Epoch 6/10 - loss: 0.3620 - accuracy: 0.8954 - 5.16s\n",
      "[=======================-------] 77% Epoch 7/10 - loss: 0.3542 - accuracy: 0.8999 - 3.57s"
     ]
    }
   ],
   "source": [
    "model.fit(x_train, y_train, epochs=10, batch_size=48, metrics=[accuracy_score], random_state=42)"
   ]
  },
  {
   "cell_type": "markdown",
   "metadata": {},
   "source": [
    "## 6. Model evaluation"
   ]
  },
  {
   "cell_type": "code",
   "execution_count": null,
   "metadata": {
    "is_executing": true
   },
   "outputs": [],
   "source": [
    "loss, _ = model.evaluate(x_test, y_test)\n",
    "print(f'Test loss: {loss}')"
   ]
  },
  {
   "cell_type": "markdown",
   "metadata": {},
   "source": [
    "## 7. Model prediction"
   ]
  },
  {
   "cell_type": "code",
   "execution_count": null,
   "metadata": {
    "is_executing": true
   },
   "outputs": [],
   "source": [
    "y_pred = model.predict(x_test)"
   ]
  },
  {
   "cell_type": "markdown",
   "metadata": {},
   "source": [
    "## 8. Printing some metrics"
   ]
  },
  {
   "cell_type": "code",
   "execution_count": null,
   "metadata": {
    "is_executing": true
   },
   "outputs": [],
   "source": [
    "print(\"accuracy:\", accuracy_score(y_pred, y_test))\n",
    "print(\"f1_score:\", f1_score(y_pred, y_test))\n",
    "print(\"recall_score\", recall_score(y_pred, y_test))"
   ]
  },
  {
   "cell_type": "markdown",
   "metadata": {},
   "source": [
    "## 9. Plot the first 10 test images, their predicted labels, and the true labels."
   ]
  },
  {
   "cell_type": "code",
   "execution_count": null,
   "metadata": {
    "is_executing": true
   },
   "outputs": [],
   "source": [
    "fig = plt.figure(figsize=(10, 10))\n",
    "for i in range(10):\n",
    "    ax = fig.add_subplot(5, 2, i + 1, xticks=[], yticks=[])\n",
    "    ax.imshow(x_test[i].reshape(28, 28), cmap='gray')\n",
    "    ax.set_title(f\"Predicted: {np.argmax(y_pred[i])}, Actual: {np.argmax(y_test[i])}\")\n",
    "plt.show()"
   ]
  },
  {
   "cell_type": "markdown",
   "metadata": {},
   "source": [
    "## 10. Save the model"
   ]
  },
  {
   "cell_type": "code",
   "execution_count": null,
   "metadata": {
    "is_executing": true
   },
   "outputs": [],
   "source": [
    "model.save(\"my_mnist_model.npz\")"
   ]
  }
 ],
 "metadata": {
  "kernelspec": {
   "display_name": "Python 3 (ipykernel)",
   "language": "python",
   "name": "python3"
  },
  "language_info": {
   "codemirror_mode": {
    "name": "ipython",
    "version": 3
   },
   "file_extension": ".py",
   "mimetype": "text/x-python",
   "name": "python",
   "nbconvert_exporter": "python",
   "pygments_lexer": "ipython3",
   "version": "3.10.8"
  }
 },
 "nbformat": 4,
 "nbformat_minor": 4
}
