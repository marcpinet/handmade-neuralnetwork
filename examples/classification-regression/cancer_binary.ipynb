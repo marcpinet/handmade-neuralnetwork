{
 "cells": [
  {
   "cell_type": "markdown",
   "metadata": {},
   "source": [
    "# Simple cancer binary classification"
   ]
  },
  {
   "cell_type": "markdown",
   "metadata": {
    "tags": []
   },
   "source": [
    "## Imports"
   ]
  },
  {
   "cell_type": "code",
   "execution_count": 1,
   "metadata": {
    "ExecuteTime": {
     "end_time": "2024-11-09T17:20:57.214903700Z",
     "start_time": "2024-11-09T17:20:56.541598Z"
    }
   },
   "outputs": [],
   "source": [
    "from sklearn.datasets import load_breast_cancer\n",
    "\n",
    "from neuralnetlib.preprocessing import StandardScaler\n",
    "from neuralnetlib.activations import Sigmoid, ReLU\n",
    "from neuralnetlib.layers import Input, Activation, Dense, BatchNormalization\n",
    "from neuralnetlib.callbacks import EarlyStopping\n",
    "from neuralnetlib.losses import BinaryCrossentropy\n",
    "from neuralnetlib.model import Model\n",
    "from neuralnetlib.optimizers import Adam\n",
    "from neuralnetlib.metrics import accuracy_score, f1_score, recall_score, precision_score\n",
    "from neuralnetlib.utils import train_test_split"
   ]
  },
  {
   "cell_type": "markdown",
   "metadata": {},
   "source": [
    "## 1. Loading a dataset (in this case, Breast Cancer dataset)"
   ]
  },
  {
   "cell_type": "code",
   "execution_count": 2,
   "metadata": {
    "ExecuteTime": {
     "end_time": "2024-11-09T17:20:57.230014800Z",
     "start_time": "2024-11-09T17:20:57.215904Z"
    }
   },
   "outputs": [],
   "source": [
    "data = load_breast_cancer()\n",
    "X, y = data.data, data.target"
   ]
  },
  {
   "cell_type": "markdown",
   "metadata": {},
   "source": [
    "## 2. Preprocessing"
   ]
  },
  {
   "cell_type": "code",
   "execution_count": 3,
   "metadata": {
    "ExecuteTime": {
     "end_time": "2024-11-09T17:20:57.246039600Z",
     "start_time": "2024-11-09T17:20:57.231014600Z"
    }
   },
   "outputs": [],
   "source": [
    "x_train, x_test, y_train, y_test = train_test_split(X, y, test_size=0.2, random_state=42)\n",
    "scaler = StandardScaler()\n",
    "x_train = scaler.fit_transform(x_train)\n",
    "x_test = scaler.transform(x_test)"
   ]
  },
  {
   "cell_type": "markdown",
   "metadata": {},
   "source": [
    "## 3. Model definition"
   ]
  },
  {
   "cell_type": "code",
   "execution_count": 4,
   "metadata": {
    "ExecuteTime": {
     "end_time": "2024-11-09T17:20:57.261588500Z",
     "start_time": "2024-11-09T17:20:57.249548Z"
    }
   },
   "outputs": [],
   "source": [
    "input_neurons = x_train.shape[1:][0]  # Cancer dataset has 30 features\n",
    "num_hidden_layers = 5  # Number of hidden layers\n",
    "hidden_neurons = 100  # Number of neurons in each hidden layer\n",
    "output_neurons = 1  # Binary classification-regression\n",
    "\n",
    "model = Model()\n",
    "model.add(Input(input_neurons))\n",
    "model.add(Dense(hidden_neurons, weights_init='he_uniform', random_state=42))\n",
    "model.add(Activation(ReLU()))\n",
    "\n",
    "for _ in range(num_hidden_layers - 1):\n",
    "    model.add(Dense(hidden_neurons, weights_init='he_uniform', random_state=42))\n",
    "    model.add(BatchNormalization())\n",
    "    model.add(Activation(ReLU()))\n",
    "\n",
    "model.add(Dense(output_neurons, random_state=42))\n",
    "model.add(Activation(Sigmoid()))"
   ]
  },
  {
   "cell_type": "markdown",
   "metadata": {},
   "source": [
    "## 4. Model compilation"
   ]
  },
  {
   "cell_type": "code",
   "execution_count": 5,
   "metadata": {
    "ExecuteTime": {
     "end_time": "2024-11-09T17:20:57.289759100Z",
     "start_time": "2024-11-09T17:20:57.263092800Z"
    }
   },
   "outputs": [
    {
     "name": "stdout",
     "output_type": "stream",
     "text": [
      "Model\n",
      "-------------------------------------------------\n",
      "Layer 1: Input(input_shape=(30,))\n",
      "Layer 2: Dense(units=100)\n",
      "Layer 3: Activation(ReLU)\n",
      "Layer 4: Dense(units=100)\n",
      "Layer 5: BatchNormalization(momentum=0.99, epsilon=1e-08)\n",
      "Layer 6: Activation(ReLU)\n",
      "Layer 7: Dense(units=100)\n",
      "Layer 8: BatchNormalization(momentum=0.99, epsilon=1e-08)\n",
      "Layer 9: Activation(ReLU)\n",
      "Layer 10: Dense(units=100)\n",
      "Layer 11: BatchNormalization(momentum=0.99, epsilon=1e-08)\n",
      "Layer 12: Activation(ReLU)\n",
      "Layer 13: Dense(units=100)\n",
      "Layer 14: BatchNormalization(momentum=0.99, epsilon=1e-08)\n",
      "Layer 15: Activation(ReLU)\n",
      "Layer 16: Dense(units=1)\n",
      "Layer 17: Activation(Sigmoid)\n",
      "-------------------------------------------------\n",
      "Loss function: BinaryCrossentropy\n",
      "Optimizer: Adam(learning_rate=0.0001, beta_1=0.9, beta_2=0.999, epsilon=1e-08, clip_norm=None, clip_value=None)\n",
      "-------------------------------------------------\n"
     ]
    }
   ],
   "source": [
    "model.compile(loss_function=BinaryCrossentropy(), optimizer=Adam(learning_rate=0.0001))\n",
    "\n",
    "model.summary()"
   ]
  },
  {
   "cell_type": "markdown",
   "metadata": {},
   "source": [
    "## 5. Model training"
   ]
  },
  {
   "cell_type": "code",
   "execution_count": null,
   "metadata": {
    "is_executing": true,
    "ExecuteTime": {
     "start_time": "2024-11-09T17:20:57.278248Z"
    }
   },
   "outputs": [
    {
     "name": "stdout",
     "output_type": "stream",
     "text": [
      "[==============================] 100% Epoch 1/40 - loss: 0.6194 -  - 0.05s\n",
      "[==============================] 100% Epoch 2/40 - loss: 0.5366 -  - 0.07s\n",
      "[==============================] 100% Epoch 3/40 - loss: 0.4515 -  - 0.07s\n",
      "[==============================] 100% Epoch 4/40 - loss: 0.3850 -  - 0.07s\n",
      "[==============================] 100% Epoch 5/40 - loss: 0.3352 -  - 0.07s\n",
      "[==============================] 100% Epoch 6/40 - loss: 0.2962 -  - 0.08s\n",
      "[==============================] 100% Epoch 7/40 - loss: 0.2650 -  - 0.09s\n",
      "[==============================] 100% Epoch 8/40 - loss: 0.2399 -  - 0.08s\n",
      "[==============================] 100% Epoch 9/40 - loss: 0.2192 -  - 0.08s\n",
      "[==============================] 100% Epoch 10/40 - loss: 0.2016 -  - 0.08s\n",
      "[==============================] 100% Epoch 11/40 - loss: 0.1869 -  - 0.07s\n",
      "[==============================] 100% Epoch 12/40 - loss: 0.1744 -  - 0.07s\n",
      "[==============================] 100% Epoch 13/40 - loss: 0.1637 -  - 0.07s\n",
      "[==============================] 100% Epoch 14/40 - loss: 0.1543 -  - 0.07s\n",
      "[==============================] 100% Epoch 15/40 - loss: 0.1460 -  - 0.07s\n",
      "[==============================] 100% Epoch 16/40 - loss: 0.1388 -  - 0.11s\n",
      "[==============================] 100% Epoch 17/40 - loss: 0.1324 -  - 0.10s\n",
      "[==============================] 100% Epoch 18/40 - loss: 0.1265 -  - 0.08s\n",
      "[==============================] 100% Epoch 19/40 - loss: 0.1215 -  - 0.10s\n",
      "[==============================] 100% Epoch 20/40 - loss: 0.1172 -  - 0.09s\n",
      "[==============================] 100% Epoch 21/40 - loss: 0.1135 -  - 0.07s\n",
      "[==============================] 100% Epoch 22/40 - loss: 0.1105 -  - 0.08s\n",
      "[==============================] 100% Epoch 23/40 - loss: 0.1078 -  - 0.10s\n",
      "[==============================] 100% Epoch 24/40 - loss: 0.1056 -  - 0.09s\n",
      "[==============================] 100% Epoch 25/40 - loss: 0.1035 -  - 0.09s\n",
      "[==============================] 100% Epoch 26/40 - loss: 0.1014 -  - 0.11s\n",
      "[==============================] 100% Epoch 27/40 - loss: 0.0997 -  - 0.11s\n",
      "[==============================] 100% Epoch 28/40 - loss: 0.0982 -  - 0.09s\n",
      "[==============================] 100% Epoch 29/40 - loss: 0.0968 -  - 0.08s\n",
      "[==============================] 100% Epoch 30/40 - loss: 0.0956 -  - 0.09s\n",
      "[==============================] 100% Epoch 31/40 - loss: 0.0947 -  - 0.10s\n",
      "[==============================] 100% Epoch 32/40 - loss: 0.0939 -  - 0.09s\n",
      "[==============================] 100% Epoch 33/40 - loss: 0.0933 -  - 0.08s\n",
      "[==============================] 100% Epoch 34/40 - loss: 0.0929 -  - 0.10s\n",
      "[==============================] 100% Epoch 35/40 - loss: 0.0925 -  - 0.08s\n",
      "[==============================] 100% Epoch 36/40 - loss: 0.0922 -  - 0.07s\n",
      "[============------------------] 40% Epoch 37/40 - loss: 0.0963 -  - 0.05s"
     ]
    }
   ],
   "source": [
    "early_stopping = EarlyStopping(patience=5, min_delta=0.001, restore_best_weights=True)\n",
    "\n",
    "history = model.fit(x_train, y_train, epochs=40, batch_size=48, random_state=42, plot_decision_boundary=True,\n",
    "          callbacks=[early_stopping])  # Here, the early stopping will stop the training if the loss does not decrease\n",
    "\n",
    "# You could specify a different metric because loss is the default one\n",
    "\n",
    "# In this context, accuracy_score would have stopped at epoch 10"
   ]
  },
  {
   "cell_type": "markdown",
   "metadata": {},
   "source": [
    "## 6. Model evaluation"
   ]
  },
  {
   "cell_type": "code",
   "execution_count": null,
   "metadata": {
    "is_executing": true
   },
   "outputs": [],
   "source": [
    "loss, _ = model.evaluate(x_test, y_test)\n",
    "print(f'Test loss: {loss}')"
   ]
  },
  {
   "cell_type": "markdown",
   "metadata": {},
   "source": [
    "## 7. Model prediction"
   ]
  },
  {
   "cell_type": "code",
   "execution_count": null,
   "metadata": {
    "is_executing": true
   },
   "outputs": [],
   "source": [
    "y_pred = model.predict(x_test)"
   ]
  },
  {
   "cell_type": "markdown",
   "metadata": {},
   "source": [
    "## 8. Printing some metrics"
   ]
  },
  {
   "cell_type": "code",
   "execution_count": null,
   "metadata": {
    "is_executing": true
   },
   "outputs": [],
   "source": [
    "accuracy = accuracy_score(y_pred, y_test)\n",
    "precision = precision_score(y_pred, y_test)\n",
    "recall = recall_score(y_pred, y_test)\n",
    "f1 = f1_score(y_pred, y_test)\n",
    "\n",
    "print(f\"Accuracy: {accuracy}\")\n",
    "print(f\"Precision: {precision}\")\n",
    "print(f\"Recall: {recall}\")\n",
    "print(f\"F1 Score: {f1}\")"
   ]
  }
 ],
 "metadata": {
  "kernelspec": {
   "display_name": "Python 3",
   "language": "python",
   "name": "python3"
  },
  "language_info": {
   "codemirror_mode": {
    "name": "ipython",
    "version": 3
   },
   "file_extension": ".py",
   "mimetype": "text/x-python",
   "name": "python",
   "nbconvert_exporter": "python",
   "pygments_lexer": "ipython3",
   "version": "3.10.8"
  }
 },
 "nbformat": 4,
 "nbformat_minor": 4
}
