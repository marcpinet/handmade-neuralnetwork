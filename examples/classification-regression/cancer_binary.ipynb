{
 "cells": [
  {
   "cell_type": "markdown",
   "metadata": {},
   "source": [
    "# Simple cancer binary classification"
   ]
  },
  {
   "cell_type": "markdown",
   "metadata": {
    "tags": []
   },
   "source": [
    "## Imports"
   ]
  },
  {
   "cell_type": "code",
   "execution_count": 1,
   "metadata": {
    "ExecuteTime": {
     "end_time": "2024-11-14T19:02:51.038291600Z",
     "start_time": "2024-11-14T19:02:50.285199900Z"
    }
   },
   "outputs": [],
   "source": [
    "from sklearn.datasets import load_breast_cancer\n",
    "\n",
    "from neuralnetlib.preprocessing import StandardScaler\n",
    "from neuralnetlib.activations import Sigmoid, ReLU\n",
    "from neuralnetlib.models import Sequential\n",
    "from neuralnetlib.layers import Input, Activation, Dense, BatchNormalization\n",
    "from neuralnetlib.callbacks import EarlyStopping\n",
    "from neuralnetlib.losses import BinaryCrossentropy\n",
    "from neuralnetlib.optimizers import Adam\n",
    "from neuralnetlib.metrics import accuracy_score, f1_score, recall_score, precision_score\n",
    "from neuralnetlib.utils import train_test_split"
   ]
  },
  {
   "cell_type": "markdown",
   "metadata": {},
   "source": [
    "## 1. Loading a dataset (in this case, Breast Cancer dataset)"
   ]
  },
  {
   "cell_type": "code",
   "execution_count": 2,
   "metadata": {
    "ExecuteTime": {
     "end_time": "2024-11-14T19:02:51.070518700Z",
     "start_time": "2024-11-14T19:02:51.039292200Z"
    }
   },
   "outputs": [],
   "source": [
    "data = load_breast_cancer()\n",
    "X, y = data.data, data.target"
   ]
  },
  {
   "cell_type": "markdown",
   "metadata": {},
   "source": [
    "## 2. Preprocessing"
   ]
  },
  {
   "cell_type": "code",
   "execution_count": 3,
   "metadata": {
    "ExecuteTime": {
     "end_time": "2024-11-14T19:02:51.085591500Z",
     "start_time": "2024-11-14T19:02:51.070518700Z"
    }
   },
   "outputs": [],
   "source": [
    "x_train, x_test, y_train, y_test = train_test_split(X, y, test_size=0.2, random_state=42)\n",
    "scaler = StandardScaler()\n",
    "x_train = scaler.fit_transform(x_train)\n",
    "x_test = scaler.transform(x_test)"
   ]
  },
  {
   "cell_type": "markdown",
   "metadata": {},
   "source": [
    "## 3. Model definition"
   ]
  },
  {
   "cell_type": "code",
   "execution_count": 4,
   "metadata": {
    "ExecuteTime": {
     "end_time": "2024-11-14T19:02:51.103621200Z",
     "start_time": "2024-11-14T19:02:51.087591400Z"
    }
   },
   "outputs": [],
   "source": [
    "input_neurons = x_train.shape[1:][0]  # Cancer dataset has 30 features\n",
    "num_hidden_layers = 5  # Number of hidden layers\n",
    "hidden_neurons = 100  # Number of neurons in each hidden layer\n",
    "output_neurons = 1  # Binary classification-regression\n",
    "\n",
    "model = Sequential()\n",
    "model.add(Input(input_neurons))\n",
    "model.add(Dense(hidden_neurons, weights_init='he_uniform', random_state=42))\n",
    "model.add(Activation(ReLU()))\n",
    "\n",
    "for _ in range(num_hidden_layers - 1):\n",
    "    model.add(Dense(hidden_neurons, weights_init='he_uniform', random_state=42))\n",
    "    model.add(BatchNormalization())\n",
    "    model.add(Activation(ReLU()))\n",
    "\n",
    "model.add(Dense(output_neurons, random_state=42))\n",
    "model.add(Activation(Sigmoid()))"
   ]
  },
  {
   "cell_type": "markdown",
   "metadata": {},
   "source": [
    "## 4. Model compilation"
   ]
  },
  {
   "cell_type": "code",
   "execution_count": 5,
   "metadata": {
    "ExecuteTime": {
     "end_time": "2024-11-14T19:02:51.115637600Z",
     "start_time": "2024-11-14T19:02:51.101111900Z"
    }
   },
   "outputs": [
    {
     "name": "stdout",
     "output_type": "stream",
     "text": [
      "Sequential(temperature=1.0, gradient_clip_threshold=5.0, enable_padding=False, padding_size=32, random_state=1731610971086591500)\n",
      "-------------------------------------------------\n",
      "Layer 1: Input(input_shape=(30,))\n",
      "Layer 2: Dense(units=100)\n",
      "Layer 3: Activation(ReLU)\n",
      "Layer 4: Dense(units=100)\n",
      "Layer 5: BatchNormalization(momentum=0.99, epsilon=1e-08)\n",
      "Layer 6: Activation(ReLU)\n",
      "Layer 7: Dense(units=100)\n",
      "Layer 8: BatchNormalization(momentum=0.99, epsilon=1e-08)\n",
      "Layer 9: Activation(ReLU)\n",
      "Layer 10: Dense(units=100)\n",
      "Layer 11: BatchNormalization(momentum=0.99, epsilon=1e-08)\n",
      "Layer 12: Activation(ReLU)\n",
      "Layer 13: Dense(units=100)\n",
      "Layer 14: BatchNormalization(momentum=0.99, epsilon=1e-08)\n",
      "Layer 15: Activation(ReLU)\n",
      "Layer 16: Dense(units=1)\n",
      "Layer 17: Activation(Sigmoid)\n",
      "-------------------------------------------------\n",
      "Loss function: BinaryCrossentropy\n",
      "Optimizer: Adam(learning_rate=0.0001, beta_1=0.9, beta_2=0.999, epsilon=1e-08, clip_norm=None, clip_value=None)\n",
      "-------------------------------------------------\n"
     ]
    }
   ],
   "source": [
    "model.compile(loss_function=BinaryCrossentropy(), optimizer=Adam(learning_rate=0.0001))\n",
    "\n",
    "model.summary()"
   ]
  },
  {
   "cell_type": "markdown",
   "metadata": {},
   "source": [
    "## 5. Model training"
   ]
  },
  {
   "cell_type": "code",
   "execution_count": 6,
   "metadata": {
    "ExecuteTime": {
     "end_time": "2024-11-14T19:03:26.632410100Z",
     "start_time": "2024-11-14T19:02:51.117636900Z"
    }
   },
   "outputs": [
    {
     "name": "stdout",
     "output_type": "stream",
     "text": [
      "[==============================] 100% Epoch 1/40 - loss: 0.7434 - accuracy: 0.5099 - 0.06s\n",
      "[==============================] 100% Epoch 2/40 - loss: 0.6053 - accuracy: 0.6440 - 0.08s\n",
      "[==============================] 100% Epoch 3/40 - loss: 0.4674 - accuracy: 0.7824 - 0.08s\n",
      "[==============================] 100% Epoch 4/40 - loss: 0.3663 - accuracy: 0.8681 - 0.08s\n",
      "[==============================] 100% Epoch 5/40 - loss: 0.3026 - accuracy: 0.8945 - 0.07s\n",
      "[==============================] 100% Epoch 6/40 - loss: 0.2609 - accuracy: 0.9121 - 0.08s\n",
      "[==============================] 100% Epoch 7/40 - loss: 0.2319 - accuracy: 0.9165 - 0.07s\n",
      "[==============================] 100% Epoch 8/40 - loss: 0.2113 - accuracy: 0.9231 - 0.07s\n",
      "[==============================] 100% Epoch 9/40 - loss: 0.1968 - accuracy: 0.9253 - 0.08s\n",
      "[==============================] 100% Epoch 10/40 - loss: 0.1869 - accuracy: 0.9319 - 0.07s\n",
      "[==============================] 100% Epoch 11/40 - loss: 0.1801 - accuracy: 0.9319 - 0.08s\n",
      "[==============================] 100% Epoch 12/40 - loss: 0.1756 - accuracy: 0.9297 - 0.08s\n",
      "[==============================] 100% Epoch 13/40 - loss: 0.1735 - accuracy: 0.9297 - 0.08s\n",
      "[==============================] 100% Epoch 14/40 - loss: 0.1733 - accuracy: 0.9275 - 0.08s\n",
      "[==============================] 100% Epoch 15/40 - loss: 0.1743 - accuracy: 0.9275 - 0.11s\n",
      "[==============================] 100% Epoch 16/40 - loss: 0.1765 - accuracy: 0.9297 - 0.08s\n",
      "[==============================] 100% Epoch 17/40 - loss: 0.1798 - accuracy: 0.9319 - 0.07s\n",
      "[==============================] 100% Epoch 18/40 - loss: 0.1829 - accuracy: 0.9297 - 0.08s\n",
      "[==============================] 100% Epoch 19/40 - loss: 0.1858 - accuracy: 0.9297 - 0.07s\n",
      "[==============================] 100% Epoch 20/40 - loss: 0.1883 - accuracy: 0.9275 - 0.08s\n",
      "[==============================] 100% Epoch 21/40 - loss: 0.1900 - accuracy: 0.9253 - 0.07s\n",
      "[==============================] 100% Epoch 22/40 - loss: 0.1910 - accuracy: 0.9253 - 0.07s\n",
      "[==============================] 100% Epoch 23/40 - loss: 0.1916 - accuracy: 0.9253 - 0.07s\n",
      "[==============================] 100% Epoch 24/40 - loss: 0.1920 - accuracy: 0.9231 - 0.07s\n",
      "[==============================] 100% Epoch 25/40 - loss: 0.1919 - accuracy: 0.9231 - 0.07s\n",
      "[==============================] 100% Epoch 26/40 - loss: 0.1911 - accuracy: 0.9209 - 0.07s\n",
      "[==============================] 100% Epoch 27/40 - loss: 0.1906 - accuracy: 0.9165 - 0.07s\n",
      "[==============================] 100% Epoch 28/40 - loss: 0.1904 - accuracy: 0.9143 - 0.07s\n",
      "[==============================] 100% Epoch 29/40 - loss: 0.1908 - accuracy: 0.9099 - 0.07s\n",
      "[==============================] 100% Epoch 30/40 - loss: 0.1919 - accuracy: 0.9055 - 0.08s\n",
      "[==============================] 100% Epoch 31/40 - loss: 0.1938 - accuracy: 0.9055 - 0.08s\n",
      "[==============================] 100% Epoch 32/40 - loss: 0.1958 - accuracy: 0.9011 - 0.07s\n",
      "[==============================] 100% Epoch 33/40 - loss: 0.1981 - accuracy: 0.8945 - 0.07s\n",
      "[==============================] 100% Epoch 34/40 - loss: 0.2009 - accuracy: 0.8923 - 0.07s\n",
      "[==============================] 100% Epoch 35/40 - loss: 0.2035 - accuracy: 0.8923 - 0.07s\n",
      "[==============================] 100% Epoch 36/40 - loss: 0.2055 - accuracy: 0.8901 - 0.07s\n",
      "[==============================] 100% Epoch 37/40 - loss: 0.2072 - accuracy: 0.8879 - 0.07s\n",
      "[==============================] 100% Epoch 38/40 - loss: 0.2088 - accuracy: 0.8857 - 0.07s\n",
      "[==============================] 100% Epoch 39/40 - loss: 0.2110 - accuracy: 0.8835 - 0.07s\n",
      "[==============================] 100% Epoch 40/40 - loss: 0.2136 - accuracy: 0.8791 - 0.07s\n"
     ]
    }
   ],
   "source": [
    "early_stopping = EarlyStopping(patience=5, min_delta=0.001, restore_best_weights=True)\n",
    "\n",
    "history = model.fit(x_train, y_train, epochs=40, batch_size=48, random_state=42, plot_decision_boundary=True,\n",
    "          callbacks=[], metrics=[\"accuracy\"])  # Here, the early stopping will stop the training if the loss does not decrease\n",
    "\n",
    "# You could specify a different metric because loss is the default one\n",
    "\n",
    "# In this context, accuracy_score would have stopped at epoch 10"
   ]
  },
  {
   "cell_type": "markdown",
   "metadata": {},
   "source": [
    "## 6. Model evaluation"
   ]
  },
  {
   "cell_type": "code",
   "execution_count": 7,
   "metadata": {
    "ExecuteTime": {
     "end_time": "2024-11-14T19:03:26.689267600Z",
     "start_time": "2024-11-14T19:03:26.615487300Z"
    }
   },
   "outputs": [
    {
     "name": "stdout",
     "output_type": "stream",
     "text": [
      "Test loss: 2.4638212205449603\n"
     ]
    }
   ],
   "source": [
    "loss, _ = model.evaluate(x_test, y_test)\n",
    "print(f'Test loss: {loss}')"
   ]
  },
  {
   "cell_type": "markdown",
   "metadata": {},
   "source": [
    "## 7. Model prediction"
   ]
  },
  {
   "cell_type": "code",
   "execution_count": 8,
   "metadata": {
    "ExecuteTime": {
     "end_time": "2024-11-14T19:03:26.692272200Z",
     "start_time": "2024-11-14T19:03:26.662694700Z"
    }
   },
   "outputs": [],
   "source": [
    "y_pred = model.predict(x_test)"
   ]
  },
  {
   "cell_type": "markdown",
   "metadata": {},
   "source": [
    "## 8. Printing some metrics"
   ]
  },
  {
   "cell_type": "code",
   "execution_count": 9,
   "metadata": {
    "ExecuteTime": {
     "end_time": "2024-11-14T19:03:26.692272200Z",
     "start_time": "2024-11-14T19:03:26.678224300Z"
    }
   },
   "outputs": [
    {
     "name": "stdout",
     "output_type": "stream",
     "text": [
      "Accuracy: 0.9035087719298246\n",
      "Precision: 0.9841269841269841\n",
      "Recall: 0.8611111111111112\n",
      "F1 Score: 0.9185185185185185\n"
     ]
    }
   ],
   "source": [
    "accuracy = accuracy_score(y_pred, y_test)\n",
    "precision = precision_score(y_pred, y_test)\n",
    "recall = recall_score(y_pred, y_test)\n",
    "f1 = f1_score(y_pred, y_test)\n",
    "\n",
    "print(f\"Accuracy: {accuracy}\")\n",
    "print(f\"Precision: {precision}\")\n",
    "print(f\"Recall: {recall}\")\n",
    "print(f\"F1 Score: {f1}\")"
   ]
  }
 ],
 "metadata": {
  "kernelspec": {
   "display_name": "Python 3",
   "language": "python",
   "name": "python3"
  },
  "language_info": {
   "codemirror_mode": {
    "name": "ipython",
    "version": 3
   },
   "file_extension": ".py",
   "mimetype": "text/x-python",
   "name": "python",
   "nbconvert_exporter": "python",
   "pygments_lexer": "ipython3",
   "version": "3.10.8"
  }
 },
 "nbformat": 4,
 "nbformat_minor": 4
}
