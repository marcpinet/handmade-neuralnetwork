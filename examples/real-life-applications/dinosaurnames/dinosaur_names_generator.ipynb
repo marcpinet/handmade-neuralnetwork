{
 "cells": [
  {
   "cell_type": "code",
   "execution_count": 1,
   "id": "a036f9b8eee0491",
   "metadata": {
    "collapsed": false,
    "ExecuteTime": {
     "end_time": "2024-11-11T23:45:07.313672Z",
     "start_time": "2024-11-11T23:45:07.022551200Z"
    }
   },
   "outputs": [],
   "source": [
    "import numpy as np\n",
    "import random\n",
    "from neuralnetlib.layers import Input, Embedding, LSTM, Dense\n",
    "from neuralnetlib.model import Model\n",
    "from neuralnetlib.preprocessing import one_hot_encode\n",
    "from neuralnetlib.callbacks import EarlyStopping"
   ]
  },
  {
   "cell_type": "code",
   "execution_count": 2,
   "id": "be237a3421e586a2",
   "metadata": {
    "collapsed": false,
    "ExecuteTime": {
     "end_time": "2024-11-11T23:45:07.330672400Z",
     "start_time": "2024-11-11T23:45:07.315672900Z"
    }
   },
   "outputs": [
    {
     "name": "stdout",
     "output_type": "stream",
     "text": [
      "['Aachenosaurus', 'Aardonyx', 'Abdallahsaurus', 'Abelisaurus', 'Abrictosaurus']\n"
     ]
    }
   ],
   "source": [
    "with open('dinos.txt', 'r', encoding='utf-8') as f:\n",
    "    names = [line.strip() for line in f]\n",
    "\n",
    "print(names[:5])  # display the first 5 names of the list to check if they were loaded correctly"
   ]
  },
  {
   "cell_type": "code",
   "execution_count": 3,
   "id": "f4c0d8598f0ba7a",
   "metadata": {
    "collapsed": false,
    "ExecuteTime": {
     "end_time": "2024-11-11T23:45:07.375685900Z",
     "start_time": "2024-11-11T23:45:07.330672400Z"
    }
   },
   "outputs": [
    {
     "name": "stdout",
     "output_type": "stream",
     "text": [
      "Maximum length: 26\n"
     ]
    }
   ],
   "source": [
    "lengths = [len(name) for name in names]\n",
    "max_length = max(lengths)\n",
    "print(f\"Maximum length: {max_length}\")"
   ]
  },
  {
   "cell_type": "code",
   "execution_count": 4,
   "id": "c410380fa90e7694",
   "metadata": {
    "collapsed": false,
    "ExecuteTime": {
     "end_time": "2024-11-11T23:45:07.380682900Z",
     "start_time": "2024-11-11T23:45:07.347672700Z"
    }
   },
   "outputs": [
    {
     "name": "stdout",
     "output_type": "stream",
     "text": [
      "Vocab size: 54\n"
     ]
    }
   ],
   "source": [
    "# Constants\n",
    "PAD_TOKEN = ''   # Padding token (index 0)\n",
    "EOS_TOKEN = '$'  # End of sequence token (index 1)\n",
    "max_length = 15  # Maximum sequence length\n",
    "\n",
    "# Mapping dictionaries\n",
    "char_to_index = {PAD_TOKEN: 0, EOS_TOKEN: 1}\n",
    "index_to_char = {0: PAD_TOKEN, 1: EOS_TOKEN}\n",
    "\n",
    "# Extract unique characters and sort them\n",
    "unique_chars = sorted(set(''.join(names)))\n",
    "\n",
    "# Build character <-> index mappings starting at index 2\n",
    "for idx, char in enumerate(unique_chars, start=2):\n",
    "    char_to_index[char] = idx\n",
    "    index_to_char[idx] = char\n",
    "\n",
    "vocab_size = len(char_to_index)\n",
    "print(f\"Vocab size: {vocab_size}\")"
   ]
  },
  {
   "cell_type": "code",
   "execution_count": 5,
   "id": "1364a6786997a8f5",
   "metadata": {
    "collapsed": false,
    "ExecuteTime": {
     "end_time": "2024-11-11T23:45:07.392680600Z",
     "start_time": "2024-11-11T23:45:07.363675600Z"
    }
   },
   "outputs": [
    {
     "name": "stdout",
     "output_type": "stream",
     "text": [
      "Vocabulary size: 54\n",
      "X data shape: (18374, 15)\n",
      "y labels shape: (18374, 54)\n",
      "\n",
      "Example for Aachenosaurus:\n",
      "Input sequence: [ 0  0  0  0  0  0  0  0  0 28 28 30 35 32 41]\n",
      "Expected output: [0. 0. 0. 0. 0. 0. 0. 0. 0. 0. 0. 0. 0. 0. 0. 0. 0. 0. 0. 0. 0. 0. 0. 0.\n",
      " 0. 0. 0. 0. 0. 0. 0. 0. 0. 0. 0. 0. 0. 0. 0. 0. 0. 0. 1. 0. 0. 0. 0. 0.\n",
      " 0. 0. 0. 0. 0. 0.]\n",
      "\n",
      "Decoding example sequence:\n",
      "['', '', '', '', '', '', '', '', '', 'a', 'a', 'c', 'h', 'e', 'n']\n",
      "Next character: o\n"
     ]
    }
   ],
   "source": [
    "# Training sequences\n",
    "sequences = []\n",
    "next_chars = []\n",
    "\n",
    "# Create sequences and next characters\n",
    "for name in names:\n",
    "    name = name.lower()\n",
    "    name_chars = list(name) + [EOS_TOKEN]\n",
    "\n",
    "    for i in range(len(name_chars) - 1):\n",
    "        # Extract sequence\n",
    "        seq = name_chars[max(0, i - max_length + 1):i + 1]\n",
    "\n",
    "        # Padding and conversion to indices\n",
    "        padded_seq = [0] * (max_length - len(seq)) + [char_to_index[char] for char in seq]\n",
    "\n",
    "        sequences.append(padded_seq)\n",
    "        next_chars.append(char_to_index[name_chars[i + 1]])\n",
    "\n",
    "# Convert to numpy arrays\n",
    "X = np.array(sequences)\n",
    "y = one_hot_encode(np.array(next_chars), vocab_size)\n",
    "\n",
    "print(f\"Vocabulary size: {vocab_size}\")\n",
    "print(f\"X data shape: {X.shape}\")\n",
    "print(f\"y labels shape: {y.shape}\")\n",
    "\n",
    "# Display an example for verification\n",
    "print(f\"\\nExample for {names[0]}:\")\n",
    "print(f\"Input sequence: {X[5]}\")\n",
    "print(f\"Expected output: {y[5]}\")\n",
    "\n",
    "# Visualize tokens for the first example\n",
    "print(\"\\nDecoding example sequence:\")\n",
    "print([index_to_char[idx] for idx in X[5]])\n",
    "print(f\"Next character: {index_to_char[next_chars[5]]}\")"
   ]
  },
  {
   "cell_type": "code",
   "execution_count": 6,
   "id": "317820e906d2065",
   "metadata": {
    "collapsed": false,
    "ExecuteTime": {
     "end_time": "2024-11-11T23:45:07.437786100Z",
     "start_time": "2024-11-11T23:45:07.392680600Z"
    }
   },
   "outputs": [
    {
     "name": "stdout",
     "output_type": "stream",
     "text": [
      "Model\n",
      "-------------------------------------------------\n",
      "Layer 1: Input(input_shape=(15,))\n",
      "Layer 2: Embedding(input_dim=54, output_dim=32)\n",
      "Layer 3: LSTM(units=32, return_sequences=False, return_state=False, random_state=None, clip_value=5.0)\n",
      "Layer 4: Dense(units=54)\n",
      "Layer 5: Activation(Softmax)\n",
      "-------------------------------------------------\n",
      "Loss function: CategoricalCrossentropy\n",
      "Optimizer: Adam(learning_rate=0.001, beta_1=0.9, beta_2=0.999, epsilon=1e-08, clip_norm=None, clip_value=None)\n",
      "-------------------------------------------------\n"
     ]
    }
   ],
   "source": [
    "# Model definition\n",
    "embedding_dim = 32\n",
    "lstm_units = 32\n",
    "\n",
    "model = Model()\n",
    "model.add(Input(max_length))\n",
    "model.add(Embedding(input_dim=vocab_size, output_dim=embedding_dim))\n",
    "model.add(LSTM(units=lstm_units))\n",
    "model.add(Dense(units=vocab_size, activation='softmax'))\n",
    "\n",
    "model.compile(loss_function='categorical_crossentropy', optimizer='adam')\n",
    "model.summary()"
   ]
  },
  {
   "cell_type": "code",
   "execution_count": 7,
   "id": "ccca9fb1b43dd948",
   "metadata": {
    "collapsed": false,
    "ExecuteTime": {
     "end_time": "2024-11-11T23:49:14.501592500Z",
     "start_time": "2024-11-11T23:45:07.409768100Z"
    }
   },
   "outputs": [
    {
     "name": "stdout",
     "output_type": "stream",
     "text": [
      "[==============================] 100% Epoch 1/100 - loss: 2.7374 -  - 2.09s\n",
      "[==============================] 100% Epoch 2/100 - loss: 2.2089 -  - 1.98s\n",
      "[==============================] 100% Epoch 3/100 - loss: 2.0048 -  - 1.89s\n",
      "[==============================] 100% Epoch 4/100 - loss: 1.9196 -  - 1.88s\n",
      "[==============================] 100% Epoch 5/100 - loss: 1.8763 -  - 1.88s\n",
      "[==============================] 100% Epoch 6/100 - loss: 1.8460 -  - 1.85s\n",
      "[==============================] 100% Epoch 7/100 - loss: 1.8193 -  - 1.85s\n",
      "[==============================] 100% Epoch 8/100 - loss: 1.7941 -  - 1.84s\n",
      "[==============================] 100% Epoch 9/100 - loss: 1.7807 -  - 1.85s\n",
      "[==============================] 100% Epoch 10/100 - loss: 1.7668 -  - 1.86s\n",
      "[==============================] 100% Epoch 11/100 - loss: 1.7543 -  - 1.87s\n",
      "[==============================] 100% Epoch 12/100 - loss: 1.7440 -  - 1.91s\n",
      "[==============================] 100% Epoch 13/100 - loss: 1.7424 -  - 1.87s\n",
      "[==============================] 100% Epoch 14/100 - loss: 1.7295 -  - 1.88s\n",
      "[==============================] 100% Epoch 15/100 - loss: 1.7201 -  - 1.88s\n",
      "[==============================] 100% Epoch 16/100 - loss: 1.7141 -  - 1.86s\n",
      "[==============================] 100% Epoch 17/100 - loss: 1.7069 -  - 1.89s\n",
      "[==============================] 100% Epoch 18/100 - loss: 1.7032 -  - 1.88s\n",
      "[==============================] 100% Epoch 19/100 - loss: 1.7003 -  - 1.90s\n",
      "[==============================] 100% Epoch 20/100 - loss: 1.6908 -  - 1.87s\n",
      "[==============================] 100% Epoch 21/100 - loss: 1.6892 -  - 1.86s\n",
      "[==============================] 100% Epoch 22/100 - loss: 1.6880 -  - 1.88s\n",
      "[==============================] 100% Epoch 23/100 - loss: 1.6817 -  - 1.87s\n",
      "[==============================] 100% Epoch 24/100 - loss: 1.6763 -  - 1.85s\n",
      "[==============================] 100% Epoch 25/100 - loss: 1.6769 -  - 1.87s\n",
      "[==============================] 100% Epoch 26/100 - loss: 1.6704 -  - 1.86s\n",
      "[==============================] 100% Epoch 27/100 - loss: 1.6649 -  - 1.99s\n",
      "[==============================] 100% Epoch 28/100 - loss: 1.6598 -  - 2.14s\n",
      "[==============================] 100% Epoch 29/100 - loss: 1.6603 -  - 1.85s\n",
      "[==============================] 100% Epoch 30/100 - loss: 1.6558 -  - 1.85s\n",
      "[==============================] 100% Epoch 31/100 - loss: 1.6568 -  - 1.87s\n",
      "[==============================] 100% Epoch 32/100 - loss: 1.6497 -  - 1.91s\n",
      "[==============================] 100% Epoch 33/100 - loss: 1.6464 -  - 1.93s\n",
      "[==============================] 100% Epoch 34/100 - loss: 1.6419 -  - 1.86s\n",
      "[==============================] 100% Epoch 35/100 - loss: 1.6402 -  - 1.87s\n",
      "[==============================] 100% Epoch 36/100 - loss: 1.6379 -  - 1.94s\n",
      "[==============================] 100% Epoch 37/100 - loss: 1.6356 -  - 1.87s\n",
      "[==============================] 100% Epoch 38/100 - loss: 1.6344 -  - 1.86s\n",
      "[==============================] 100% Epoch 39/100 - loss: 1.6300 -  - 1.87s\n",
      "[==============================] 100% Epoch 40/100 - loss: 1.6289 -  - 1.96s\n",
      "[==============================] 100% Epoch 41/100 - loss: 1.6244 -  - 1.89s\n",
      "[==============================] 100% Epoch 42/100 - loss: 1.6212 -  - 1.93s\n",
      "[==============================] 100% Epoch 43/100 - loss: 1.6205 -  - 1.93s\n",
      "[==============================] 100% Epoch 44/100 - loss: 1.6189 -  - 2.10s\n",
      "[==============================] 100% Epoch 45/100 - loss: 1.6217 -  - 1.89s\n",
      "[==============================] 100% Epoch 46/100 - loss: 1.6137 -  - 1.91s\n",
      "[==============================] 100% Epoch 47/100 - loss: 1.6106 -  - 1.86s\n",
      "[==============================] 100% Epoch 48/100 - loss: 1.6100 -  - 1.85s\n",
      "[==============================] 100% Epoch 49/100 - loss: 1.6082 -  - 1.90s\n",
      "[==============================] 100% Epoch 50/100 - loss: 1.6078 -  - 1.88s\n",
      "[==============================] 100% Epoch 51/100 - loss: 1.6056 -  - 1.84s\n",
      "[==============================] 100% Epoch 52/100 - loss: 1.6049 -  - 1.88s\n",
      "[==============================] 100% Epoch 53/100 - loss: 1.6023 -  - 2.00s\n",
      "[==============================] 100% Epoch 54/100 - loss: 1.6006 -  - 1.83s\n",
      "[==============================] 100% Epoch 55/100 - loss: 1.5980 -  - 1.84s\n",
      "[==============================] 100% Epoch 56/100 - loss: 1.5958 -  - 1.85s\n",
      "[==============================] 100% Epoch 57/100 - loss: 1.5974 -  - 1.93s\n",
      "[==============================] 100% Epoch 58/100 - loss: 1.5943 -  - 1.82s\n",
      "[==============================] 100% Epoch 59/100 - loss: 1.5932 -  - 1.92s\n",
      "[==============================] 100% Epoch 60/100 - loss: 1.5911 -  - 1.86s\n",
      "[==============================] 100% Epoch 61/100 - loss: 1.5890 -  - 2.08s\n",
      "[==============================] 100% Epoch 62/100 - loss: 1.5915 -  - 1.86s\n",
      "[==============================] 100% Epoch 63/100 - loss: 1.5893 -  - 1.85s\n",
      "[==============================] 100% Epoch 64/100 - loss: 1.5847 -  - 1.85s\n",
      "[==============================] 100% Epoch 65/100 - loss: 1.5857 -  - 1.85s\n",
      "[==============================] 100% Epoch 66/100 - loss: 1.5830 -  - 1.89s\n",
      "[==============================] 100% Epoch 67/100 - loss: 1.5840 -  - 1.88s\n",
      "[==============================] 100% Epoch 68/100 - loss: 1.5836 -  - 1.86s\n",
      "[==============================] 100% Epoch 69/100 - loss: 1.5847 -  - 2.03s\n",
      "[==============================] 100% Epoch 70/100 - loss: 1.5791 -  - 1.88s\n",
      "[==============================] 100% Epoch 71/100 - loss: 1.5775 -  - 2.08s\n",
      "[==============================] 100% Epoch 72/100 - loss: 1.5740 -  - 1.86s\n",
      "[==============================] 100% Epoch 73/100 - loss: 1.5727 -  - 1.89s\n",
      "[==============================] 100% Epoch 74/100 - loss: 1.5740 -  - 1.92s\n",
      "[==============================] 100% Epoch 75/100 - loss: 1.5742 -  - 1.85s\n",
      "[==============================] 100% Epoch 76/100 - loss: 1.5735 -  - 1.87s\n",
      "[==============================] 100% Epoch 77/100 - loss: 1.5717 -  - 1.91s\n",
      "[==============================] 100% Epoch 78/100 - loss: 1.5732 -  - 1.88s\n",
      "[==============================] 100% Epoch 79/100 - loss: 1.5702 -  - 1.88s\n",
      "[==============================] 100% Epoch 80/100 - loss: 1.5691 -  - 1.87s\n",
      "[==============================] 100% Epoch 81/100 - loss: 1.5660 -  - 1.88s\n",
      "[==============================] 100% Epoch 82/100 - loss: 1.5713 -  - 1.87s\n",
      "[==============================] 100% Epoch 83/100 - loss: 1.5679 -  - 1.88s\n",
      "[==============================] 100% Epoch 84/100 - loss: 1.5663 -  - 1.85s\n",
      "[==============================] 100% Epoch 85/100 - loss: 1.5665 -  - 1.92s\n",
      "[==============================] 100% Epoch 86/100 - loss: 1.5646 -  - 1.86s\n",
      "[==============================] 100% Epoch 87/100 - loss: 1.5654 -  - 1.87s\n",
      "[==============================] 100% Epoch 88/100 - loss: 1.5623 -  - 1.86s\n",
      "[==============================] 100% Epoch 89/100 - loss: 1.5631 -  - 1.89s\n",
      "[==============================] 100% Epoch 90/100 - loss: 1.5613 -  - 1.87s\n",
      "[==============================] 100% Epoch 91/100 - loss: 1.5608 -  - 1.88s\n",
      "[==============================] 100% Epoch 92/100 - loss: 1.5594 -  - 1.88s\n",
      "[==============================] 100% Epoch 93/100 - loss: 1.5581 -  - 1.93s\n",
      "[==============================] 100% Epoch 94/100 - loss: 1.5595 -  - 1.92s\n",
      "[==============================] 100% Epoch 95/100 - loss: 1.5583 -  - 1.88s\n",
      "[==============================] 100% Epoch 96/100 - loss: 1.5567 -  - 1.87s\n",
      "[==============================] 100% Epoch 97/100 - loss: 1.5570 -  - 1.87s\n",
      "[==============================] 100% Epoch 98/100 - loss: 1.5567 -  - 1.87s\n",
      "[==============================] 100% Epoch 99/100 - loss: 1.5550 -  - 1.87s\n",
      "[==============================] 100% Epoch 100/100 - loss: 1.5538 -  - 1.91s\n"
     ]
    }
   ],
   "source": [
    "# Early stopping callback\n",
    "early_stopping = EarlyStopping(\n",
    "    monitor='loss',\n",
    "    patience=5,\n",
    "    restore_best_weights=True\n",
    ")\n",
    "\n",
    "# Model training\n",
    "history = model.fit(\n",
    "    X, y,\n",
    "    epochs=100,\n",
    "    batch_size=64,\n",
    "    callbacks=[early_stopping],\n",
    "    validation_data=(X, y),\n",
    ")\n"
   ]
  },
  {
   "cell_type": "code",
   "execution_count": 33,
   "id": "68ec75af38129a34",
   "metadata": {
    "collapsed": false,
    "ExecuteTime": {
     "end_time": "2024-11-11T23:50:59.921940800Z",
     "start_time": "2024-11-11T23:50:59.889832400Z"
    }
   },
   "outputs": [
    {
     "name": "stdout",
     "output_type": "stream",
     "text": [
      "\n",
      "Generated names:\n",
      "Jutsithangus (12 characters)\n",
      "Hulosaurus (10 characters)\n",
      "Aerotosaurus (12 characters)\n",
      "Iovenycus (9 characters)\n",
      "Titropnosaurus (14 characters)\n",
      "\n",
      "Are all names original? True\n",
      "\n",
      "Average length: 11.4 characters\n",
      "Minimum length: 9 characters\n",
      "Maximum length: 14 characters\n"
     ]
    }
   ],
   "source": [
    "# Name generation\n",
    "def generate_name(model, min_length=5):\n",
    "    current_sequence = [0] * max_length\n",
    "    generated_name = \"\"\n",
    "\n",
    "    while len(generated_name) < max_length:\n",
    "        x = np.array([current_sequence])\n",
    "        preds = model.predict(x)[0]\n",
    "\n",
    "        # Select next character using random.choices\n",
    "        next_char_idx = random.choices(range(vocab_size), weights=preds, k=1)[0]\n",
    "        next_char = index_to_char[next_char_idx]\n",
    "\n",
    "        # STOP if minimum length reached and EOS encountered\n",
    "        if len(generated_name) >= min_length and next_char == EOS_TOKEN:\n",
    "            break\n",
    "\n",
    "        # Add character if it's neither PAD nor EOS\n",
    "        if next_char not in [PAD_TOKEN, EOS_TOKEN]:\n",
    "            generated_name += next_char\n",
    "\n",
    "        # Update current sequence\n",
    "        current_sequence = current_sequence[1:] + [next_char_idx]\n",
    "\n",
    "    return generated_name.capitalize() if len(generated_name) >= min_length else None\n",
    "\n",
    "# Generate multiple names\n",
    "generated_names = []\n",
    "number_of_names = 5\n",
    "min_length = 5\n",
    "\n",
    "while len(generated_names) < number_of_names:\n",
    "    name = generate_name(model, min_length)\n",
    "    if name is not None and name not in generated_names:\n",
    "        generated_names.append(name)\n",
    "\n",
    "# Display results\n",
    "print(\"\\nGenerated names:\")\n",
    "for name in generated_names:\n",
    "    print(f\"{name} ({len(name)} characters)\")\n",
    "\n",
    "# Check originality\n",
    "print(\"\\nAre all names original?\", all(name.lower() not in [n.lower() for n in names] for name in generated_names))\n",
    "\n",
    "# Length statistics\n",
    "lengths = [len(name) for name in generated_names]\n",
    "print(f\"\\nAverage length: {sum(lengths)/len(lengths):.1f} characters\")\n",
    "print(f\"Minimum length: {min(lengths)} characters\")\n",
    "print(f\"Maximum length: {max(lengths)} characters\")"
   ]
  }
 ],
 "metadata": {
  "kernelspec": {
   "display_name": "Python 3",
   "language": "python",
   "name": "python3"
  },
  "language_info": {
   "codemirror_mode": {
    "name": "ipython",
    "version": 2
   },
   "file_extension": ".py",
   "mimetype": "text/x-python",
   "name": "python",
   "nbconvert_exporter": "python",
   "pygments_lexer": "ipython2",
   "version": "2.7.6"
  }
 },
 "nbformat": 4,
 "nbformat_minor": 5
}
