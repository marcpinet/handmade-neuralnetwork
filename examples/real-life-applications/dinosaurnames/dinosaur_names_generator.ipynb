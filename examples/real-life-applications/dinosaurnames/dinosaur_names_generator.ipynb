{
 "cells": [
  {
   "cell_type": "code",
   "execution_count": 1,
   "outputs": [],
   "source": [
    "import numpy as np\n",
    "import random\n",
    "from neuralnetlib.layers import Input, Embedding, LSTM, Dense\n",
    "from neuralnetlib.model import Model\n",
    "from neuralnetlib.preprocessing import one_hot_encode\n",
    "from neuralnetlib.callbacks import EarlyStopping"
   ],
   "metadata": {
    "collapsed": false,
    "ExecuteTime": {
     "end_time": "2024-11-06T23:42:25.007588800Z",
     "start_time": "2024-11-06T23:42:24.745527700Z"
    }
   },
   "id": "a036f9b8eee0491"
  },
  {
   "cell_type": "code",
   "execution_count": 2,
   "outputs": [
    {
     "name": "stdout",
     "output_type": "stream",
     "text": [
      "['Aachenosaurus', 'Aardonyx', 'Abdallahsaurus', 'Abelisaurus', 'Abrictosaurus']\n"
     ]
    }
   ],
   "source": [
    "with open('dinos.txt', 'r', encoding='utf-8') as f:\n",
    "    names = [line.strip() for line in f]\n",
    "\n",
    "print(names[:5])  # on affiche les 5 premiers noms de la liste pour vois s'ils ont été correctement chargés"
   ],
   "metadata": {
    "collapsed": false,
    "ExecuteTime": {
     "end_time": "2024-11-06T23:42:25.023589200Z",
     "start_time": "2024-11-06T23:42:25.008589100Z"
    }
   },
   "id": "be237a3421e586a2"
  },
  {
   "cell_type": "code",
   "execution_count": 3,
   "outputs": [
    {
     "name": "stdout",
     "output_type": "stream",
     "text": [
      "Maximum length: 26\n"
     ]
    }
   ],
   "source": [
    "lengths = [len(name) for name in names]\n",
    "max_length = max(lengths)\n",
    "print(f\"Maximum length: {max_length}\")"
   ],
   "metadata": {
    "collapsed": false,
    "ExecuteTime": {
     "end_time": "2024-11-06T23:42:25.084595200Z",
     "start_time": "2024-11-06T23:42:25.024589600Z"
    }
   },
   "id": "f4c0d8598f0ba7a"
  },
  {
   "cell_type": "code",
   "execution_count": 4,
   "outputs": [
    {
     "name": "stdout",
     "output_type": "stream",
     "text": [
      "Vocab size: 54\n"
     ]
    }
   ],
   "source": [
    "# Constantes\n",
    "PAD_TOKEN = ''  # Token de padding (index 0)\n",
    "EOS_TOKEN = '$'  # Token de fin de séquence (index 1)\n",
    "max_length = 10  # Longueur maximale des séquences\n",
    "\n",
    "# Dictionnaires de mapping\n",
    "char_to_index = {PAD_TOKEN: 0, EOS_TOKEN: 1}\n",
    "index_to_char = {0: PAD_TOKEN, 1: EOS_TOKEN}\n",
    "\n",
    "# Extraction des caractères uniques et tri\n",
    "unique_chars = sorted(set(''.join(names)))\n",
    "\n",
    "# Construction des mappings caractère <-> index en commençant à 2\n",
    "for idx, char in enumerate(unique_chars, start=2):\n",
    "    char_to_index[char] = idx\n",
    "    index_to_char[idx] = char\n",
    "\n",
    "vocab_size = len(char_to_index)\n",
    "print(f\"Vocab size: {vocab_size}\")"
   ],
   "metadata": {
    "collapsed": false,
    "ExecuteTime": {
     "end_time": "2024-11-06T23:42:25.091103400Z",
     "start_time": "2024-11-06T23:42:25.056595500Z"
    }
   },
   "id": "c410380fa90e7694"
  },
  {
   "cell_type": "code",
   "execution_count": 5,
   "outputs": [
    {
     "name": "stdout",
     "output_type": "stream",
     "text": [
      "Taille du vocabulaire: 54\n",
      "Forme des données X: (18374, 10)\n",
      "Forme des labels y: (18374, 54)\n",
      "\n",
      "Exemple pour Aachenosaurus:\n",
      "Séquence d'entrée: [ 0  0  0  0 28 28 30 35 32 41]\n",
      "Sortie attendue: [0. 0. 0. 0. 0. 0. 0. 0. 0. 0. 0. 0. 0. 0. 0. 0. 0. 0. 0. 0. 0. 0. 0. 0.\n",
      " 0. 0. 0. 0. 0. 0. 0. 0. 0. 0. 0. 0. 0. 0. 0. 0. 0. 0. 1. 0. 0. 0. 0. 0.\n",
      " 0. 0. 0. 0. 0. 0.]\n",
      "\n",
      "Décodage de la séquence d'exemple:\n",
      "['', '', '', '', 'a', 'a', 'c', 'h', 'e', 'n']\n",
      "Prochain caractère: o\n"
     ]
    }
   ],
   "source": [
    "# Séquences pour le training\n",
    "sequences = []\n",
    "next_chars = []\n",
    "\n",
    "# Création des séquences et des caractères suivants\n",
    "for name in names:\n",
    "    name = name.lower()\n",
    "    name_chars = list(name) + [EOS_TOKEN]\n",
    "\n",
    "    for i in range(len(name_chars) - 1):\n",
    "        # Extraction de la séquence\n",
    "        seq = name_chars[max(0, i - max_length + 1):i + 1]\n",
    "\n",
    "        # Padding et conversion en indices\n",
    "        padded_seq = [0] * (max_length - len(seq)) + [char_to_index[char] for char in seq]\n",
    "\n",
    "        sequences.append(padded_seq)\n",
    "        next_chars.append(char_to_index[name_chars[i + 1]])\n",
    "\n",
    "# Conversion en arrays numpy\n",
    "X = np.array(sequences)\n",
    "y = one_hot_encode(np.array(next_chars), vocab_size)\n",
    "\n",
    "print(f\"Taille du vocabulaire: {vocab_size}\")\n",
    "print(f\"Forme des données X: {X.shape}\")\n",
    "print(f\"Forme des labels y: {y.shape}\")\n",
    "\n",
    "# Affichage d'un exemple bbpour vérification\n",
    "print(f\"\\nExemple pour {names[0]}:\")\n",
    "print(f\"Séquence d'entrée: {X[5]}\")\n",
    "print(f\"Sortie attendue: {y[5]}\")\n",
    "\n",
    "# Visualisation des tokens pour le premier exemple\n",
    "print(\"\\nDécodage de la séquence d'exemple:\")\n",
    "print([index_to_char[idx] for idx in X[5]])\n",
    "print(f\"Prochain caractère: {index_to_char[next_chars[5]]}\")"
   ],
   "metadata": {
    "collapsed": false,
    "ExecuteTime": {
     "end_time": "2024-11-06T23:42:25.101611700Z",
     "start_time": "2024-11-06T23:42:25.070594900Z"
    }
   },
   "id": "1364a6786997a8f5"
  },
  {
   "cell_type": "code",
   "execution_count": 6,
   "outputs": [
    {
     "name": "stdout",
     "output_type": "stream",
     "text": [
      "Model\n",
      "-------------------------------------------------\n",
      "Layer 1: Input(input_shape=(10,))\n",
      "Layer 2: Embedding(input_dim=54, output_dim=32)\n",
      "Layer 3: <neuralnetlib.layers.LSTM object at 0x000001F4948DF430>\n",
      "Layer 4: <neuralnetlib.layers.Dense object at 0x000001F4948DF3D0>\n",
      "Layer 5: Activation(Softmax)\n",
      "-------------------------------------------------\n",
      "Loss function: CategoricalCrossentropy\n",
      "Optimizer: Adam(learning_rate=0.001, beta_1=0.9, beta_2=0.999, epsilon=1e-08)\n",
      "-------------------------------------------------\n"
     ]
    }
   ],
   "source": [
    "\n",
    "# Création du modèle\n",
    "embedding_dim = 32\n",
    "lstm_units = 128\n",
    "\n",
    "model = Model()\n",
    "model.add(Input(max_length))\n",
    "model.add(Embedding(input_dim=vocab_size, output_dim=embedding_dim))\n",
    "model.add(LSTM(units=lstm_units))\n",
    "model.add(Dense(units=vocab_size, activation='softmax'))\n",
    "\n",
    "model.compile(loss_function='categorical_crossentropy', optimizer='adam')\n",
    "model.summary()"
   ],
   "metadata": {
    "collapsed": false,
    "ExecuteTime": {
     "end_time": "2024-11-06T23:42:25.146610600Z",
     "start_time": "2024-11-06T23:42:25.103613400Z"
    }
   },
   "id": "317820e906d2065"
  },
  {
   "cell_type": "code",
   "execution_count": 7,
   "outputs": [
    {
     "name": "stdout",
     "output_type": "stream",
     "text": [
      "[==============================] 100% Epoch 1/100 - loss: 2.6477 -  - 10.53s\n",
      "[==============================] 100% Epoch 2/100 - loss: 2.0581 -  - 11.12s\n",
      "[==============================] 100% Epoch 3/100 - loss: 1.8797 -  - 10.63s\n",
      "[==============================] 100% Epoch 4/100 - loss: 1.7906 -  - 10.28s\n",
      "[==============================] 100% Epoch 5/100 - loss: 1.7508 -  - 10.37s\n",
      "[==============================] 100% Epoch 6/100 - loss: 1.7166 -  - 10.63s\n",
      "[==============================] 100% Epoch 7/100 - loss: 1.6940 -  - 10.10s\n",
      "[==============================] 100% Epoch 8/100 - loss: 1.6714 -  - 9.87s\n",
      "[==============================] 100% Epoch 9/100 - loss: 1.6499 -  - 10.08s\n",
      "[==============================] 100% Epoch 10/100 - loss: 1.6325 -  - 10.13s\n",
      "[==============================] 100% Epoch 11/100 - loss: 1.6187 -  - 9.99s\n",
      "[==============================] 100% Epoch 12/100 - loss: 1.5999 -  - 9.96s\n",
      "[==============================] 100% Epoch 13/100 - loss: 1.5891 -  - 10.08s\n",
      "[==============================] 100% Epoch 14/100 - loss: 1.5745 -  - 10.18s\n",
      "[==============================] 100% Epoch 15/100 - loss: 1.5641 -  - 9.98s\n",
      "[==============================] 100% Epoch 16/100 - loss: 1.5537 -  - 10.37s\n",
      "[==============================] 100% Epoch 17/100 - loss: 1.5472 -  - 10.09s\n",
      "[==============================] 100% Epoch 18/100 - loss: 1.5364 -  - 10.02s\n",
      "[==============================] 100% Epoch 19/100 - loss: 1.5306 -  - 10.06s\n",
      "[==============================] 100% Epoch 20/100 - loss: 1.5226 -  - 10.01s\n",
      "[==============================] 100% Epoch 21/100 - loss: 1.5137 -  - 10.59s\n",
      "[==============================] 100% Epoch 22/100 - loss: 1.5113 -  - 10.97s\n",
      "[==============================] 100% Epoch 23/100 - loss: 1.5037 -  - 11.37s\n",
      "[==============================] 100% Epoch 24/100 - loss: 1.4979 -  - 11.33s\n",
      "[==============================] 100% Epoch 25/100 - loss: 1.4953 -  - 11.42s\n",
      "[==============================] 100% Epoch 26/100 - loss: 1.4926 -  - 11.51s\n",
      "[==============================] 100% Epoch 27/100 - loss: 1.4847 -  - 11.27s\n",
      "[==============================] 100% Epoch 28/100 - loss: 1.4819 -  - 11.37s\n",
      "[==============================] 100% Epoch 29/100 - loss: 1.4767 -  - 11.87s\n",
      "[==============================] 100% Epoch 30/100 - loss: 1.4713 -  - 11.47s\n",
      "[==============================] 100% Epoch 31/100 - loss: 1.4673 -  - 11.27s\n",
      "[==============================] 100% Epoch 32/100 - loss: 1.4645 -  - 11.31s\n",
      "[==============================] 100% Epoch 33/100 - loss: 1.4593 -  - 11.23s\n",
      "[==============================] 100% Epoch 34/100 - loss: 1.4576 -  - 11.47s\n",
      "[==============================] 100% Epoch 35/100 - loss: 1.4588 -  - 11.37s\n",
      "[==============================] 100% Epoch 36/100 - loss: 1.4464 -  - 11.39s\n",
      "[==============================] 100% Epoch 37/100 - loss: 1.4459 -  - 11.35s\n",
      "[==============================] 100% Epoch 38/100 - loss: 1.4408 -  - 11.67s\n",
      "[==============================] 100% Epoch 39/100 - loss: 1.4376 -  - 11.51s\n",
      "[==============================] 100% Epoch 40/100 - loss: 1.4371 -  - 11.44s\n",
      "[==============================] 100% Epoch 41/100 - loss: 1.4361 -  - 11.34s\n",
      "[==============================] 100% Epoch 42/100 - loss: 1.4329 -  - 11.60s\n",
      "[==============================] 100% Epoch 43/100 - loss: 1.4305 -  - 11.61s\n",
      "[==============================] 100% Epoch 44/100 - loss: 1.4292 -  - 11.41s\n",
      "[==============================] 100% Epoch 45/100 - loss: 1.4247 -  - 11.34s\n",
      "[==============================] 100% Epoch 46/100 - loss: 1.4183 -  - 11.46s\n",
      "[==============================] 100% Epoch 47/100 - loss: 1.4205 -  - 11.27s\n",
      "[==============================] 100% Epoch 48/100 - loss: 1.4178 -  - 11.31s\n",
      "[==============================] 100% Epoch 49/100 - loss: 1.4145 -  - 11.32s\n",
      "[==============================] 100% Epoch 50/100 - loss: 1.4103 -  - 11.47s\n",
      "[==============================] 100% Epoch 51/100 - loss: 1.4138 -  - 11.28s\n",
      "[==============================] 100% Epoch 52/100 - loss: 1.4100 -  - 11.26s\n",
      "[==============================] 100% Epoch 53/100 - loss: 1.4078 -  - 11.24s\n",
      "[==============================] 100% Epoch 54/100 - loss: 1.4048 -  - 11.48s\n",
      "[==============================] 100% Epoch 55/100 - loss: 1.4034 -  - 11.64s\n",
      "[==============================] 100% Epoch 56/100 - loss: 1.4040 -  - 11.53s\n",
      "[==============================] 100% Epoch 57/100 - loss: 1.3985 -  - 11.39s\n",
      "[==============================] 100% Epoch 58/100 - loss: 1.4017 -  - 11.27s\n",
      "[==============================] 100% Epoch 59/100 - loss: 1.3968 -  - 11.24s\n",
      "[==============================] 100% Epoch 60/100 - loss: 1.3927 -  - 11.28s\n",
      "[==============================] 100% Epoch 61/100 - loss: 1.3951 -  - 11.36s\n",
      "[==============================] 100% Epoch 62/100 - loss: 1.3915 -  - 11.36s\n",
      "[==============================] 100% Epoch 63/100 - loss: 1.3914 -  - 11.36s\n",
      "[==============================] 100% Epoch 64/100 - loss: 1.3878 -  - 11.65s\n",
      "[==============================] 100% Epoch 65/100 - loss: 1.3876 -  - 11.35s\n",
      "[==============================] 100% Epoch 66/100 - loss: 1.3834 -  - 11.48s\n",
      "[==============================] 100% Epoch 67/100 - loss: 1.3868 -  - 11.45s\n",
      "[==============================] 100% Epoch 68/100 - loss: 1.3875 -  - 11.66s\n",
      "[==============================] 100% Epoch 69/100 - loss: 1.3812 -  - 11.41s\n",
      "[==============================] 100% Epoch 70/100 - loss: 1.3794 -  - 11.29s\n",
      "[==============================] 100% Epoch 71/100 - loss: 1.3788 -  - 11.36s\n",
      "[==============================] 100% Epoch 72/100 - loss: 1.3839 -  - 11.24s\n",
      "[==============================] 100% Epoch 73/100 - loss: 1.3801 -  - 11.28s\n",
      "[==============================] 100% Epoch 74/100 - loss: 1.3784 -  - 11.34s\n",
      "[==============================] 100% Epoch 75/100 - loss: 1.3746 -  - 11.31s\n",
      "[==============================] 100% Epoch 76/100 - loss: 1.3729 -  - 11.86s\n",
      "[==============================] 100% Epoch 77/100 - loss: 1.3719 -  - 11.33s\n",
      "[==============================] 100% Epoch 78/100 - loss: 1.3730 -  - 11.27s\n",
      "[==============================] 100% Epoch 79/100 - loss: 1.3694 -  - 11.39s\n",
      "[==============================] 100% Epoch 80/100 - loss: 1.3667 -  - 11.33s\n",
      "[==============================] 100% Epoch 81/100 - loss: 1.3676 -  - 11.69s\n",
      "[==============================] 100% Epoch 82/100 - loss: 1.3662 -  - 11.35s\n",
      "[==============================] 100% Epoch 83/100 - loss: 1.3657 -  - 11.39s\n",
      "[==============================] 100% Epoch 84/100 - loss: 1.3678 -  - 11.32s\n",
      "[==============================] 100% Epoch 85/100 - loss: 1.3657 -  - 11.44s\n",
      "Early stopping triggered after epoch 85\n"
     ]
    }
   ],
   "source": [
    "# Création du callback EarlyStopping\n",
    "early_stopping = EarlyStopping(\n",
    "    monitor='loss',\n",
    "    patience=5,\n",
    "    restore_best_weights=True\n",
    ")\n",
    "\n",
    "# Entraînement du modèle\n",
    "history = model.fit(\n",
    "    X, y,\n",
    "    epochs=100,\n",
    "    batch_size=64,\n",
    "    callbacks=[early_stopping],\n",
    "    validation_data=(X, y),\n",
    ")\n"
   ],
   "metadata": {
    "collapsed": false,
    "ExecuteTime": {
     "end_time": "2024-11-07T00:00:56.919532600Z",
     "start_time": "2024-11-06T23:42:25.117618500Z"
    }
   },
   "id": "ccca9fb1b43dd948"
  },
  {
   "cell_type": "code",
   "execution_count": 24,
   "outputs": [
    {
     "name": "stdout",
     "output_type": "stream",
     "text": [
      "\n",
      "Noms générés:\n",
      "Ourocosaur (10 caractères)\n",
      "Rsholisaur (10 caractères)\n",
      "Cosonimus (9 caractères)\n",
      "Euceratous (10 caractères)\n",
      "Amarcerato (10 caractères)\n",
      "\n",
      "Tous les noms sont-ils originaux ? True\n",
      "\n",
      "Longueur moyenne: 9.8 caractères\n",
      "Longueur minimale: 9 caractères\n",
      "Longueur maximale: 10 caractères\n"
     ]
    }
   ],
   "source": [
    "# Génération de nouveaux noms\n",
    "def generate_name(model, min_length=5):\n",
    "    current_sequence = [0] * max_length\n",
    "    generated_name = \"\"\n",
    "\n",
    "    while len(generated_name) < max_length:\n",
    "        x = np.array([current_sequence])\n",
    "        preds = model.predict(x)[0]\n",
    "\n",
    "        # Sélection du prochain caractère avec random.choices\n",
    "        next_char_idx = random.choices(range(vocab_size), weights=preds, k=1)[0]\n",
    "        next_char = index_to_char[next_char_idx]\n",
    "\n",
    "        # STOP si longueur minimale atteinte et EOS rencontré\n",
    "        if len(generated_name) >= min_length and next_char == EOS_TOKEN:\n",
    "            break\n",
    "\n",
    "        # Ajout du caractère si ce n'est ni PAD ni EOS\n",
    "        if next_char not in [PAD_TOKEN, EOS_TOKEN]:\n",
    "            generated_name += next_char\n",
    "\n",
    "        # Mise à jour de la séquence courante\n",
    "        current_sequence = current_sequence[1:] + [next_char_idx]\n",
    "\n",
    "    return generated_name.capitalize() if len(generated_name) >= min_length else None\n",
    "\n",
    "# Génération de plusieurs noms\n",
    "generated_names = []\n",
    "number_of_names = 5\n",
    "min_length = 5\n",
    "\n",
    "while len(generated_names) < number_of_names:\n",
    "    name = generate_name(model, min_length)\n",
    "    if name is not None and name not in generated_names:\n",
    "        generated_names.append(name)\n",
    "\n",
    "# Affichage des résultats\n",
    "print(\"\\nNoms générés:\")\n",
    "for name in generated_names:\n",
    "    print(f\"{name} ({len(name)} caractères)\")\n",
    "\n",
    "# Vérification de l'originalité\n",
    "print(\"\\nTous les noms sont-ils originaux ?\", all(name.lower() not in [n.lower() for n in names] for name in generated_names))\n",
    "\n",
    "# Statistiques sur les longueurs\n",
    "lengths = [len(name) for name in generated_names]\n",
    "print(f\"\\nLongueur moyenne: {sum(lengths)/len(lengths):.1f} caractères\")\n",
    "print(f\"Longueur minimale: {min(lengths)} caractères\")\n",
    "print(f\"Longueur maximale: {max(lengths)} caractères\")"
   ],
   "metadata": {
    "collapsed": false,
    "ExecuteTime": {
     "end_time": "2024-11-07T00:02:29.823857Z",
     "start_time": "2024-11-07T00:02:29.567804300Z"
    }
   },
   "id": "68ec75af38129a34"
  }
 ],
 "metadata": {
  "kernelspec": {
   "display_name": "Python 3",
   "language": "python",
   "name": "python3"
  },
  "language_info": {
   "codemirror_mode": {
    "name": "ipython",
    "version": 2
   },
   "file_extension": ".py",
   "mimetype": "text/x-python",
   "name": "python",
   "nbconvert_exporter": "python",
   "pygments_lexer": "ipython2",
   "version": "2.7.6"
  }
 },
 "nbformat": 4,
 "nbformat_minor": 5
}
