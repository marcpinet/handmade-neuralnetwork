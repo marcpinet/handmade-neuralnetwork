{
 "cells": [
  {
   "cell_type": "code",
   "execution_count": 1,
   "outputs": [],
   "source": [
    "import numpy as np\n",
    "import random\n",
    "from neuralnetlib.layers import Input, Embedding, LSTM, Dense\n",
    "from neuralnetlib.model import Model\n",
    "from neuralnetlib.preprocessing import one_hot_encode\n",
    "from neuralnetlib.callbacks import EarlyStopping"
   ],
   "metadata": {
    "collapsed": false,
    "ExecuteTime": {
     "end_time": "2024-11-09T16:07:36.027474200Z",
     "start_time": "2024-11-09T16:07:35.753456900Z"
    }
   },
   "id": "a036f9b8eee0491"
  },
  {
   "cell_type": "code",
   "execution_count": 2,
   "outputs": [
    {
     "name": "stdout",
     "output_type": "stream",
     "text": [
      "['Aachenosaurus', 'Aardonyx', 'Abdallahsaurus', 'Abelisaurus', 'Abrictosaurus']\n"
     ]
    }
   ],
   "source": [
    "with open('dinos.txt', 'r', encoding='utf-8') as f:\n",
    "    names = [line.strip() for line in f]\n",
    "\n",
    "print(names[:5])  # we display the first 5 names of the list to see if they were correctly loaded"
   ],
   "metadata": {
    "collapsed": false,
    "ExecuteTime": {
     "end_time": "2024-11-09T16:07:36.042497600Z",
     "start_time": "2024-11-09T16:07:36.027982400Z"
    }
   },
   "id": "be237a3421e586a2"
  },
  {
   "cell_type": "code",
   "execution_count": 3,
   "outputs": [
    {
     "name": "stdout",
     "output_type": "stream",
     "text": [
      "Maximum length: 26\n"
     ]
    }
   ],
   "source": [
    "lengths = [len(name) for name in names]\n",
    "max_length = max(lengths)\n",
    "print(f\"Maximum length: {max_length}\")"
   ],
   "metadata": {
    "collapsed": false,
    "ExecuteTime": {
     "end_time": "2024-11-09T16:07:36.087495200Z",
     "start_time": "2024-11-09T16:07:36.044498800Z"
    }
   },
   "id": "f4c0d8598f0ba7a"
  },
  {
   "cell_type": "code",
   "execution_count": 4,
   "outputs": [
    {
     "name": "stdout",
     "output_type": "stream",
     "text": [
      "Vocab size: 54\n"
     ]
    }
   ],
   "source": [
    "# Constants\n",
    "PAD_TOKEN = ''  # Padding token (index 0)\n",
    "EOS_TOKEN = '$'  # End of sequence token (index 1)\n",
    "max_length = 15  # Maximum sequence length\n",
    "\n",
    "# Mapping dictionaries\n",
    "char_to_index = {PAD_TOKEN: 0, EOS_TOKEN: 1}\n",
    "index_to_char = {0: PAD_TOKEN, 1: EOS_TOKEN}\n",
    "\n",
    "# Extract unique characters and sort them\n",
    "unique_chars = sorted(set(''.join(names)))\n",
    "\n",
    "# Build character <-> index mappings starting at 2\n",
    "for idx, char in enumerate(unique_chars, start=2):\n",
    "    char_to_index[char] = idx\n",
    "    index_to_char[idx] = char\n",
    "\n",
    "vocab_size = len(char_to_index)\n",
    "print(f\"Vocab size: {vocab_size}\")"
   ],
   "metadata": {
    "collapsed": false,
    "ExecuteTime": {
     "end_time": "2024-11-09T16:07:36.091495600Z",
     "start_time": "2024-11-09T16:07:36.060498400Z"
    }
   },
   "id": "c410380fa90e7694"
  },
  {
   "cell_type": "code",
   "execution_count": 5,
   "outputs": [
    {
     "name": "stdout",
     "output_type": "stream",
     "text": [
      "Taille du vocabulaire: 54\n",
      "Forme des données X: (18374, 10)\n",
      "Forme des labels y: (18374, 54)\n",
      "\n",
      "Exemple pour Aachenosaurus:\n",
      "Séquence d'entrée: [ 0  0  0  0 28 28 30 35 32 41]\n",
      "Sortie attendue: [0. 0. 0. 0. 0. 0. 0. 0. 0. 0. 0. 0. 0. 0. 0. 0. 0. 0. 0. 0. 0. 0. 0. 0.\n",
      " 0. 0. 0. 0. 0. 0. 0. 0. 0. 0. 0. 0. 0. 0. 0. 0. 0. 0. 1. 0. 0. 0. 0. 0.\n",
      " 0. 0. 0. 0. 0. 0.]\n",
      "\n",
      "Décodage de la séquence d'exemple:\n",
      "['', '', '', '', 'a', 'a', 'c', 'h', 'e', 'n']\n",
      "Prochain caractère: o\n"
     ]
    }
   ],
   "source": [
    "# Training sequences\n",
    "sequences = []\n",
    "next_chars = []\n",
    "\n",
    "# Create sequences and their next characters\n",
    "for name in names:\n",
    "    name = name.lower()\n",
    "    name_chars = list(name) + [EOS_TOKEN]\n",
    "\n",
    "    for i in range(len(name_chars) - 1):\n",
    "        # Extract sequence\n",
    "        seq = name_chars[max(0, i - max_length + 1):i + 1]\n",
    "\n",
    "        # Padding and conversion to indices\n",
    "        padded_seq = [0] * (max_length - len(seq)) + [char_to_index[char] for char in seq]\n",
    "\n",
    "        sequences.append(padded_seq)\n",
    "        next_chars.append(char_to_index[name_chars[i + 1]])\n",
    "\n",
    "# Convert to numpy arrays\n",
    "X = np.array(sequences)\n",
    "y = one_hot_encode(np.array(next_chars), vocab_size)\n",
    "\n",
    "print(f\"Vocabulary size: {vocab_size}\")\n",
    "print(f\"Shape of X data: {X.shape}\")\n",
    "print(f\"Shape of y labels: {y.shape}\")\n",
    "\n",
    "# Display an example for verification\n",
    "print(f\"\\nExample for {names[0]}:\")\n",
    "print(f\"Input sequence: {X[5]}\")\n",
    "print(f\"Expected output: {y[5]}\")\n",
    "\n",
    "# Visualize tokens for the first example\n",
    "print(\"\\nDecoding example sequence:\")\n",
    "print([index_to_char[idx] for idx in X[5]])\n",
    "print(f\"Next character: {index_to_char[next_chars[5]]}\")"
   ],
   "metadata": {
    "collapsed": false,
    "ExecuteTime": {
     "end_time": "2024-11-09T16:07:36.103496900Z",
     "start_time": "2024-11-09T16:07:36.076499600Z"
    }
   },
   "id": "1364a6786997a8f5"
  },
  {
   "cell_type": "code",
   "execution_count": 6,
   "outputs": [
    {
     "name": "stdout",
     "output_type": "stream",
     "text": [
      "Model\n",
      "-------------------------------------------------\n",
      "Layer 1: Input(input_shape=(10,))\n",
      "Layer 2: Embedding(input_dim=54, output_dim=32)\n",
      "Layer 3: LSTM(units=128, return_sequences=False, return_state=False)\n",
      "Layer 4: Dense(units=54)\n",
      "Layer 5: Activation(Softmax)\n",
      "-------------------------------------------------\n",
      "Loss function: CategoricalCrossentropy\n",
      "Optimizer: Adam(learning_rate=0.001, beta_1=0.9, beta_2=0.999, epsilon=1e-08)\n",
      "-------------------------------------------------\n"
     ]
    }
   ],
   "source": [
    "# Model creation\n",
    "embedding_dim = 32\n",
    "lstm_units = 128\n",
    "\n",
    "model = Model()\n",
    "model.add(Input(max_length))\n",
    "model.add(Embedding(input_dim=vocab_size, output_dim=embedding_dim))\n",
    "model.add(LSTM(units=lstm_units))\n",
    "model.add(Dense(units=vocab_size, activation='softmax'))\n",
    "\n",
    "model.compile(loss_function='categorical_crossentropy', optimizer='adam')\n",
    "model.summary()"
   ],
   "metadata": {
    "collapsed": false,
    "ExecuteTime": {
     "end_time": "2024-11-09T16:07:36.149391200Z",
     "start_time": "2024-11-09T16:07:36.103496900Z"
    }
   },
   "id": "317820e906d2065"
  },
  {
   "cell_type": "code",
   "execution_count": 7,
   "outputs": [
    {
     "name": "stdout",
     "output_type": "stream",
     "text": [
      "[==============================] 100% Epoch 1/100 - loss: 2.5789 -  - 10.51s\n",
      "[==============================] 100% Epoch 2/100 - loss: 1.9915 -  - 10.54s\n",
      "[==============================] 100% Epoch 3/100 - loss: 1.8341 -  - 10.58s\n",
      "[==============================] 100% Epoch 4/100 - loss: 1.7691 -  - 11.29s\n",
      "[==============================] 100% Epoch 5/100 - loss: 1.7194 -  - 10.36s\n",
      "[==============================] 100% Epoch 6/100 - loss: 1.6879 -  - 11.03s\n",
      "[==============================] 100% Epoch 7/100 - loss: 1.6593 -  - 10.83s\n",
      "[==============================] 100% Epoch 8/100 - loss: 1.6367 -  - 10.58s\n",
      "[==============================] 100% Epoch 9/100 - loss: 1.6121 -  - 11.59s\n",
      "[==============================] 100% Epoch 10/100 - loss: 1.5972 -  - 10.89s\n",
      "[==============================] 100% Epoch 11/100 - loss: 1.5794 -  - 10.70s\n",
      "[==============================] 100% Epoch 12/100 - loss: 1.5609 -  - 9.91s\n",
      "[==============================] 100% Epoch 13/100 - loss: 1.5522 -  - 9.92s\n",
      "[==============================] 100% Epoch 14/100 - loss: 1.5406 -  - 9.91s\n",
      "[==============================] 100% Epoch 15/100 - loss: 1.5285 -  - 9.94s\n",
      "[==============================] 100% Epoch 16/100 - loss: 1.5130 -  - 9.95s\n",
      "[==============================] 100% Epoch 17/100 - loss: 1.5036 -  - 10.71s\n",
      "[==============================] 100% Epoch 18/100 - loss: 1.5003 -  - 11.97s\n",
      "[==============================] 100% Epoch 19/100 - loss: 1.4826 -  - 12.16s\n",
      "[==============================] 100% Epoch 20/100 - loss: 1.4790 -  - 11.50s\n",
      "[==============================] 100% Epoch 21/100 - loss: 1.4663 -  - 11.50s\n",
      "[==============================] 100% Epoch 22/100 - loss: 1.4570 -  - 11.32s\n",
      "[==============================] 100% Epoch 23/100 - loss: 1.4538 -  - 11.56s\n",
      "[==============================] 100% Epoch 24/100 - loss: 1.4458 -  - 11.82s\n",
      "[==============================] 100% Epoch 25/100 - loss: 1.4384 -  - 12.26s\n",
      "[==============================] 100% Epoch 26/100 - loss: 1.4323 -  - 12.16s\n",
      "[==============================] 100% Epoch 27/100 - loss: 1.4251 -  - 11.93s\n",
      "[==============================] 100% Epoch 28/100 - loss: 1.4258 -  - 11.58s\n",
      "[==============================] 100% Epoch 29/100 - loss: 1.4182 -  - 12.05s\n",
      "[==============================] 100% Epoch 30/100 - loss: 1.4093 -  - 12.41s\n",
      "[==============================] 100% Epoch 31/100 - loss: 1.4089 -  - 12.06s\n",
      "[==============================] 100% Epoch 32/100 - loss: 1.4009 -  - 11.49s\n",
      "[==============================] 100% Epoch 33/100 - loss: 1.3957 -  - 12.22s\n",
      "[==============================] 100% Epoch 34/100 - loss: 1.3914 -  - 12.53s\n",
      "[==============================] 100% Epoch 35/100 - loss: 1.3875 -  - 11.74s\n",
      "[==============================] 100% Epoch 36/100 - loss: 1.3830 -  - 11.43s\n",
      "[==============================] 100% Epoch 37/100 - loss: 1.3844 -  - 11.75s\n",
      "[==============================] 100% Epoch 38/100 - loss: 1.3767 -  - 11.64s\n",
      "[==============================] 100% Epoch 39/100 - loss: 1.3744 -  - 10.51s\n",
      "[==============================] 100% Epoch 40/100 - loss: 1.3745 -  - 10.14s\n",
      "[==============================] 100% Epoch 41/100 - loss: 1.3714 -  - 11.83s\n",
      "[==============================] 100% Epoch 42/100 - loss: 1.3659 -  - 11.57s\n",
      "[==============================] 100% Epoch 43/100 - loss: 1.3610 -  - 11.58s\n",
      "[==============================] 100% Epoch 44/100 - loss: 1.3577 -  - 11.51s\n",
      "[==============================] 100% Epoch 45/100 - loss: 1.3613 -  - 11.41s\n",
      "[==============================] 100% Epoch 46/100 - loss: 1.3554 -  - 11.44s\n",
      "[==============================] 100% Epoch 47/100 - loss: 1.3492 -  - 11.49s\n",
      "[==============================] 100% Epoch 48/100 - loss: 1.3505 -  - 11.51s\n",
      "[==============================] 100% Epoch 49/100 - loss: 1.3475 -  - 11.81s\n",
      "[==============================] 100% Epoch 50/100 - loss: 1.3423 -  - 10.13s\n",
      "[==============================] 100% Epoch 51/100 - loss: 1.3404 -  - 10.32s\n",
      "[==============================] 100% Epoch 52/100 - loss: 1.3391 -  - 10.21s\n",
      "[==============================] 100% Epoch 53/100 - loss: 1.3381 -  - 10.40s\n",
      "[==============================] 100% Epoch 54/100 - loss: 1.3365 -  - 11.80s\n",
      "[==============================] 100% Epoch 55/100 - loss: 1.3329 -  - 11.45s\n",
      "[==============================] 100% Epoch 56/100 - loss: 1.3343 -  - 11.34s\n",
      "[==============================] 100% Epoch 57/100 - loss: 1.3355 -  - 11.11s\n",
      "[==============================] 100% Epoch 58/100 - loss: 1.3308 -  - 11.28s\n",
      "[==============================] 100% Epoch 59/100 - loss: 1.3248 -  - 11.37s\n",
      "[==============================] 100% Epoch 60/100 - loss: 1.3269 -  - 11.03s\n",
      "[==============================] 100% Epoch 61/100 - loss: 1.3245 -  - 11.23s\n",
      "[==============================] 100% Epoch 62/100 - loss: 1.3204 -  - 11.34s\n",
      "[==============================] 100% Epoch 63/100 - loss: 1.3215 -  - 11.61s\n",
      "[==============================] 100% Epoch 64/100 - loss: 1.3194 -  - 11.40s\n",
      "[==============================] 100% Epoch 65/100 - loss: 1.3192 -  - 11.73s\n",
      "[==============================] 100% Epoch 66/100 - loss: 1.3162 -  - 11.31s\n",
      "[==============================] 100% Epoch 67/100 - loss: 1.3150 -  - 11.14s\n",
      "[==============================] 100% Epoch 68/100 - loss: 1.3188 -  - 11.38s\n",
      "[==============================] 100% Epoch 69/100 - loss: 1.3123 -  - 11.82s\n",
      "[==============================] 100% Epoch 70/100 - loss: 1.3115 -  - 11.77s\n",
      "[==============================] 100% Epoch 71/100 - loss: 1.3078 -  - 11.14s\n",
      "[==============================] 100% Epoch 72/100 - loss: 1.3102 -  - 11.04s\n",
      "[==============================] 100% Epoch 73/100 - loss: 1.3054 -  - 11.33s\n",
      "[==============================] 100% Epoch 74/100 - loss: 1.3047 -  - 11.49s\n",
      "[==============================] 100% Epoch 75/100 - loss: 1.3038 -  - 11.58s\n",
      "[==============================] 100% Epoch 76/100 - loss: 1.3047 -  - 11.13s\n",
      "[==============================] 100% Epoch 77/100 - loss: 1.3036 -  - 11.08s\n",
      "[==============================] 100% Epoch 78/100 - loss: 1.3029 -  - 11.07s\n",
      "[==============================] 100% Epoch 79/100 - loss: 1.3036 -  - 11.54s\n",
      "[==============================] 100% Epoch 80/100 - loss: 1.3005 -  - 11.13s\n",
      "[==============================] 100% Epoch 81/100 - loss: 1.2953 -  - 11.46s\n",
      "[==============================] 100% Epoch 82/100 - loss: 1.2969 -  - 11.28s\n",
      "[==============================] 100% Epoch 83/100 - loss: 1.2936 -  - 11.22s\n",
      "[==============================] 100% Epoch 84/100 - loss: 1.2941 -  - 11.51s\n",
      "[==============================] 100% Epoch 85/100 - loss: 1.2936 -  - 11.34s\n",
      "[==============================] 100% Epoch 86/100 - loss: 1.2947 -  - 11.35s\n",
      "[==============================] 100% Epoch 87/100 - loss: 1.2916 -  - 11.46s\n",
      "[==============================] 100% Epoch 88/100 - loss: 1.2945 -  - 11.56s\n",
      "[==============================] 100% Epoch 89/100 - loss: 1.2927 -  - 11.40s\n",
      "[==============================] 100% Epoch 90/100 - loss: 1.2907 -  - 11.06s\n",
      "[==============================] 100% Epoch 91/100 - loss: 1.2853 -  - 11.27s\n",
      "[==============================] 100% Epoch 92/100 - loss: 1.2909 -  - 11.32s\n",
      "[==============================] 100% Epoch 93/100 - loss: 1.2891 -  - 11.10s\n",
      "[==============================] 100% Epoch 94/100 - loss: 1.2907 -  - 11.35s\n",
      "[==============================] 100% Epoch 95/100 - loss: 1.2863 -  - 11.73s\n",
      "[==============================] 100% Epoch 96/100 - loss: 1.2871 -  - 9.95s\n",
      "Early stopping triggered after epoch 96\n"
     ]
    }
   ],
   "source": [
    "# Create EarlyStopping callback\n",
    "early_stopping = EarlyStopping(\n",
    "    monitor='loss',\n",
    "    patience=5,\n",
    "    restore_best_weights=True\n",
    ")\n",
    "\n",
    "# Train the model\n",
    "history = model.fit(\n",
    "    X, y,\n",
    "    epochs=100,\n",
    "    batch_size=64,\n",
    "    callbacks=[early_stopping],\n",
    "    validation_data=(X, y),\n",
    ")"
   ],
   "metadata": {
    "collapsed": false,
    "ExecuteTime": {
     "end_time": "2024-11-09T16:32:15.913047900Z",
     "start_time": "2024-11-09T16:07:36.120031500Z"
    }
   },
   "id": "ccca9fb1b43dd948"
  },
  {
   "cell_type": "code",
   "execution_count": 21,
   "outputs": [
    {
     "name": "stdout",
     "output_type": "stream",
     "text": [
      "\n",
      "Generated names:\n",
      "Urunithosa (10 characters)\n",
      "Elmertrosa (10 characters)\n",
      "Eutecephal (10 characters)\n",
      "Ormarikosa (10 characters)\n",
      "Sellhacera (10 characters)\n",
      "\n",
      "Are all names original? True\n",
      "\n",
      "Average length: 10.0 characters\n",
      "Minimum length: 10 characters\n",
      "Maximum length: 10 characters\n"
     ]
    }
   ],
   "source": [
    "# Generate new names\n",
    "def generate_name(model, min_length=5):\n",
    "    current_sequence = [0] * max_length\n",
    "    generated_name = \"\"\n",
    "\n",
    "    while len(generated_name) < max_length:\n",
    "        x = np.array([current_sequence])\n",
    "        preds = model.predict(x)[0]\n",
    "\n",
    "        # Select next character using random.choices\n",
    "        next_char_idx = random.choices(range(vocab_size), weights=preds, k=1)[0]\n",
    "        next_char = index_to_char[next_char_idx]\n",
    "\n",
    "        # STOP if minimum length reached and EOS encountered\n",
    "        if len(generated_name) >= min_length and next_char == EOS_TOKEN:\n",
    "            break\n",
    "\n",
    "        # Add character if it's neither PAD nor EOS\n",
    "        if next_char not in [PAD_TOKEN, EOS_TOKEN]:\n",
    "            generated_name += next_char\n",
    "\n",
    "        # Update current sequence\n",
    "        current_sequence = current_sequence[1:] + [next_char_idx]\n",
    "\n",
    "    return generated_name.capitalize() if len(generated_name) >= min_length else None\n",
    "\n",
    "# Generate multiple names\n",
    "generated_names = []\n",
    "number_of_names = 5\n",
    "min_length = 5\n",
    "\n",
    "while len(generated_names) < number_of_names:\n",
    "    name = generate_name(model, min_length)\n",
    "    if name is not None and name not in generated_names:\n",
    "        generated_names.append(name)\n",
    "\n",
    "# Display results\n",
    "print(\"\\nGenerated names:\")\n",
    "for name in generated_names:\n",
    "    print(f\"{name} ({len(name)} characters)\")\n",
    "\n",
    "# Check originality\n",
    "print(\"\\nAre all names original?\", all(name.lower() not in [n.lower() for n in names] for name in generated_names))\n",
    "\n",
    "# Length statistics\n",
    "lengths = [len(name) for name in generated_names]\n",
    "print(f\"\\nAverage length: {sum(lengths)/len(lengths):.1f} characters\")\n",
    "print(f\"Minimum length: {min(lengths)} characters\")\n",
    "print(f\"Maximum length: {max(lengths)} characters\")"
   ],
   "metadata": {
    "collapsed": false,
    "ExecuteTime": {
     "end_time": "2024-11-09T16:34:23.787764300Z",
     "start_time": "2024-11-09T16:34:23.542226200Z"
    }
   },
   "id": "68ec75af38129a34"
  }
 ],
 "metadata": {
  "kernelspec": {
   "display_name": "Python 3",
   "language": "python",
   "name": "python3"
  },
  "language_info": {
   "codemirror_mode": {
    "name": "ipython",
    "version": 2
   },
   "file_extension": ".py",
   "mimetype": "text/x-python",
   "name": "python",
   "nbconvert_exporter": "python",
   "pygments_lexer": "ipython2",
   "version": "2.7.6"
  }
 },
 "nbformat": 4,
 "nbformat_minor": 5
}
