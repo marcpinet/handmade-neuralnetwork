{
 "cells": [
  {
   "cell_type": "code",
   "execution_count": 1,
   "metadata": {},
   "outputs": [],
   "source": [
    "import random\n",
    "import numpy as np\n",
    "import matplotlib.pyplot as plt\n",
    "import os\n",
    "\n",
    "from PIL import Image\n",
    "from keras.datasets import mnist\n",
    "\n",
    "from neuralnetlib.preprocessing import one_hot_encode\n",
    "from neuralnetlib.models import Sequential, GAN\n",
    "from neuralnetlib.layers import Input, Dense, BatchNormalization, Dropout, Activation\n",
    "from neuralnetlib.activations import LeakyReLU\n",
    "from neuralnetlib.optimizers import Adam\n",
    "from neuralnetlib.losses import Wasserstein"
   ]
  },
  {
   "cell_type": "code",
   "execution_count": 2,
   "metadata": {},
   "outputs": [],
   "source": [
    "# Load the MNIST dataset\n",
    "(x_train, y_train), (x_test, y_test) = mnist.load_data()\n",
    "n_classes = np.unique(y_train).shape[0]\n",
    "\n",
    "# Flatten images\n",
    "x_train = x_train.reshape(x_train.shape[0], -1)\n",
    "x_test = x_test.reshape(x_test.shape[0], -1)\n",
    "\n",
    "# Normalize pixel values\n",
    "x_train = x_train.astype('float32') / 255\n",
    "x_test = x_test.astype('float32') / 255\n",
    "\n",
    "# Labels to categorical\n",
    "y_train = one_hot_encode(y_train, n_classes)\n",
    "y_test = one_hot_encode(y_test, n_classes)"
   ]
  },
  {
   "cell_type": "code",
   "execution_count": 3,
   "metadata": {},
   "outputs": [
    {
     "data": {
      "image/png": "[encoded data removed]",
      "text/plain": [
       "<Figure size 640x480 with 1 Axes>"
      ]
     },
     "metadata": {},
     "output_type": "display_data"
    }
   ],
   "source": [
    "i = random.randint(0,len(x_train) - 1)\n",
    "plt.imshow(x_train[i].reshape(28,28), cmap='gray')\n",
    "plt.title('Class: ' + str(np.argmax(y_train[i])))\n",
    "plt.show()"
   ]
  },
  {
   "cell_type": "code",
   "execution_count": 4,
   "metadata": {},
   "outputs": [],
   "source": [
    "noise_dim = 32\n",
    "\n",
    "generator = Sequential()\n",
    "generator.add(Input(noise_dim))\n",
    "generator.add(Dense(128, input_dim = noise_dim, activation='relu'))\n",
    "generator.add(Dense(784, activation = 'sigmoid'))"
   ]
  },
  {
   "cell_type": "code",
   "execution_count": 5,
   "metadata": {},
   "outputs": [],
   "source": [
    "discriminator = Sequential()\n",
    "discriminator.add(Input(784))\n",
    "discriminator.add(Dense(128, input_dim=784, activation='relu'))\n",
    "discriminator.add(Dense(1, activation='sigmoid'))"
   ]
  },
  {
   "cell_type": "code",
   "execution_count": 6,
   "metadata": {},
   "outputs": [
    {
     "name": "stdout",
     "output_type": "stream",
     "text": [
      "GAN(latent_dim=32, gradient_clip_threshold=0.1, enable_padding=False, padding_size=32, random_state=1732975000247274900)\n",
      "-------------------------------------------------\n",
      "Generator:\n",
      "Sequential(gradient_clip_threshold=5.0, enable_padding=False, padding_size=32, random_state=1732975000215402000)\n",
      "-------------------------------------------------\n",
      "Layer 1: Input(input_shape=(32,))\n",
      "Layer 2: Dense(units=128)\n",
      "Layer 3: Activation(ReLU)\n",
      "Layer 4: Dense(units=784)\n",
      "Layer 5: Activation(Sigmoid)\n",
      "-------------------------------------------------\n",
      "Loss function: BinaryCrossentropy\n",
      "Optimizer: Adam(learning_rate=0.001, beta_1=0.9, beta_2=0.999, epsilon=1e-08, clip_norm=None, clip_value=None)\n",
      "-------------------------------------------------\n",
      "-------------------------------------------------\n",
      "Discriminator:\n",
      "Sequential(gradient_clip_threshold=5.0, enable_padding=False, padding_size=32, random_state=1732975000231080500)\n",
      "-------------------------------------------------\n",
      "Layer 1: Input(input_shape=(784,))\n",
      "Layer 2: Dense(units=128)\n",
      "Layer 3: Activation(ReLU)\n",
      "Layer 4: Dense(units=1)\n",
      "Layer 5: Activation(Sigmoid)\n",
      "-------------------------------------------------\n",
      "Loss function: BinaryCrossentropy\n",
      "Optimizer: Adam(learning_rate=0.001, beta_1=0.9, beta_2=0.999, epsilon=1e-08, clip_norm=None, clip_value=None)\n",
      "-------------------------------------------------\n",
      "\n"
     ]
    }
   ],
   "source": [
    "gan = GAN(latent_dim=noise_dim)\n",
    "\n",
    "gan.compile(\n",
    "    generator,\n",
    "    discriminator,\n",
    "    generator_optimizer='adam',\n",
    "    discriminator_optimizer='adam',\n",
    "    loss_function='bce',\n",
    "    verbose=True\n",
    ")"
   ]
  },
  {
   "cell_type": "code",
   "execution_count": 7,
   "metadata": {},
   "outputs": [
    {
     "name": "stdout",
     "output_type": "stream",
     "text": [
      "[==============================] 100% Epoch 1/40 - d_loss: 1.2015 - g_loss: 24.4730 -  - 17.87s\n",
      "[==============================] 100% Epoch 2/40 - d_loss: 0.2194 - g_loss: 33.5534 -  - 16.91s0s97ss0.33s\n",
      "[==============================] 100% Epoch 3/40 - d_loss: 0.0132 - g_loss: 32.5305 -  - 17.29s-  - 0.19sss\n",
      "[==============================] 100% Epoch 4/40 - d_loss: 0.0038 - g_loss: 34.2976 -  - 19.15s48s07ss\n",
      "[==============================] 100% Epoch 5/40 - d_loss: 0.0072 - g_loss: 34.1430 -  - 20.88s30ss40ss0.13s\n",
      "[==============================] 100% Epoch 6/40 - d_loss: 0.0078 - g_loss: 33.2763 -  - 18.68s\n",
      "[==============================] 100% Epoch 7/40 - d_loss: 0.0106 - g_loss: 32.5376 -  - 17.36s- 0.19s\n",
      "[==============================] 100% Epoch 8/40 - d_loss: 0.0093 - g_loss: 31.9930 -  - 17.13s0.27ss0s6s\n",
      "[==============================] 100% Epoch 9/40 - d_loss: 0.0121 - g_loss: 31.8290 -  - 17.68s07 -  - 0.16s\n",
      "[==============================] 100% Epoch 10/40 - d_loss: 0.0333 - g_loss: 30.4098 -  - 17.23s 0.42s3s\n",
      "[==============================] 100% Epoch 11/40 - d_loss: 0.0285 - g_loss: 30.7817 -  - 18.83s6s\n",
      "[==============================] 100% Epoch 12/40 - d_loss: 0.0861 - g_loss: 26.3547 -  - 20.70s.16s12s\n",
      "[==============================] 100% Epoch 13/40 - d_loss: 0.0871 - g_loss: 23.1192 -  - 20.67s\n",
      "[==============================] 100% Epoch 14/40 - d_loss: 0.1105 - g_loss: 17.4322 -  - 21.62s\n",
      "[==============================] 100% Epoch 15/40 - d_loss: 0.0216 - g_loss: 14.2901 -  - 24.91s\n",
      "[==============================] 100% Epoch 16/40 - d_loss: 0.0067 - g_loss: 9.3016 -  - 24.92s.27ss\n",
      "[==============================] 100% Epoch 17/40 - d_loss: 0.0034 - g_loss: 6.3991 -  - 21.89s367 -  - 0.15s\n",
      "[==============================] 100% Epoch 18/40 - d_loss: 0.0061 - g_loss: 3.9646 -  - 21.45s9s 0.36s 0.17s\n",
      "[==============================] 100% Epoch 19/40 - d_loss: 0.0058 - g_loss: 1.1275 -  - 22.37s0.49ss35s\n",
      "[==============================] 100% Epoch 20/40 - d_loss: 0.0152 - g_loss: 0.0827 -  - 22.46s5 -  - 0.12s\n",
      "[==============================] 100% Epoch 21/40 - d_loss: 0.0074 - g_loss: 0.0682 -  - 21.38s7s3s\n",
      "[==============================] 100% Epoch 22/40 - d_loss: 0.0049 - g_loss: 0.0759 -  - 30.52s8ss6s1.95ss- 0.62s- 0.35ss\n",
      "[==============================] 100% Epoch 23/40 - d_loss: 0.0113 - g_loss: 0.1119 -  - 24.61s5s.55s- 0.18s\n",
      "[======================--------] 73% Epoch 24/40 - d_loss: 0.0041 - g_loss: 0.0373 -  - 19.08s40ss"
     ]
    },
    {
     "ename": "KeyboardInterrupt",
     "evalue": "",
     "output_type": "error",
     "traceback": [
      "\u001b[1;31m---------------------------------------------------------------------------\u001b[0m",
      "\u001b[1;31mKeyboardInterrupt\u001b[0m                         Traceback (most recent call last)",
      "Cell \u001b[1;32mIn[7], line 4\u001b[0m\n\u001b[0;32m      1\u001b[0m epochs \u001b[38;5;241m=\u001b[39m \u001b[38;5;241m100\u001b[39m\n\u001b[0;32m      2\u001b[0m batch_size \u001b[38;5;241m=\u001b[39m \u001b[38;5;241m128\u001b[39m\n\u001b[1;32m----> 4\u001b[0m history \u001b[38;5;241m=\u001b[39m \u001b[43mgan\u001b[49m\u001b[38;5;241;43m.\u001b[39;49m\u001b[43mfit\u001b[49m\u001b[43m(\u001b[49m\u001b[43mx_train\u001b[49m\u001b[43m,\u001b[49m\n\u001b[0;32m      5\u001b[0m \u001b[43m                 \u001b[49m\u001b[43mepochs\u001b[49m\u001b[38;5;241;43m=\u001b[39;49m\u001b[38;5;241;43m40\u001b[39;49m\u001b[43m,\u001b[49m\n\u001b[0;32m      6\u001b[0m \u001b[43m                 \u001b[49m\u001b[43mbatch_size\u001b[49m\u001b[38;5;241;43m=\u001b[39;49m\u001b[38;5;241;43m128\u001b[39;49m\u001b[43m,\u001b[49m\n\u001b[0;32m      7\u001b[0m \u001b[43m                 \u001b[49m\u001b[43mplot_generated\u001b[49m\u001b[38;5;241;43m=\u001b[39;49m\u001b[38;5;28;43;01mTrue\u001b[39;49;00m\u001b[43m)\u001b[49m   \n",
      "File \u001b[1;32mc:\\users\\marcp\\documents\\programming\\python\\neuralnetlib\\neuralnetlib\\models.py:2245\u001b[0m, in \u001b[0;36mfit\u001b[1;34m(self, x_train, epochs, batch_size, n_critic, verbose, metrics, random_state, validation_data, callbacks, plot_generated, plot_interval, fixed_noise, n_gen_samples)\u001b[0m\n\u001b[0;32m   2242\u001b[0m noise \u001b[38;5;241m=\u001b[39m \u001b[38;5;28mself\u001b[39m\u001b[38;5;241m.\u001b[39m_generate_latent_points(\u001b[38;5;28mlen\u001b[39m(x_batch))\n\u001b[0;32m   2243\u001b[0m generated_samples \u001b[38;5;241m=\u001b[39m \u001b[38;5;28mself\u001b[39m\u001b[38;5;241m.\u001b[39mforward_pass(noise, training\u001b[38;5;241m=\u001b[39m\u001b[38;5;28;01mFalse\u001b[39;00m)\n\u001b[1;32m-> 2245\u001b[0m \u001b[38;5;28;01mfor\u001b[39;00m metric \u001b[38;5;129;01min\u001b[39;00m metrics:\n\u001b[0;32m   2246\u001b[0m     metric_value \u001b[38;5;241m=\u001b[39m metric(generated_samples, x_batch)\n\u001b[0;32m   2247\u001b[0m     metric_values[\u001b[38;5;124mf\u001b[39m\u001b[38;5;124m'\u001b[39m\u001b[38;5;124mgenerator_\u001b[39m\u001b[38;5;132;01m{\u001b[39;00mmetric\u001b[38;5;241m.\u001b[39mname\u001b[38;5;132;01m}\u001b[39;00m\u001b[38;5;124m'\u001b[39m] \u001b[38;5;241m+\u001b[39m\u001b[38;5;241m=\u001b[39m metric_value\n",
      "File \u001b[1;32mc:\\users\\marcp\\documents\\programming\\python\\neuralnetlib\\neuralnetlib\\models.py:2127\u001b[0m, in \u001b[0;36mGAN.train_on_batch\u001b[1;34m(self, real_samples, batch_size, n_critic)\u001b[0m\n\u001b[0;32m   2124\u001b[0m fake_batch \u001b[38;5;241m=\u001b[39m \u001b[38;5;28mself\u001b[39m\u001b[38;5;241m.\u001b[39mgenerator\u001b[38;5;241m.\u001b[39mforward_pass(noise, training\u001b[38;5;241m=\u001b[39m\u001b[38;5;28;01mFalse\u001b[39;00m)\n\u001b[0;32m   2126\u001b[0m combined_batch \u001b[38;5;241m=\u001b[39m np\u001b[38;5;241m.\u001b[39mconcatenate([real_batch, fake_batch])\n\u001b[1;32m-> 2127\u001b[0m combined_labels \u001b[38;5;241m=\u001b[39m np\u001b[38;5;241m.\u001b[39mzeros((\u001b[38;5;241m2\u001b[39m \u001b[38;5;241m*\u001b[39m batch_size, \u001b[38;5;241m1\u001b[39m))\n\u001b[0;32m   2128\u001b[0m combined_labels[:batch_size] \u001b[38;5;241m=\u001b[39m \u001b[38;5;241m1.0\u001b[39m\n\u001b[0;32m   2130\u001b[0m \u001b[38;5;28mself\u001b[39m\u001b[38;5;241m.\u001b[39mdiscriminator\u001b[38;5;241m.\u001b[39my_true \u001b[38;5;241m=\u001b[39m combined_labels\n",
      "File \u001b[1;32mc:\\users\\marcp\\documents\\programming\\python\\neuralnetlib\\neuralnetlib\\models.py:148\u001b[0m, in \u001b[0;36mSequential.forward_pass\u001b[1;34m(self, X, training)\u001b[0m\n\u001b[0;32m    146\u001b[0m         X \u001b[38;5;241m=\u001b[39m layer\u001b[38;5;241m.\u001b[39mforward_pass(X, training)\n\u001b[0;32m    147\u001b[0m     \u001b[38;5;28;01melse\u001b[39;00m:\n\u001b[1;32m--> 148\u001b[0m         X \u001b[38;5;241m=\u001b[39m \u001b[43mlayer\u001b[49m\u001b[38;5;241;43m.\u001b[39;49m\u001b[43mforward_pass\u001b[49m\u001b[43m(\u001b[49m\u001b[43mX\u001b[49m\u001b[43m)\u001b[49m\n\u001b[0;32m    150\u001b[0m \u001b[38;5;28;01mif\u001b[39;00m \u001b[38;5;28mself\u001b[39m\u001b[38;5;241m.\u001b[39menable_padding \u001b[38;5;129;01mand\u001b[39;00m padded_shape \u001b[38;5;241m!=\u001b[39m original_shape:\n\u001b[0;32m    151\u001b[0m     X \u001b[38;5;241m=\u001b[39m X[:original_shape[\u001b[38;5;241m0\u001b[39m]]\n",
      "File \u001b[1;32mc:\\users\\marcp\\documents\\programming\\python\\neuralnetlib\\neuralnetlib\\layers.py:226\u001b[0m, in \u001b[0;36mActivation.forward_pass\u001b[1;34m(self, input_data)\u001b[0m\n\u001b[0;32m    224\u001b[0m \u001b[38;5;28;01mdef\u001b[39;00m \u001b[38;5;21mforward_pass\u001b[39m(\u001b[38;5;28mself\u001b[39m, input_data: np\u001b[38;5;241m.\u001b[39mndarray) \u001b[38;5;241m-\u001b[39m\u001b[38;5;241m>\u001b[39m np\u001b[38;5;241m.\u001b[39mndarray:\n\u001b[0;32m    225\u001b[0m     \u001b[38;5;28mself\u001b[39m\u001b[38;5;241m.\u001b[39minput \u001b[38;5;241m=\u001b[39m input_data\n\u001b[1;32m--> 226\u001b[0m     \u001b[38;5;28mself\u001b[39m\u001b[38;5;241m.\u001b[39moutput \u001b[38;5;241m=\u001b[39m \u001b[38;5;28;43mself\u001b[39;49m\u001b[38;5;241;43m.\u001b[39;49m\u001b[43mactivation_function\u001b[49m\u001b[43m(\u001b[49m\u001b[38;5;28;43mself\u001b[39;49m\u001b[38;5;241;43m.\u001b[39;49m\u001b[43minput\u001b[49m\u001b[43m)\u001b[49m\n\u001b[0;32m    227\u001b[0m     \u001b[38;5;28;01mreturn\u001b[39;00m \u001b[38;5;28mself\u001b[39m\u001b[38;5;241m.\u001b[39moutput\n",
      "File \u001b[1;32mc:\\users\\marcp\\documents\\programming\\python\\neuralnetlib\\neuralnetlib\\activations.py:45\u001b[0m, in \u001b[0;36mSigmoid.__call__\u001b[1;34m(self, x)\u001b[0m\n\u001b[0;32m     43\u001b[0m \u001b[38;5;28;01mdef\u001b[39;00m \u001b[38;5;21m__call__\u001b[39m(\u001b[38;5;28mself\u001b[39m, x: np\u001b[38;5;241m.\u001b[39mndarray) \u001b[38;5;241m-\u001b[39m\u001b[38;5;241m>\u001b[39m np\u001b[38;5;241m.\u001b[39mndarray:\n\u001b[0;32m     44\u001b[0m     clipped_x \u001b[38;5;241m=\u001b[39m np\u001b[38;5;241m.\u001b[39mclip(x, \u001b[38;5;241m-\u001b[39m\u001b[38;5;241m50\u001b[39m, \u001b[38;5;241m50\u001b[39m)\n\u001b[1;32m---> 45\u001b[0m     \u001b[38;5;28;01mreturn\u001b[39;00m \u001b[38;5;241m1\u001b[39m \u001b[38;5;241m/\u001b[39m (\u001b[38;5;241m1\u001b[39m \u001b[38;5;241m+\u001b[39m \u001b[43mnp\u001b[49m\u001b[38;5;241;43m.\u001b[39;49m\u001b[43mexp\u001b[49m\u001b[43m(\u001b[49m\u001b[38;5;241;43m-\u001b[39;49m\u001b[43mclipped_x\u001b[49m\u001b[43m)\u001b[49m)\n",
      "\u001b[1;31mKeyboardInterrupt\u001b[0m: "
     ]
    }
   ],
   "source": [
    "epochs = 100\n",
    "batch_size = 128\n",
    "\n",
    "history = gan.fit(x_train,\n",
    "                 epochs=40,\n",
    "                 batch_size=128,\n",
    "                 plot_generated=True)   "
   ]
  },
  {
   "cell_type": "code",
   "execution_count": 8,
   "metadata": {},
   "outputs": [
    {
     "name": "stdout",
     "output_type": "stream",
     "text": [
      "GIF créé avec succès sous le nom 'output.gif'\n"
     ]
    }
   ],
   "source": [
    "image_files = [f for f in os.listdir() if f.endswith('.png') and f.startswith('video')]\n",
    "image_files.sort(key=lambda x: int(x.replace('video', '').replace('.png', '')))\n",
    "\n",
    "images = [Image.open(img) for img in image_files]\n",
    "\n",
    "if images:\n",
    "    images[0].save('output.gif', save_all=True, append_images=images[1:], duration=100, loop=0)\n",
    "\n",
    "print(\"GIF créé avec succès sous le nom 'output.gif'\")"
   ]
  }
 ],
 "metadata": {
  "kernelspec": {
   "display_name": "Python 3",
   "language": "python",
   "name": "python3"
  },
  "language_info": {
   "codemirror_mode": {
    "name": "ipython",
    "version": 3
   },
   "file_extension": ".py",
   "mimetype": "text/x-python",
   "name": "python",
   "nbconvert_exporter": "python",
   "pygments_lexer": "ipython3",
   "version": "3.10.8"
  }
 },
 "nbformat": 4,
 "nbformat_minor": 2
}
