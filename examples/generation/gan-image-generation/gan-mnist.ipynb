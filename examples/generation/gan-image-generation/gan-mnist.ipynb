{
 "cells": [
  {
   "cell_type": "code",
   "execution_count": 1,
   "metadata": {},
   "outputs": [],
   "source": [
    "import numpy as np\n",
    "import matplotlib.pyplot as plt\n",
    "from sklearn.datasets import fetch_openml\n",
    "\n",
    "from neuralnetlib.preprocessing import MinMaxScaler\n",
    "from neuralnetlib.models import Sequential, GAN\n",
    "from neuralnetlib.layers import Input, Dense, BatchNormalization, Dropout, Activation\n",
    "from neuralnetlib.activations import LeakyReLU\n",
    "from neuralnetlib.optimizers import Adam\n",
    "from neuralnetlib.losses import Wasserstein"
   ]
  },
  {
   "cell_type": "code",
   "execution_count": 2,
   "metadata": {},
   "outputs": [
    {
     "name": "stdout",
     "output_type": "stream",
     "text": [
      "Loading MNIST dataset...\n"
     ]
    }
   ],
   "source": [
    "print(\"Loading MNIST dataset...\")\n",
    "X, y = fetch_openml('mnist_784', version=1, return_X_y=True, as_frame=False)\n",
    "X = X.astype('float32')"
   ]
  },
  {
   "cell_type": "code",
   "execution_count": 3,
   "metadata": {},
   "outputs": [],
   "source": [
    "dim = X.shape[1]\n",
    "\n",
    "scaler = MinMaxScaler(feature_range=(-1, 1))\n",
    "X_scaled = scaler.fit_transform(X)\n",
    "X_reshaped = X_scaled.reshape(-1, dim)\n",
    "\n",
    "latent_dim = 100"
   ]
  },
  {
   "cell_type": "code",
   "execution_count": 4,
   "metadata": {},
   "outputs": [],
   "source": [
    "generator = Sequential(random_state=42)\n",
    "\n",
    "generator.add(Input(latent_dim))\n",
    "\n",
    "generator.add(Dense(256))\n",
    "generator.add(BatchNormalization())\n",
    "generator.add(Activation(LeakyReLU(alpha=0.2)))\n",
    "\n",
    "generator.add(Dense(512))\n",
    "generator.add(BatchNormalization())\n",
    "generator.add(Activation(LeakyReLU(alpha=0.2)))\n",
    "\n",
    "generator.add(Dense(1024))\n",
    "generator.add(BatchNormalization())\n",
    "generator.add(Activation(LeakyReLU(alpha=0.2)))\n",
    "\n",
    "generator.add(Dense(dim, activation='tanh'))"
   ]
  },
  {
   "cell_type": "code",
   "execution_count": 5,
   "metadata": {},
   "outputs": [],
   "source": [
    "discriminator = Sequential(random_state=42)\n",
    "\n",
    "discriminator.add(Input(dim))\n",
    "\n",
    "discriminator.add(Dense(128, input_dim=dim))\n",
    "discriminator.add(Activation(LeakyReLU(alpha=0.4)))\n",
    "discriminator.add(Dropout(0.6))\n",
    "\n",
    "discriminator.add(Dense(64))\n",
    "discriminator.add(Activation(LeakyReLU(alpha=0.4)))\n",
    "discriminator.add(Dropout(0.6))\n",
    "\n",
    "discriminator.add(Dense(1, activation='linear'))"
   ]
  },
  {
   "cell_type": "code",
   "execution_count": 6,
   "metadata": {},
   "outputs": [
    {
     "name": "stdout",
     "output_type": "stream",
     "text": [
      "GAN(latent_dim=100, gradient_clip_threshold=0.1, enable_padding=False, padding_size=32, random_state=1732538869498774500)\n",
      "-------------------------------------------------\n",
      "Generator:\n",
      "Sequential(gradient_clip_threshold=5.0, enable_padding=False, padding_size=32, random_state=42)\n",
      "-------------------------------------------------\n",
      "Layer 1: Input(input_shape=(100,))\n",
      "Layer 2: Dense(units=256)\n",
      "Layer 3: BatchNormalization(momentum=0.9, epsilon=1e-05)\n",
      "Layer 4: Activation(LeakyReLU)\n",
      "Layer 5: Dense(units=512)\n",
      "Layer 6: BatchNormalization(momentum=0.9, epsilon=1e-05)\n",
      "Layer 7: Activation(LeakyReLU)\n",
      "Layer 8: Dense(units=1024)\n",
      "Layer 9: BatchNormalization(momentum=0.9, epsilon=1e-05)\n",
      "Layer 10: Activation(LeakyReLU)\n",
      "Layer 11: Dense(units=784)\n",
      "Layer 12: Activation(Tanh)\n",
      "-------------------------------------------------\n",
      "Loss function: Wasserstein\n",
      "Optimizer: Adam(learning_rate=0.001, beta_1=0.9, beta_2=0.999, epsilon=1e-08, clip_norm=None, clip_value=None)\n",
      "-------------------------------------------------\n",
      "-------------------------------------------------\n",
      "Discriminator:\n",
      "Sequential(gradient_clip_threshold=5.0, enable_padding=False, padding_size=32, random_state=42)\n",
      "-------------------------------------------------\n",
      "Layer 1: Input(input_shape=(784,))\n",
      "Layer 2: Dense(units=128)\n",
      "Layer 3: Activation(LeakyReLU)\n",
      "Layer 4: Dropout(rate=0.6)\n",
      "Layer 5: Dense(units=64)\n",
      "Layer 6: Activation(LeakyReLU)\n",
      "Layer 7: Dropout(rate=0.6)\n",
      "Layer 8: Dense(units=1)\n",
      "Layer 9: Activation(Linear)\n",
      "-------------------------------------------------\n",
      "Loss function: Wasserstein\n",
      "Optimizer: Adam(learning_rate=0.0001, beta_1=0.9, beta_2=0.999, epsilon=1e-08, clip_norm=None, clip_value=None)\n",
      "-------------------------------------------------\n",
      "\n"
     ]
    }
   ],
   "source": [
    "gan = GAN(latent_dim=latent_dim)\n",
    "\n",
    "gan.compile(\n",
    "    generator,\n",
    "    discriminator,\n",
    "    generator_optimizer=Adam(learning_rate=0.001),\n",
    "    discriminator_optimizer=Adam(learning_rate=0.0001),\n",
    "    loss_function='wass',\n",
    "    verbose=True\n",
    ")"
   ]
  },
  {
   "cell_type": "code",
   "execution_count": 7,
   "metadata": {},
   "outputs": [
    {
     "name": "stdout",
     "output_type": "stream",
     "text": [
      "[==============================] 100% Epoch 1/100 - d_loss: 25.7920 - g_loss: -6.7792 - mmd: 0.3347 - 94.06s.80sssss11s3.66s\n",
      "[==============================] 100% Epoch 2/100 - d_loss: 27.3240 - g_loss: -8.0737 - mmd: 0.3565 - 85.86s\n",
      "[==============================] 100% Epoch 3/100 - d_loss: 26.4827 - g_loss: -8.7352 - mmd: 0.6290 - 86.68s\n",
      "[==============================] 100% Epoch 4/100 - d_loss: 25.6289 - g_loss: -9.1887 - mmd: 0.6307 - 82.56s\n",
      "[==============================] 100% Epoch 5/100 - d_loss: 24.4155 - g_loss: -9.1873 - mmd: 0.6314 - 90.40s\n",
      "[==============================] 100% Epoch 6/100 - d_loss: 23.1794 - g_loss: -8.5898 - mmd: 0.6319 - 86.55s\n",
      "[===---------------------------] 11% Epoch 7/100 - d_loss: 23.0789 - g_loss: -7.5182 - mmd: 0.6128 - 9.87s"
     ]
    },
    {
     "ename": "KeyboardInterrupt",
     "evalue": "",
     "output_type": "error",
     "traceback": [
      "\u001b[1;31m---------------------------------------------------------------------------\u001b[0m",
      "\u001b[1;31mKeyboardInterrupt\u001b[0m                         Traceback (most recent call last)",
      "Cell \u001b[1;32mIn[7], line 4\u001b[0m\n\u001b[0;32m      1\u001b[0m epochs \u001b[38;5;241m=\u001b[39m \u001b[38;5;241m100\u001b[39m\n\u001b[0;32m      2\u001b[0m batch_size \u001b[38;5;241m=\u001b[39m \u001b[38;5;241m128\u001b[39m\n\u001b[1;32m----> 4\u001b[0m history \u001b[38;5;241m=\u001b[39m \u001b[43mgan\u001b[49m\u001b[38;5;241;43m.\u001b[39;49m\u001b[43mfit\u001b[49m\u001b[43m(\u001b[49m\n\u001b[0;32m      5\u001b[0m \u001b[43m    \u001b[49m\u001b[43mX_reshaped\u001b[49m\u001b[43m,\u001b[49m\n\u001b[0;32m      6\u001b[0m \u001b[43m    \u001b[49m\u001b[43mepochs\u001b[49m\u001b[38;5;241;43m=\u001b[39;49m\u001b[43mepochs\u001b[49m\u001b[43m,\u001b[49m\n\u001b[0;32m      7\u001b[0m \u001b[43m    \u001b[49m\u001b[43mbatch_size\u001b[49m\u001b[38;5;241;43m=\u001b[39;49m\u001b[43mbatch_size\u001b[49m\u001b[43m,\u001b[49m\n\u001b[0;32m      8\u001b[0m \u001b[43m    \u001b[49m\u001b[43mverbose\u001b[49m\u001b[38;5;241;43m=\u001b[39;49m\u001b[38;5;28;43;01mTrue\u001b[39;49;00m\u001b[43m,\u001b[49m\n\u001b[0;32m      9\u001b[0m \u001b[43m    \u001b[49m\u001b[43mmetrics\u001b[49m\u001b[38;5;241;43m=\u001b[39;49m\u001b[43m[\u001b[49m\u001b[38;5;124;43m'\u001b[39;49m\u001b[38;5;124;43mmmd\u001b[39;49m\u001b[38;5;124;43m'\u001b[39;49m\u001b[43m]\u001b[49m\n\u001b[0;32m     10\u001b[0m \u001b[43m)\u001b[49m\n",
      "File \u001b[1;32mc:\\users\\marcp\\documents\\programming\\python\\neuralnetlib\\neuralnetlib\\models.py:2233\u001b[0m, in \u001b[0;36mGAN.fit\u001b[1;34m(self, x_train, epochs, batch_size, n_gen_samples, verbose, metrics, random_state, validation_data, callbacks, n_critics)\u001b[0m\n\u001b[0;32m   2231\u001b[0m \u001b[38;5;28;01mfor\u001b[39;00m j \u001b[38;5;129;01min\u001b[39;00m \u001b[38;5;28mrange\u001b[39m(\u001b[38;5;241m0\u001b[39m, x_train\u001b[38;5;241m.\u001b[39mshape[\u001b[38;5;241m0\u001b[39m], batch_size):\n\u001b[0;32m   2232\u001b[0m     x_batch \u001b[38;5;241m=\u001b[39m x_train_shuffled[j:j \u001b[38;5;241m+\u001b[39m batch_size]\n\u001b[1;32m-> 2233\u001b[0m     d_loss, g_loss \u001b[38;5;241m=\u001b[39m \u001b[38;5;28;43mself\u001b[39;49m\u001b[38;5;241;43m.\u001b[39;49m\u001b[43mtrain_on_batch\u001b[49m\u001b[43m(\u001b[49m\u001b[43mx_batch\u001b[49m\u001b[43m,\u001b[49m\u001b[43m \u001b[49m\u001b[43mn_gen_samples\u001b[49m\u001b[43m,\u001b[49m\u001b[43m \u001b[49m\u001b[43mn_critics\u001b[49m\u001b[43m)\u001b[49m\n\u001b[0;32m   2234\u001b[0m     d_error \u001b[38;5;241m+\u001b[39m\u001b[38;5;241m=\u001b[39m d_loss\n\u001b[0;32m   2235\u001b[0m     g_error \u001b[38;5;241m+\u001b[39m\u001b[38;5;241m=\u001b[39m g_loss\n",
      "File \u001b[1;32mc:\\users\\marcp\\documents\\programming\\python\\neuralnetlib\\neuralnetlib\\models.py:2130\u001b[0m, in \u001b[0;36mGAN.train_on_batch\u001b[1;34m(self, real_samples, n_gen_samples, n_critic)\u001b[0m\n\u001b[0;32m   2127\u001b[0m batch_real \u001b[38;5;241m=\u001b[39m real_samples[rng\u001b[38;5;241m.\u001b[39mchoice(real_batch_size, half_batch, replace\u001b[38;5;241m=\u001b[39m\u001b[38;5;28;01mFalse\u001b[39;00m)]\n\u001b[0;32m   2129\u001b[0m latent_points \u001b[38;5;241m=\u001b[39m \u001b[38;5;28mself\u001b[39m\u001b[38;5;241m.\u001b[39m_generate_latent_points(half_batch)\n\u001b[1;32m-> 2130\u001b[0m generated_samples \u001b[38;5;241m=\u001b[39m \u001b[38;5;28;43mself\u001b[39;49m\u001b[38;5;241;43m.\u001b[39;49m\u001b[43mgenerator\u001b[49m\u001b[38;5;241;43m.\u001b[39;49m\u001b[43mforward_pass\u001b[49m\u001b[43m(\u001b[49m\u001b[43mlatent_points\u001b[49m\u001b[43m,\u001b[49m\u001b[43m \u001b[49m\u001b[43mtraining\u001b[49m\u001b[38;5;241;43m=\u001b[39;49m\u001b[38;5;28;43;01mTrue\u001b[39;49;00m\u001b[43m)\u001b[49m\n\u001b[0;32m   2132\u001b[0m \u001b[38;5;28mself\u001b[39m\u001b[38;5;241m.\u001b[39m_apply_spectral_norm(\u001b[38;5;28mself\u001b[39m\u001b[38;5;241m.\u001b[39mdiscriminator)\n\u001b[0;32m   2134\u001b[0m disc_real_output \u001b[38;5;241m=\u001b[39m \u001b[38;5;28mself\u001b[39m\u001b[38;5;241m.\u001b[39mdiscriminator\u001b[38;5;241m.\u001b[39mforward_pass(batch_real, training\u001b[38;5;241m=\u001b[39m\u001b[38;5;28;01mTrue\u001b[39;00m)\n",
      "File \u001b[1;32mc:\\users\\marcp\\documents\\programming\\python\\neuralnetlib\\neuralnetlib\\models.py:146\u001b[0m, in \u001b[0;36mSequential.forward_pass\u001b[1;34m(self, X, training)\u001b[0m\n\u001b[0;32m    144\u001b[0m \u001b[38;5;28;01mfor\u001b[39;00m layer \u001b[38;5;129;01min\u001b[39;00m \u001b[38;5;28mself\u001b[39m\u001b[38;5;241m.\u001b[39mlayers:\n\u001b[0;32m    145\u001b[0m     \u001b[38;5;28;01mif\u001b[39;00m \u001b[38;5;28misinstance\u001b[39m(layer, (Dropout, BatchNormalization, LSTM, Bidirectional, GRU)):\n\u001b[1;32m--> 146\u001b[0m         X \u001b[38;5;241m=\u001b[39m \u001b[43mlayer\u001b[49m\u001b[38;5;241;43m.\u001b[39;49m\u001b[43mforward_pass\u001b[49m\u001b[43m(\u001b[49m\u001b[43mX\u001b[49m\u001b[43m,\u001b[49m\u001b[43m \u001b[49m\u001b[43mtraining\u001b[49m\u001b[43m)\u001b[49m\n\u001b[0;32m    147\u001b[0m     \u001b[38;5;28;01melse\u001b[39;00m:\n\u001b[0;32m    148\u001b[0m         X \u001b[38;5;241m=\u001b[39m layer\u001b[38;5;241m.\u001b[39mforward_pass(X)\n",
      "File \u001b[1;32mc:\\users\\marcp\\documents\\programming\\python\\neuralnetlib\\neuralnetlib\\layers.py:1164\u001b[0m, in \u001b[0;36mBatchNormalization.forward_pass\u001b[1;34m(self, input_data, training)\u001b[0m\n\u001b[0;32m   1161\u001b[0m input_data \u001b[38;5;241m=\u001b[39m np\u001b[38;5;241m.\u001b[39mclip(input_data, \u001b[38;5;241m-\u001b[39m\u001b[38;5;241m10\u001b[39m, \u001b[38;5;241m10\u001b[39m)\n\u001b[0;32m   1163\u001b[0m \u001b[38;5;28;01mif\u001b[39;00m training:\n\u001b[1;32m-> 1164\u001b[0m     \u001b[38;5;28mself\u001b[39m\u001b[38;5;241m.\u001b[39mbatch_mean \u001b[38;5;241m=\u001b[39m \u001b[43mnp\u001b[49m\u001b[38;5;241;43m.\u001b[39;49m\u001b[43mmean\u001b[49m\u001b[43m(\u001b[49m\u001b[43minput_data\u001b[49m\u001b[43m,\u001b[49m\u001b[43m \u001b[49m\u001b[43maxis\u001b[49m\u001b[38;5;241;43m=\u001b[39;49m\u001b[38;5;241;43m0\u001b[39;49m\u001b[43m)\u001b[49m\n\u001b[0;32m   1165\u001b[0m     \u001b[38;5;28mself\u001b[39m\u001b[38;5;241m.\u001b[39mbatch_var \u001b[38;5;241m=\u001b[39m np\u001b[38;5;241m.\u001b[39mvar(input_data, axis\u001b[38;5;241m=\u001b[39m\u001b[38;5;241m0\u001b[39m) \u001b[38;5;241m+\u001b[39m \u001b[38;5;28mself\u001b[39m\u001b[38;5;241m.\u001b[39mepsilon\n\u001b[0;32m   1167\u001b[0m     \u001b[38;5;28mself\u001b[39m\u001b[38;5;241m.\u001b[39mrunning_mean \u001b[38;5;241m=\u001b[39m \u001b[38;5;28mself\u001b[39m\u001b[38;5;241m.\u001b[39mmomentum \u001b[38;5;241m*\u001b[39m \u001b[38;5;28mself\u001b[39m\u001b[38;5;241m.\u001b[39mrunning_mean \u001b[38;5;241m+\u001b[39m (\u001b[38;5;241m1\u001b[39m \u001b[38;5;241m-\u001b[39m \u001b[38;5;28mself\u001b[39m\u001b[38;5;241m.\u001b[39mmomentum) \u001b[38;5;241m*\u001b[39m \u001b[38;5;28mself\u001b[39m\u001b[38;5;241m.\u001b[39mbatch_mean\n",
      "File \u001b[1;32m<__array_function__ internals>:200\u001b[0m, in \u001b[0;36mmean\u001b[1;34m(*args, **kwargs)\u001b[0m\n",
      "File \u001b[1;32mc:\\Program Files\\Python310\\lib\\site-packages\\numpy\\core\\fromnumeric.py:3464\u001b[0m, in \u001b[0;36mmean\u001b[1;34m(a, axis, dtype, out, keepdims, where)\u001b[0m\n\u001b[0;32m   3461\u001b[0m     \u001b[38;5;28;01melse\u001b[39;00m:\n\u001b[0;32m   3462\u001b[0m         \u001b[38;5;28;01mreturn\u001b[39;00m mean(axis\u001b[38;5;241m=\u001b[39maxis, dtype\u001b[38;5;241m=\u001b[39mdtype, out\u001b[38;5;241m=\u001b[39mout, \u001b[38;5;241m*\u001b[39m\u001b[38;5;241m*\u001b[39mkwargs)\n\u001b[1;32m-> 3464\u001b[0m \u001b[38;5;28;01mreturn\u001b[39;00m _methods\u001b[38;5;241m.\u001b[39m_mean(a, axis\u001b[38;5;241m=\u001b[39maxis, dtype\u001b[38;5;241m=\u001b[39mdtype,\n\u001b[0;32m   3465\u001b[0m                       out\u001b[38;5;241m=\u001b[39mout, \u001b[38;5;241m*\u001b[39m\u001b[38;5;241m*\u001b[39mkwargs)\n",
      "File \u001b[1;32mc:\\Program Files\\Python310\\lib\\site-packages\\numpy\\core\\_methods.py:181\u001b[0m, in \u001b[0;36m_mean\u001b[1;34m(a, axis, dtype, out, keepdims, where)\u001b[0m\n\u001b[0;32m    178\u001b[0m         dtype \u001b[38;5;241m=\u001b[39m mu\u001b[38;5;241m.\u001b[39mdtype(\u001b[38;5;124m'\u001b[39m\u001b[38;5;124mf4\u001b[39m\u001b[38;5;124m'\u001b[39m)\n\u001b[0;32m    179\u001b[0m         is_float16_result \u001b[38;5;241m=\u001b[39m \u001b[38;5;28;01mTrue\u001b[39;00m\n\u001b[1;32m--> 181\u001b[0m ret \u001b[38;5;241m=\u001b[39m \u001b[43mumr_sum\u001b[49m\u001b[43m(\u001b[49m\u001b[43marr\u001b[49m\u001b[43m,\u001b[49m\u001b[43m \u001b[49m\u001b[43maxis\u001b[49m\u001b[43m,\u001b[49m\u001b[43m \u001b[49m\u001b[43mdtype\u001b[49m\u001b[43m,\u001b[49m\u001b[43m \u001b[49m\u001b[43mout\u001b[49m\u001b[43m,\u001b[49m\u001b[43m \u001b[49m\u001b[43mkeepdims\u001b[49m\u001b[43m,\u001b[49m\u001b[43m \u001b[49m\u001b[43mwhere\u001b[49m\u001b[38;5;241;43m=\u001b[39;49m\u001b[43mwhere\u001b[49m\u001b[43m)\u001b[49m\n\u001b[0;32m    182\u001b[0m \u001b[38;5;28;01mif\u001b[39;00m \u001b[38;5;28misinstance\u001b[39m(ret, mu\u001b[38;5;241m.\u001b[39mndarray):\n\u001b[0;32m    183\u001b[0m     \u001b[38;5;28;01mwith\u001b[39;00m _no_nep50_warning():\n",
      "\u001b[1;31mKeyboardInterrupt\u001b[0m: "
     ]
    }
   ],
   "source": [
    "epochs = 100\n",
    "batch_size = 128\n",
    "\n",
    "history = gan.fit(\n",
    "    X_reshaped,\n",
    "    epochs=epochs,\n",
    "    batch_size=batch_size,\n",
    "    verbose=True,\n",
    "    metrics=['mmd']\n",
    ")"
   ]
  },
  {
   "cell_type": "code",
   "execution_count": 8,
   "metadata": {},
   "outputs": [
    {
     "name": "stderr",
     "output_type": "stream",
     "text": [
      "C:\\Users\\marcp\\AppData\\Local\\Temp\\ipykernel_21064\\3687687509.py:15: MatplotlibDeprecationWarning: Auto-removal of overlapping axes is deprecated since 3.6 and will be removed two minor releases later; explicitly call ax.remove() as needed.\n",
      "  plt.subplot(n_rows, n_cols*2, idx*2 + 1)\n"
     ]
    },
    {
     "data": {
      "image/png": "[encoded data removed]",
      "text/plain": [
       "<Figure size 1500x800 with 50 Axes>"
      ]
     },
     "metadata": {},
     "output_type": "display_data"
    }
   ],
   "source": [
    "def visualize_mnist_samples(gan_model, n_samples=25, n_cols=5):\n",
    "    n_rows = n_samples // n_cols\n",
    "    plt.figure(figsize=(15, 8))\n",
    "\n",
    "    generated_samples = gan_model.predict(n_samples)\n",
    "    \n",
    "    generated_samples = (generated_samples + 1) / 2\n",
    "    \n",
    "    rng = np.random.default_rng(42)\n",
    "    real_indices = rng.integers(0, X_reshaped.shape[0], n_samples)\n",
    "    real_samples = (X_reshaped[real_indices] + 1) / 2\n",
    "\n",
    "    plt.subplot(1, 2, 1)\n",
    "    for idx in range(n_samples):\n",
    "        plt.subplot(n_rows, n_cols*2, idx*2 + 1)\n",
    "        plt.imshow(generated_samples[idx].reshape(28, 28), cmap='gray')\n",
    "        plt.axis('off')\n",
    "        if idx % n_cols == 0:\n",
    "            if idx == 0:\n",
    "                plt.title('Generated', pad=20)\n",
    "        \n",
    "        plt.subplot(n_rows, n_cols*2, idx*2 + 2)\n",
    "        plt.imshow(real_samples[idx].reshape(28, 28), cmap='gray')\n",
    "        plt.axis('off')\n",
    "        if idx % n_cols == 0:\n",
    "            if idx == 0:\n",
    "                plt.title('Real', pad=20)\n",
    "\n",
    "    plt.tight_layout()\n",
    "    plt.show()\n",
    "\n",
    "visualize_mnist_samples(gan)"
   ]
  }
 ],
 "metadata": {
  "kernelspec": {
   "display_name": "Python 3",
   "language": "python",
   "name": "python3"
  },
  "language_info": {
   "codemirror_mode": {
    "name": "ipython",
    "version": 3
   },
   "file_extension": ".py",
   "mimetype": "text/x-python",
   "name": "python",
   "nbconvert_exporter": "python",
   "pygments_lexer": "ipython3",
   "version": "3.10.8"
  }
 },
 "nbformat": 4,
 "nbformat_minor": 2
}
