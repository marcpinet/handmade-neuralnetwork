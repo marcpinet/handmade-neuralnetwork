{
 "cells": [
  {
   "cell_type": "markdown",
   "id": "37514bc3",
   "metadata": {},
   "source": [
    "# Autoencoders on Fashionized MNIST"
   ]
  },
  {
   "cell_type": "markdown",
   "id": "c00856f2",
   "metadata": {},
   "source": [
    "## Imports"
   ]
  },
  {
   "cell_type": "code",
   "execution_count": null,
   "id": "4977326d",
   "metadata": {
    "ExecuteTime": {
     "end_time": "2024-11-17T12:43:40.404726300Z",
     "start_time": "2024-11-17T12:43:39.693563700Z"
    }
   },
   "outputs": [],
   "source": [
    "from sklearn.datasets import fetch_openml\n",
    "from neuralnetlib.utils import train_test_split\n",
    "from neuralnetlib.models import Autoencoder\n",
    "from neuralnetlib.layers import *\n",
    "\n",
    "import matplotlib.pyplot as plt"
   ]
  },
  {
   "cell_type": "markdown",
   "id": "39acfc09",
   "metadata": {},
   "source": [
    "## Load Fashion MNIST"
   ]
  },
  {
   "cell_type": "code",
   "execution_count": 2,
   "id": "6f039b23",
   "metadata": {
    "ExecuteTime": {
     "end_time": "2024-11-17T12:43:50.054958200Z",
     "start_time": "2024-11-17T12:43:40.405731700Z"
    }
   },
   "outputs": [
    {
     "name": "stdout",
     "output_type": "stream",
     "text": [
      "Loading Fashion MNIST...\n"
     ]
    },
    {
     "name": "stderr",
     "output_type": "stream",
     "text": [
      "C:\\Users\\marcp\\AppData\\Roaming\\Python\\Python310\\site-packages\\sklearn\\datasets\\_openml.py:1002: FutureWarning: The default value of `parser` will change from `'liac-arff'` to `'auto'` in 1.4. You can set `parser='auto'` to silence this warning. Therefore, an `ImportError` will be raised from 1.4 if the dataset is dense and pandas is not installed. Note that the pandas parser may return different data types. See the Notes Section in fetch_openml's API doc for details.\n",
      "  warn(\n"
     ]
    },
    {
     "name": "stdout",
     "output_type": "stream",
     "text": [
      "Dataset shapes:\n",
      "Training data: (56000, 28, 28, 1)\n",
      "Test data: (14000, 28, 28, 1)\n"
     ]
    }
   ],
   "source": [
    "print(\"Loading Fashion MNIST...\")\n",
    "X, y = fetch_openml('Fashion-MNIST', version=1, return_X_y=True, as_frame=False)\n",
    "X = X.astype('float32') / 255.\n",
    "\n",
    "X = X.reshape(-1, 28, 28, 1)\n",
    "\n",
    "X_train, X_test = train_test_split(X, test_size=0.2, random_state=42)\n",
    "print(\"Dataset shapes:\")\n",
    "print(f\"Training data: {X_train.shape}\")\n",
    "print(f\"Test data: {X_test.shape}\")"
   ]
  },
  {
   "cell_type": "markdown",
   "id": "33d66641",
   "metadata": {},
   "source": [
    "## Create Autoencoder"
   ]
  },
  {
   "cell_type": "code",
   "execution_count": 3,
   "id": "0ba5635b",
   "metadata": {
    "ExecuteTime": {
     "end_time": "2024-11-17T12:43:50.070493800Z",
     "start_time": "2024-11-17T12:43:50.055965800Z"
    }
   },
   "outputs": [],
   "source": [
    "autoencoder = Autoencoder(random_state=42, skip_connections=True, variational=True)"
   ]
  },
  {
   "cell_type": "markdown",
   "id": "543d43d3",
   "metadata": {},
   "source": [
    "### Encoder"
   ]
  },
  {
   "cell_type": "code",
   "execution_count": 4,
   "id": "7c9a7a05",
   "metadata": {
    "ExecuteTime": {
     "end_time": "2024-11-17T12:43:50.089536400Z",
     "start_time": "2024-11-17T12:43:50.072496500Z"
    }
   },
   "outputs": [],
   "source": [
    "autoencoder.add_encoder_layer(Input((28, 28, 1)))\n",
    "autoencoder.add_encoder_layer(Conv2D(16, kernel_size=(3, 3), strides=(2, 2), activation='relu', padding='same'))\n",
    "autoencoder.add_encoder_layer(Conv2D(32, kernel_size=(3, 3), strides=(2, 2), activation='relu', padding='same'))\n",
    "autoencoder.add_encoder_layer(Flatten())\n",
    "\n",
    "# Variational bottleneck (mu, log_var)\n",
    "autoencoder.add_encoder_layer(Dense(64, activation='linear', name=\"mu\"))  # Mean of latent distribution\n",
    "autoencoder.add_encoder_layer(Dense(64, activation='linear', name=\"log_var\"))  # Log variance of latent distribution"
   ]
  },
  {
   "cell_type": "markdown",
   "id": "6a47ffcf",
   "metadata": {},
   "source": [
    "### Decoder"
   ]
  },
  {
   "cell_type": "code",
   "execution_count": 5,
   "id": "3c65ea32",
   "metadata": {
    "ExecuteTime": {
     "end_time": "2024-11-17T12:43:50.105061900Z",
     "start_time": "2024-11-17T12:43:50.087536Z"
    }
   },
   "outputs": [],
   "source": [
    "autoencoder.add_decoder_layer(Dense(7 * 7 * 32, activation='relu'))\n",
    "autoencoder.add_decoder_layer(Reshape((7, 7, 32)))\n",
    "\n",
    "autoencoder.add_decoder_layer(UpSampling2D(size=(2, 2)))  # Output: 14x14x32\n",
    "autoencoder.add_decoder_layer(Conv2D(16, kernel_size=(3, 3), activation='relu', padding='same'))\n",
    "\n",
    "autoencoder.add_decoder_layer(UpSampling2D(size=(2, 2)))  # Output: 28x28x16\n",
    "autoencoder.add_decoder_layer(Conv2D(1, kernel_size=(3, 3), activation='sigmoid', padding='same'))  # Output: 28x28x1"
   ]
  },
  {
   "cell_type": "markdown",
   "id": "f23e41ad",
   "metadata": {},
   "source": [
    "### Compile"
   ]
  },
  {
   "cell_type": "code",
   "execution_count": 6,
   "id": "9926e67e",
   "metadata": {
    "ExecuteTime": {
     "end_time": "2024-11-17T12:43:50.129611600Z",
     "start_time": "2024-11-17T12:43:50.102557200Z"
    }
   },
   "outputs": [
    {
     "name": "stdout",
     "output_type": "stream",
     "text": [
      "Autoencoder(temperature=1.0, gradient_clip_threshold=5.0, enable_padding=False, padding_size=32, random_state=42, skip_connections=True, l1_reg=0.0, l2_reg=0.0)\n",
      "-------------------------------------------------\n",
      "Encoder:\n",
      "Layer 1: Input(input_shape=(28, 28, 1))\n",
      "Layer 2: Conv2D(num_filters=16, kernel_size=(3, 3), strides=(2, 2), padding=same)\n",
      "Layer 3: Activation(ReLU)\n",
      "Layer 4: Conv2D(num_filters=32, kernel_size=(3, 3), strides=(2, 2), padding=same)\n",
      "Layer 5: Activation(ReLU)\n",
      "Layer 6: Flatten\n",
      "Layer 7: Dense(units=64)\n",
      "Layer 8: Activation(Linear)\n",
      "Layer 9: Dense(units=64)\n",
      "Layer 10: Activation(Linear)\n",
      "-------------------------------------------------\n",
      "Decoder:\n",
      "Layer 1: Dense(units=1568)\n",
      "Layer 2: Activation(ReLU)\n",
      "Layer 3: Reshape(target_shape=(7, 7, 32), input_shape=None)\n",
      "Layer 4: UpSampling2D(size=(2, 2), interpolation=nearest)\n",
      "Layer 5: Conv2D(num_filters=16, kernel_size=(3, 3), strides=(1, 1), padding=same)\n",
      "Layer 6: Activation(ReLU)\n",
      "Layer 7: UpSampling2D(size=(2, 2), interpolation=nearest)\n",
      "Layer 8: Conv2D(num_filters=1, kernel_size=(3, 3), strides=(1, 1), padding=same)\n",
      "Layer 9: Activation(Sigmoid)\n",
      "-------------------------------------------------\n",
      "Encoder loss function: KullbackLeiblerDivergence\n",
      "Decoder loss function: MeanSquaredError\n",
      "Encoder optimizer: Adam(learning_rate=0.001, beta_1=0.9, beta_2=0.999, epsilon=1e-08, clip_norm=None, clip_value=None)\n",
      "Decoder optimizer: Adam(learning_rate=0.001, beta_1=0.9, beta_2=0.999, epsilon=1e-08, clip_norm=None, clip_value=None)\n",
      "-------------------------------------------------\n",
      "\n"
     ]
    }
   ],
   "source": [
    "autoencoder.compile(\n",
    "    encoder_loss='kld',  # Kullback-Leibler divergence\n",
    "    decoder_loss='mse',  # Reconstruction loss\n",
    "    encoder_optimizer='adam',\n",
    "    decoder_optimizer='adam',\n",
    "    verbose=True\n",
    ")"
   ]
  },
  {
   "cell_type": "markdown",
   "id": "a849c7b4",
   "metadata": {},
   "source": [
    "## Train"
   ]
  },
  {
   "cell_type": "code",
   "execution_count": 7,
   "id": "2b203201",
   "metadata": {
    "ExecuteTime": {
     "end_time": "2024-11-17T12:44:24.545070300Z",
     "start_time": "2024-11-17T12:43:50.118085600Z"
    }
   },
   "outputs": [
    {
     "name": "stdout",
     "output_type": "stream",
     "text": [
      "[==============================] 100% Epoch 1/5 - loss: 0.1242 -  - 167.57s\n",
      "[==============================] 100% Epoch 2/5 - loss: 0.1161 -  - 174.12s\n",
      "[==============================] 100% Epoch 3/5 - loss: 0.1446 -  - 183.64s\n",
      "[==============================] 100% Epoch 4/5 - loss: 0.1494 -  - 183.82s\n",
      "[==============================] 100% Epoch 5/5 - loss: 0.1394 -  - 182.60s\n",
      "\n"
     ]
    }
   ],
   "source": [
    "history = autoencoder.fit(\n",
    "    X_train,\n",
    "    epochs=5,\n",
    "    batch_size=256,\n",
    "    validation_data=(X_test,),\n",
    "    verbose=True,\n",
    ")"
   ]
  },
  {
   "cell_type": "markdown",
   "id": "7bf0a8a1",
   "metadata": {
    "collapsed": false
   },
   "source": [
    "## Visualize Original vs Reconstructed Images"
   ]
  },
  {
   "cell_type": "code",
   "execution_count": 8,
   "id": "97193fec",
   "metadata": {
    "ExecuteTime": {
     "start_time": "2024-11-17T12:44:24.539562500Z"
    }
   },
   "outputs": [
    {
     "data": {
      "image/png": "[encoded data removed]",
      "text/plain": [
       "<Figure size 1000x200 with 10 Axes>"
      ]
     },
     "metadata": {},
     "output_type": "display_data"
    }
   ],
   "source": [
    "generated_images = autoencoder.generate_image(X_train, n_samples=10, seed=42)\n",
    "\n",
    "plt.figure(figsize=(10, 2))\n",
    "for i in range(10):\n",
    "    plt.subplot(1, 10, i + 1)\n",
    "    plt.imshow(generated_images[i].reshape(28, 28), cmap='gray')\n",
    "    plt.axis('off')\n",
    "plt.show()"
   ]
  }
 ],
 "metadata": {
  "kernelspec": {
   "display_name": "Python 3",
   "language": "python",
   "name": "python3"
  },
  "language_info": {
   "codemirror_mode": {
    "name": "ipython",
    "version": 3
   },
   "file_extension": ".py",
   "mimetype": "text/x-python",
   "name": "python",
   "nbconvert_exporter": "python",
   "pygments_lexer": "ipython3",
   "version": "3.10.8"
  }
 },
 "nbformat": 4,
 "nbformat_minor": 5
}
